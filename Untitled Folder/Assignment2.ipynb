{
 "cells": [
  {
   "cell_type": "markdown",
   "metadata": {},
   "source": [
    "# Formalia:\n",
    "\n",
    "Please read the [assignment overview page](https://github.com/suneman/socialgraphs2016/wiki/Assignments) carefully before proceeding. This page contains information about formatting (including formats etc), group sizes, and many other aspects of handing in the assignment. \n",
    "\n",
    "_If you fail to follow these simple instructions, it will negatively impact your grade!_\n",
    "\n",
    "**Due date and time**: The assignment is due on Tuesday November 1st at 23:55. Hand in your IPython notebook file (with extension `.ipynb`) via http://peergrade.io/."
   ]
  },
  {
   "cell_type": "markdown",
   "metadata": {
    "collapsed": true
   },
   "source": [
    "# Part I: Advanced Network Structure\n",
    "\n",
    "We start by looking at the structure of the the philosopher network using the more complicated network measures. If your network has more than one component, just work on the _giant connected component_ (GCC) in the exercises below (in a directed graph use the [_weakly_ connected component](https://networkx.github.io/documentation/networkx-1.9.1/reference/algorithms.component.html)).\n",
    "\n",
    "Not all of the measures we'll be considering below are defined for directed graphs, thus begin by creating an [undirected version](https://networkx.github.io/documentation/networkx-1.9.1/reference/generated/networkx.DiGraph.to_undirected.html) of the philosopher graph, that we can use whenever needed. Only use the undirected graph when explicitly stated in the exercise.\n"
   ]
  },
  {
   "cell_type": "code",
   "execution_count": 2,
   "metadata": {
    "collapsed": false
   },
   "outputs": [
    {
     "name": "stdout",
     "output_type": "stream",
     "text": [
      "1161\n"
     ]
    }
   ],
   "source": [
    "# Create a list of all philosophers from six different branches\n",
    "import io\n",
    "import re\n",
    "\n",
    "branches_of_phi = ['aestheticians', 'epistemologists',\n",
    "                   'ethicists', 'logicians', 'metaphysicians',\n",
    "                   'social_and_political_philosophers']\n",
    "\n",
    "all_phi = []\n",
    "for phi in branches_of_phi:\n",
    "    f = io.open('./wikitext_' + phi + '.txt', 'r', encoding='utf8')\n",
    "    branch_of_phi = re.findall(r'\\[\\[(.*?)\\]\\]', f.read())\n",
    "    all_phi = all_phi + branch_of_phi\n",
    "\n",
    "# Deleting duplicates from prev. list and sort alphabetically\n",
    "philosophers = sorted(set(all_phi))\n",
    "print(len(all_phi))"
   ]
  },
  {
   "cell_type": "code",
   "execution_count": 3,
   "metadata": {
    "collapsed": true
   },
   "outputs": [],
   "source": [
    "import urllib2\n",
    "import json\n",
    "\n",
    "# Function for retrieving json data from Wikipedia\n",
    "def jsonWiki( name ):\n",
    "    # Parameters for retrieving page from wikipedia\n",
    "    baseurl = 'https://en.wikipedia.org/w/api.php?'\n",
    "    action = \"action=query\"\n",
    "    title = \"titles=\" + name\n",
    "    content = \"prop=revisions&rvprop=content\"\n",
    "    dataformat = \"format=json\"\n",
    "\n",
    "    # Construct the query\n",
    "    query = \"%s%s&%s&%s&%s\" % (baseurl, action, title, content, dataformat)\n",
    "\n",
    "    # Download json format of wikipedia page\n",
    "    wikiresponse = urllib2.urlopen(query)\n",
    "    wikisource = wikiresponse.read()\n",
    "    wikijson = json.loads(wikisource)\n",
    "    \n",
    "    return wikijson"
   ]
  },
  {
   "cell_type": "code",
   "execution_count": 4,
   "metadata": {
    "collapsed": false
   },
   "outputs": [],
   "source": [
    "# Go through the list 'philosophers' and download their respective pages\n",
    "for i in philosophers:\n",
    "    #Convert philosophers' names from utf8 to string\n",
    "    nameStr = i.encode(\"utf-8\")\n",
    "    \n",
    "    # Whitespace changed to underscore\n",
    "    name_url = re.sub('\\s+', '_', nameStr)\n",
    "    \n",
    "    with io.open('./philosophers_json/' + name_url + '.json', 'w', encoding='utf8') as json_file:\n",
    "        json_file.write(unicode(json.dumps(jsonWiki(name_url), ensure_ascii=False)))"
   ]
  },
  {
   "cell_type": "code",
   "execution_count": 5,
   "metadata": {
    "collapsed": true
   },
   "outputs": [],
   "source": [
    "import networkx as nx\n",
    "\n",
    "# Create a network called P\n",
    "P = nx.DiGraph()\n",
    "\n",
    "# Go through list of philosophers and add notes to P for every philosopher\n",
    "for i in philosophers:\n",
    "    P.add_node(i)"
   ]
  },
  {
   "cell_type": "code",
   "execution_count": 6,
   "metadata": {
    "collapsed": true
   },
   "outputs": [],
   "source": [
    "# Go through list of philosophers and find links\n",
    "for i in philosophers: \n",
    "    # Whitespace changed to underscore\n",
    "    name_url = re.sub('\\s+', '_', i)\n",
    "    \n",
    "    f = io.open('./philosophers_json/' + name_url + '.json', 'r', encoding='utf8')\n",
    "    phi_link = re.findall(r'\\[\\[(.*?)\\]\\]', f.read())\n",
    "    \n",
    "    # Add directed link from philosopher A to philosopher B \n",
    "    for ii in philosophers:\n",
    "        if (ii in phi_link):\n",
    "            P.add_edge(i, ii)"
   ]
  },
  {
   "cell_type": "code",
   "execution_count": 7,
   "metadata": {
    "collapsed": false,
    "scrolled": true
   },
   "outputs": [
    {
     "name": "stdout",
     "output_type": "stream",
     "text": [
      "Number of nodes in P: 1015\n",
      "Number of links in P: 3534\n",
      "Number of nodes in P (undirected): 1015\n",
      "Number of links in P (undirected): 2909\n"
     ]
    }
   ],
   "source": [
    "# Create an undirected graph of network 'P'\n",
    "P_undirected = P.to_undirected()\n",
    "\n",
    "# Number of nodes in 'P'\n",
    "num_of_nodes = P_undirected.number_of_nodes()\n",
    "print('Number of nodes in P: ' + str(num_of_nodes))\n",
    "\n",
    "# Number of links in 'P'\n",
    "num_of_links = P.number_of_edges()\n",
    "print('Number of links in P: ' + str(num_of_links))\n",
    "\n",
    "# Number of nodes in 'P_undirected'\n",
    "num_of_nodes_undirected = P_undirected.number_of_nodes()\n",
    "print('Number of nodes in P (undirected): ' + str(num_of_nodes_undirected))\n",
    "\n",
    "# Number of links in 'P_undirected'\n",
    "num_of_links_undirected = P_undirected.number_of_edges()\n",
    "print('Number of links in P (undirected): ' + str(num_of_links_undirected))"
   ]
  },
  {
   "cell_type": "markdown",
   "metadata": {},
   "source": [
    "* Find the 5 most central philosophers according to [betweenness centrality](https://networkx.github.io/documentation/networkx-1.9.1/reference/generated/networkx.algorithms.centrality.betweenness_centrality.html). What role do you imagine philosophers with high wikipedia graph betweenness centrality play in the history of philosophy?\n"
   ]
  },
  {
   "cell_type": "code",
   "execution_count": 8,
   "metadata": {
    "collapsed": false,
    "scrolled": true
   },
   "outputs": [
    {
     "name": "stdout",
     "output_type": "stream",
     "text": [
      "Bertrand Russell with value of 0.0556127067395\n",
      "Plato with value of 0.0395467362612\n",
      "Aristotle with value of 0.0376407589686\n",
      "David Hume with value of 0.0312091713353\n",
      "Immanuel Kant with value of 0.025797294612\n"
     ]
    }
   ],
   "source": [
    "import networkx as nx\n",
    "\n",
    "# Betweenness centrality for 'P'\n",
    "between_centrality = nx.betweenness_centrality(P)\n",
    "\n",
    "# Go through 'between_centrality' and add to two lists (names and values)\n",
    "between_centrality_names = []\n",
    "between_centrality_values = []\n",
    "for i in between_centrality:\n",
    "    between_centrality_names.append(i)\n",
    "    between_centrality_values.append(between_centrality[i])\n",
    "    \n",
    "# Combining lists of names and values\n",
    "between_centrality_list = zip(between_centrality_names, between_centrality_values)\n",
    "\n",
    "# Sort by values\n",
    "between_centrality_sorted = sorted(between_centrality_list, key=lambda tup: tup[1], reverse=True)\n",
    "\n",
    "# Print the top 5\n",
    "for ii in between_centrality_sorted[0:5]:\n",
    "    print(ii[0] + ' with value of ' + str(ii[1]))"
   ]
  },
  {
   "cell_type": "markdown",
   "metadata": {},
   "source": [
    " Betweened centrality is measuring how central the node is network. Important is that the node with high between centtrality play key role in terms of information transfer in network, under the assumption that information transfer follows the shortest paths. \n",
    " Philosophers with high graph betweenness centrality play in the history of philosophy important role. They have been very influential too other philosophers. They were sort of inspiration to the others. They were precursors of the new field or sub-field of philosophy from which other took inspiration. "
   ]
  },
  {
   "cell_type": "markdown",
   "metadata": {},
   "source": [
    "* Find the 5 most central philosophers according to [eigenvector centrality](https://networkx.github.io/documentation/networkx-1.9.1/reference/generated/networkx.algorithms.centrality.eigenvector_centrality.html). Calculate centrality corresponding to both in- and out-edges (see NetworkX documentation for details). \n"
   ]
  },
  {
   "cell_type": "code",
   "execution_count": 9,
   "metadata": {
    "collapsed": false
   },
   "outputs": [
    {
     "name": "stdout",
     "output_type": "stream",
     "text": [
      "5 most central philosophers according to in-edges eigenvector centrality:\n",
      "Aristotle with value of 0.336027671212\n",
      "Bertrand Russell with value of 0.308030228092\n",
      "Plato with value of 0.267924798815\n",
      "Immanuel Kant with value of 0.214854494209\n",
      "Ludwig Wittgenstein with value of 0.194515660319\n",
      "\n",
      "\n",
      "5 most central philosophers according to out-edges eigenvector centrality:\n",
      "Martin Heidegger with value of 0.203269035598\n",
      "Gilles Deleuze with value of 0.174147207718\n",
      "Georg Wilhelm Friedrich Hegel with value of 0.170600021307\n",
      "Henri Bergson with value of 0.166159542536\n",
      "Friedrich Nietzsche with value of 0.164060794333\n"
     ]
    }
   ],
   "source": [
    "# Eigenvector centrality for in-edges\n",
    "eigenvector_centrality_in = nx.eigenvector_centrality(P)\n",
    "\n",
    "# Go through 'eigenvector centrality_in' and add to two lists (names and values)\n",
    "eigenvector_centrality_in_names = []\n",
    "eigenvector_centrality_in_values = []\n",
    "for i in eigenvector_centrality_in:\n",
    "    eigenvector_centrality_in_names.append(i)\n",
    "    eigenvector_centrality_in_values.append(eigenvector_centrality_in[i])\n",
    "    \n",
    "# Combining lists of names and values\n",
    "eigenvector_centrality_in_list = zip(eigenvector_centrality_in_names, eigenvector_centrality_in_values)\n",
    "\n",
    "# Sort by values\n",
    "eigenvector_centrality_in_sorted = sorted(eigenvector_centrality_in_list, key=lambda tup: tup[1], reverse=True)\n",
    "\n",
    "# Reverse P to find eigenvector centrality for out-edges\n",
    "P_reversed = P.reverse()\n",
    "\n",
    "# Eigenvector centrality for out-edges\n",
    "eigenvector_centrality_out = nx.eigenvector_centrality(P_reversed)\n",
    "\n",
    "# Go through 'eigenvector centrality_out' and add to two lists (names and values)\n",
    "eigenvector_centrality_out_names = []\n",
    "eigenvector_centrality_out_values = []\n",
    "for i in eigenvector_centrality_out:\n",
    "    eigenvector_centrality_out_names.append(i)\n",
    "    eigenvector_centrality_out_values.append(eigenvector_centrality_out[i])\n",
    "    \n",
    "# Combining lists of names and values\n",
    "eigenvector_centrality_out_list = zip(eigenvector_centrality_out_names, eigenvector_centrality_out_values)\n",
    "\n",
    "# Sort by values\n",
    "eigenvector_centrality_out_sorted = sorted(eigenvector_centrality_out_list, key=lambda tup: tup[1], reverse=True)\n",
    "\n",
    "print \"5 most central philosophers according to in-edges eigenvector centrality:\"\n",
    "# Print the top 5\n",
    "for ii in eigenvector_centrality_in_sorted[0:5]:\n",
    "    print(ii[0] + ' with value of ' + str(ii[1]))\n",
    "\n",
    "print \"\\n\"\n",
    "print \"5 most central philosophers according to out-edges eigenvector centrality:\"\n",
    "# Print the top 5\n",
    "for ii in eigenvector_centrality_out_sorted[0:5]:\n",
    "    print(ii[0] + ' with value of ' + str(ii[1]))"
   ]
  },
  {
   "cell_type": "markdown",
   "metadata": {},
   "source": [
    "How is eigenvector centrality difference from degree centrality? Compare your results for eigenvector centrality to the results for betweenness centrality - does the difference make sense when you read the philosopher's wikipedia pages?"
   ]
  },
  {
   "cell_type": "markdown",
   "metadata": {},
   "source": [
    "NEEDS WORK\n",
    "\n",
    "Eigenvector centrality is a measure of how important a node is while Degree centrality is a measure of the amount of links a node has. The difference is that the eigenvector centrality places more importance on what nodes that it is connected while degree centrality is taking into account more the degree of its own nodes and the node with highest degree. "
   ]
  },
  {
   "cell_type": "markdown",
   "metadata": {},
   "source": [
    "* Is the _undirected version_ of the graph [assortative with respect do degree](https://networkx.github.io/documentation/networkx-1.9.1/reference/generated/networkx.algorithms.assortativity.degree_assortativity_coefficient.html#networkx.algorithms.assortativity.degree_assortativity_coefficient)? (e.g. do high-degree philosophers tend to link to other high-degree philosophers, and low-degree philosophers to other low-degree philosophers?). Provide an interpretation of your answer!\n"
   ]
  },
  {
   "cell_type": "code",
   "execution_count": 10,
   "metadata": {
    "collapsed": false
   },
   "outputs": [
    {
     "name": "stdout",
     "output_type": "stream",
     "text": [
      "-0.0605791829009\n"
     ]
    }
   ],
   "source": [
    "assortativity = nx.degree_assortativity_coefficient(P_undirected)\n",
    "print assortativity"
   ]
  },
  {
   "cell_type": "markdown",
   "metadata": {},
   "source": [
    "The philosophers network is a bit dissortative what is result which was expected. High degree philosophers tend to link with other high degree philosophers and low degree philosophers. The different situation is with low degree philosophers who would like to expand their network by linking with more popular philosophers not low degree ones. "
   ]
  },
  {
   "cell_type": "markdown",
   "metadata": {},
   "source": [
    "We will now run community detection on the full philosopher network. \n",
    " \n",
    "* Use [the Python Louvain-algorithm implementation](http://perso.crans.org/aynaud/communities/) to find communities in the full philosopher network. Report the value of modularity found by the algorithm. "
   ]
  },
  {
   "cell_type": "code",
   "execution_count": 11,
   "metadata": {
    "collapsed": false
   },
   "outputs": [
    {
     "name": "stdout",
     "output_type": "stream",
     "text": [
      "aestheticians modularity is 0.0150920006083\n",
      "epistemologists modularity is 0.00949268288302\n",
      "ethicists modularity is 0.112483147274\n",
      "logicians modularity is 0.142679822379\n",
      "metaphysicians modularity is 0.0198245603047\n",
      "social_and_political_philosophers modularity is 0.183412841053\n",
      "\n",
      " Modularity of the Philosopher Network is 0.482985054502\n"
     ]
    }
   ],
   "source": [
    "aestheticians = []\n",
    "f = io.open('./wikitext_aestheticians.txt', 'r', encoding='utf8')\n",
    "aestheticians = re.findall(r'\\[\\[(.*?)\\]\\]', f.read())\n",
    "\n",
    "epistemologists = []\n",
    "f = io.open('./wikitext_epistemologists.txt', 'r', encoding='utf8')\n",
    "epistemologists = re.findall(r'\\[\\[(.*?)\\]\\]', f.read())\n",
    "\n",
    "ethicists = []\n",
    "f = io.open('./wikitext_ethicists.txt', 'r', encoding='utf8')\n",
    "ethicists = re.findall(r'\\[\\[(.*?)\\]\\]', f.read())\n",
    "\n",
    "logicians = []\n",
    "f = io.open('./wikitext_logicians.txt', 'r', encoding='utf8')\n",
    "logicians = re.findall(r'\\[\\[(.*?)\\]\\]', f.read())\n",
    "\n",
    "metaphysicians = []\n",
    "f = io.open('./wikitext_metaphysicians.txt', 'r', encoding='utf8')\n",
    "metaphysicians = re.findall(r'\\[\\[(.*?)\\]\\]', f.read())\n",
    "\n",
    "social_and_political = []\n",
    "f = io.open('./wikitext_social_and_political_philosophers.txt', 'r', encoding='utf8')\n",
    "social_and_political = re.findall(r'\\[\\[(.*?)\\]\\]', f.read())\n",
    "\n",
    "phi_branches_all = aestheticians + epistemologists + ethicists + logicians + metaphysicians + social_and_political\n",
    "\n",
    "phi_branches = [aestheticians, epistemologists, ethicists,\n",
    "                logicians, metaphysicians, social_and_political]\n",
    "\n",
    "# Find philosophers who appear in more than one list and sort them alphabetically\n",
    "phi_duplicates = sorted(set([x for x in all_phi if all_phi.count(x) > 1]))\n",
    "\n",
    "# Remove philosophers who appear more than once\n",
    "phi_no_duplicates = [x for x in phi_branches_all if x not in phi_duplicates]\n",
    "\n",
    "# Find aestheticians who appear in more than one list\n",
    "aestheticians_dup = []\n",
    "for i in aestheticians:\n",
    "    if(i in phi_duplicates):\n",
    "        aestheticians_dup.append(i)\n",
    "        \n",
    "# Remove aestheticians who appear more than once\n",
    "aestheticians_no_dup = [x for x in aestheticians if x not in aestheticians_dup]\n",
    "\n",
    "# Find epistemologists who appear in more than one list\n",
    "epistemologists_dup = []\n",
    "for i in epistemologists:\n",
    "    if(i in phi_duplicates):\n",
    "        epistemologists_dup.append(i)\n",
    "        \n",
    "# Remove epistemologists who appear more than once\n",
    "epistemologists_no_dup = [x for x in epistemologists if x not in epistemologists_dup]\n",
    "\n",
    "# Find ethicists who appear in more than one list\n",
    "ethicists_dup = []\n",
    "for i in ethicists:\n",
    "    if(i in phi_duplicates):\n",
    "        ethicists_dup.append(i)\n",
    "        \n",
    "# Remove ethicists who appear more than once\n",
    "ethicists_no_dup = [x for x in ethicists if x not in ethicists_dup]\n",
    "\n",
    "# Find logicians who appear in more than one list\n",
    "logicians_dup = []\n",
    "for i in logicians:\n",
    "    if(i in phi_duplicates):\n",
    "        logicians_dup.append(i)\n",
    "        \n",
    "# Remove logicians who appear more than once\n",
    "logicians_no_dup = [x for x in logicians if x not in logicians_dup]\n",
    "\n",
    "# Find metaphysicians who appear in more than one list\n",
    "metaphysicians_dup = []\n",
    "for i in metaphysicians:\n",
    "    if(i in phi_duplicates):\n",
    "        metaphysicians_dup.append(i)\n",
    "        \n",
    "# Remove metaphysicians who appear more than once\n",
    "metaphysicians_no_dup = [x for x in metaphysicians if x not in metaphysicians_dup]\n",
    "\n",
    "# Find social_and_political who appear in more than one list\n",
    "social_and_political_dup = []\n",
    "for i in social_and_political:\n",
    "    if(i in phi_duplicates):\n",
    "        social_and_political_dup.append(i)\n",
    "        \n",
    "# Remove social_and_political who appear more than once\n",
    "social_and_political_no_dup = [x for x in social_and_political if x not in social_and_political_dup]\n",
    "philosophers_no_dup_branches = [aestheticians_no_dup, epistemologists_no_dup, ethicists_no_dup,\n",
    "                               logicians_no_dup, metaphysicians_no_dup, social_and_political_no_dup]\n",
    "\n",
    "# Go through list of duplicated philosophers and find most links to branches\n",
    "aestheticians_counter = 0\n",
    "epistemologists_counter = 0\n",
    "ethicists_counter = 0\n",
    "logicians_counter = 0\n",
    "metaphysicians_counter = 0\n",
    "social_and_political_counter = 0\n",
    "phi_counter_list = []\n",
    "for i in phi_duplicates:\n",
    "    # Go through list of neighbours and find the branch the philosopher has the most links to\n",
    "    for ii in P_undirected.neighbors(i):\n",
    "        if(ii in aestheticians):\n",
    "            aestheticians_counter = aestheticians_counter + 1\n",
    "        \n",
    "        if(ii in epistemologists):\n",
    "            epistemologists_counter = epistemologists_counter + 1\n",
    "            \n",
    "        if(ii in ethicists):\n",
    "            ethicists_counter = ethicists_counter + 1\n",
    "            \n",
    "        if(ii in logicians):\n",
    "            logicians_counter = logicians_counter + 1\n",
    "            \n",
    "        if(ii in metaphysicians):\n",
    "            metaphysicians_counter = metaphysicians_counter + 1\n",
    "            \n",
    "        if(ii in social_and_political):\n",
    "            social_and_political_counter = social_and_political_counter + 1\n",
    "\n",
    "    # Add the counter numbers to a list\n",
    "    phi_counter_list.append(aestheticians_counter)\n",
    "    phi_counter_list.append(epistemologists_counter)\n",
    "    phi_counter_list.append(ethicists_counter)\n",
    "    phi_counter_list.append(logicians_counter)\n",
    "    phi_counter_list.append(metaphysicians_counter)\n",
    "    phi_counter_list.append(social_and_political_counter)\n",
    "    \n",
    "    # Find the highest counter in 'phi_counter_list' and its index\n",
    "    max_value = max(phi_counter_list)\n",
    "    max_value_index = phi_counter_list.index(max_value)\n",
    "    \n",
    "    # Add philosopher to the branch he has the most links to\n",
    "    philosophers_no_dup_branches[max_value_index].append(i)\n",
    "    \n",
    "    # Initialize everything for the next philosopher\n",
    "    aestheticians_counter = 0\n",
    "    epistemologists_counter = 0\n",
    "    ethicists_counter = 0\n",
    "    logicians_counter = 0\n",
    "    metaphysicians_counter = 0\n",
    "    social_and_political_counter = 0\n",
    "    phi_counter_list = []\n",
    "\n",
    "# Create subgraph for each branch\n",
    "aestheticians_subgraph = P_undirected.subgraph(aestheticians_no_dup)\n",
    "epistemologists_subgraph = P_undirected.subgraph(epistemologists_no_dup)\n",
    "ethicists_subgraph = P_undirected.subgraph(ethicists_no_dup)\n",
    "logicians_subgraph = P_undirected.subgraph(logicians_no_dup)\n",
    "metaphysicians_subgraph = P_undirected.subgraph(metaphysicians_no_dup)\n",
    "social_and_political_subgraph = P_undirected.subgraph(social_and_political_no_dup)\n",
    "\n",
    "subgraphs_list = [aestheticians_subgraph, epistemologists_subgraph, ethicists_subgraph,\n",
    "                 logicians_subgraph, metaphysicians_subgraph, social_and_political_subgraph]\n",
    "# Modularity: Mc = (Lc/L) - (Kc/2*L)^2\n",
    "# Lc is the total number of links within the community and kc is the total degree of the nodes in this community\n",
    "\n",
    "# Total links in the network\n",
    "L = len(P_undirected.edges())\n",
    "\n",
    "# Go through each subgraph and calculate its modularity\n",
    "total_modularity = 0\n",
    "for i in range(0,6):\n",
    "    Lc = len(subgraphs_list[i].edges())\n",
    "    Kc = len(subgraphs_list[i].nodes())\n",
    "    modularity = (float(Lc)/float(L)) - ((float(Kc)/(2*float(L))))**2\n",
    "    print(branches_of_phi[i] + ' modularity is ' + str(modularity))\n",
    "    total_modularity += modularity\n",
    "\n",
    "print \"\\n Modularity of the Philosopher Network is %s\" %total_modularity"
   ]
  },
  {
   "cell_type": "code",
   "execution_count": 46,
   "metadata": {
    "collapsed": false
   },
   "outputs": [
    {
     "name": "stdout",
     "output_type": "stream",
     "text": [
      "236\n",
      "Modularity of the Philosopher Network is 0.478027909969 according to the Louvain algorithm\n"
     ]
    }
   ],
   "source": [
    "import community\n",
    "partition = community.best_partition(P_undirected)\n",
    "modularity = community.modularity(partition, P_undirected)\n",
    "print max(partition.values()) + 1\n",
    "print \"Modularity of the Philosopher Network is %s according to the Louvain algorithm\" % modularity"
   ]
  },
  {
   "cell_type": "code",
   "execution_count": 25,
   "metadata": {
    "collapsed": false
   },
   "outputs": [
    {
     "name": "stdout",
     "output_type": "stream",
     "text": [
      "2909\n",
      "[(u'Toju Nakae', 235), (u'Frank Plumpton Ramsey', 234), (u'James Hinton', 233), (u'David Korten', 232), (u'Daniel Wikler', 231), (u'Partha Dasgupta', 230), (u'Philip Mazzei', 229), (u'Jerzy \\u0141o\\u015b', 228), (u'Johann Georg Walch', 227), (u'Georg Mehlis', 226), (u'Bob Meyer (logician)', 225), (u'Luca Vercelloni', 224), (u'Karl Wilhelm Ferdinand Solger', 223), (u'Tripp York', 222), (u'Bahmanyar', 221), (u\"Francesco D'Andrea\", 220), (u'Wesley Newcomb Hohfeld', 219), (u'Brian Leftow', 218), (u'Peter Kivy', 217), (u'Michael Davis (philosopher)', 216), (u'Alexander Esenin-Volpin', 215), (u'Arthur Linton Corbin', 214), (u'Peter Lunenfeld', 213), (u'Phillip H. Wiebe', 212), (u'Alija Izetbegovi\\u0107', 211), (u'Christopher Janaway', 210), (u'Siegfried Gottwald', 209), (u'Theodor Mundt', 208), (u'Grigori Mints', 207), (u'Alastair Norcross', 206), (u'John M. Cooper', 205), (u'William C. Dowling', 204), (u'Wau Holland', 203), (u'Charles de Secondat, baron de Montesquieu', 202), (u'Margaret Somerville', 201), (u'John Ralston Saul', 200), (u'Donella Meadows', 199), (u'Frank Herbert', 198), (u'Giovanni Battista Scaramelli', 197), (u'Roberto Esposito', 196), (u'Loren Lomasky', 195), (u'Jay Rosenberg', 194), (u'Suzy Kassem', 193), (u'Richard Meltzer', 192), (u'Gregory Currie', 191), (u'Barron Lerner', 190), (u'Wu Enyu', 189), (u'Sam Murgatroyd', 188), (u'Robert Kowalski', 187), (u'Richard Brinkley', 186), (u'Virgil Aldrich', 185), (u'Rolf Schock', 184), (u'Graeme Forbes', 183), (u'Radhakamal Mukerjee', 182), (u'Norbert Leser', 181), (u'William of Sherwood', 180), (u'Leonidas Donskis', 179), (u'Joseph de Torre', 178), (u'Janet Coleman', 177), (u'Karl Loewenstein', 176), (u'Roger Chao', 175), (u'Nigel Warburton', 174), (u'Dana Ward', 173), (u'August Wilhelm von Schlegel', 172), (u'Francis Ernest Jackson', 171), (u'Joan Tronto', 170), (u'Karla Jessen Williamson', 169), (u'Glenn McGee', 168), (u'Arthur Caplan', 168), (u'Tan Sitong', 167), (u'Mohandas Karamchand Gandhi', 166), (u'Cameron Breen', 165), (u'Anne Conway, Viscountess Conway', 164), (u'Alan Bundy', 163), (u'Randy Cohen', 162), (u'Ferdinand Gotthelf Hand', 161), (u'Ny\\u0101ya S\\u016btras', 160), (u'Udayana', 160), (u'William Fontaine', 159), (u'Tomek Pietkiewicz', 158), (u'Joseph Fletcher', 157), (u'Richard the Sophister', 156), (u'Linda Trinkaus Zagzebski', 155), (u'Joachim Lambek', 154), (u'Raghunatha Siromani', 153), (u'Pavel Tich\\xfd', 152), (u'George Ohsawa', 151), (u'Vladimir Andreyevich Uspensky', 150), (u'Alexander S. Kechris', 149), (u'Yiannis N. Moschovakis', 149), (u'Roland Fra\\xefss\\xe9', 148), (u'Karl Wilhelm Friedrich von Schlegel', 147), (u'Moshe Y. Vardi', 146), (u'Pierre Abelard', 145), (u'Zalman Schachter-Shalomi', 144), (u'John Peters Humphrey', 143), (u'Umar bin al-Khattab', 142), (u'Sol Garfunkel', 141), (u'Ziauddin Sardar', 140), (u'David Kolb', 139), (u'Liu Xie', 138), (u'Alcuin', 137), (u'Carrie Ichikawa Jenkins', 136), (u'Gerhard Vollmer', 135), (u'David Friedrich Strauss', 134), (u'Morris Weitz', 133), (u'Michael Novak', 132), (u'Peter D. Klein', 131), (u'Anandavardhana', 130), (u'Yves Marie Andr\\xe9', 129), (u'Craig Paterson', 128), (u'Rushworth Kidder', 127), (u'T. H. Irwin', 126), (u'Frank Schmalleger', 125), (u'Stanley Grenz', 124), (u'Sandra Harding', 123), (u'Hans Achterhuis', 123), (u'Donna Haraway', 123), (u'Langdon Winner', 123), (u'Antoine Garaby de La Luzerne', 122), (u'Theodor Sternberg', 121), (u'C. A. Meredith', 120), (u'Manuel De Landa', 119), (u'John Oswald (activist)', 118), (u'Richard Ferrybridge', 117), (u'Fatema Mernissi', 116), (u\"Ismail Raji' al-Faruqi\", 115), (u'Archon', 114), (u'Emma Rush', 113), (u'Saunders MacLane', 112), (u'Margaret Elizabeth Egan', 111), (u'Costas Douzinas', 110), (u'Mioara Mugur-Sch\\xe4chter', 109), (u'Owen Flanagan', 108), (u'Dugald Macpherson', 107), (u\"John Joseph O'Connor\", 106), (u'Milan Kangrga', 105), (u'Martin Dorp', 104), (u'Sedulius Scottus', 103), (u'Claudio Canaparo', 102), (u'W.K. Wimsatt', 101), (u'John Stevens Cabot Abbott', 100), (u'Lennart \\xc5qvist', 99), (u'John Maeda', 98), (u'Michael A. E. Dummett', 97), (u'Petr H\\xe1jek', 96), (u'Julia Driver', 95), (u'Aleksandr Zinovyev', 94), (u'Bruce Lee', 93), (u'William Craig (logician)', 92), (u'Garry Hagberg', 91), (u'Heiric of Auxerre', 90), (u'John Arthur (philosopher)', 89), (u'Arthur C. Danto', 88), (u'Marcion of Sinope', 87), (u'Shmuel Alexandrov', 86), (u'Richard Kilvington', 85), (u'Herman Oliphant', 84), (u'Karl Immanuel Nitzsch', 83), (u'Norman Daniels', 82), (u'Daniel Brock', 82), (u'Stuart Wilde', 81), (u'Nomy Arpaly', 80), (u'Louis Pojman', 79), (u'Jessica Wilson', 78), (u'Horace Romano Harr\\xe9', 77), (u'Lalita Pandit', 76), (u'Steven Poole', 75), (u'Yehoshua Bar-Hillel', 74), (u'Frederick Rowbottom', 74), (u'Luitzen Egbertus Jan Brouwer', 74), (u'Henk Barendregt', 74), (u'Anne Sjerp Troelstra', 74), (u'Dirk van Dalen', 74), (u'Georg Kreisel', 74), (u'Arend Heyting', 74), (u'Giorgio Del Vecchio', 73), (u'Damon Young', 72), (u'Chaim Perelman', 71), (u'Alon Ben-Meir', 70), (u'Lucius Annaeus Seneca', 69), (u'Ronald Paulson', 68), (u'Guy Sircello', 67), (u'John R. Steel', 66), (u'Donald A. Martin', 66), (u'Ronald Jensen', 66), (u'Carveth Read', 65), (u'Laurence Bonjour', 64), (u'Lauri Ingman', 63), (u'Ant\\xf3nio Castanheira Neves', 62), (u'Paul H\\xe4berlin', 61), (u'Andreas Linder', 60), (u'Chankya', 59), (u'Hermann Theodor Hettner', 58), (u'Jaoudat Khouri', 57), (u'Henry Babcock Veatch', 56), (u'Etienne Gilson', 55), (u'Yusuf Balasagun', 54), (u'Alexander Gerard', 53), (u'Elliot N. Dorff', 52), (u'Ahmed Raza Khan', 51), (u'Alfred Horn', 50), (u'Dimiter Skordev', 50), (u'Sergei Adian', 49), (u'Pyotr Novikov', 49), (u'Calvin Seerveld', 48), (u'Yi I', 47), (u'Paul R. Patton', 46), (u'Friedrich Daniel Ernst Schleiermacher', 45), (u'Nancy Cartwright (philosopher)', 44), (u'Jeffrey Friedman (political scientist)', 43), (u'Sally Haslanger', 42), (u'Philippe Van Parijs', 41), (u'Arnold Berleant', 40), (u'Russ Shafer-Landau', 39), (u'Jerry Farber', 38), (u'Raimond Gaita', 37), (u'Susanna Siegel', 36), (u'Graham Priest', 35), (u'Kit Fine', 35), (u'Alan Ross Anderson', 35), (u'Richard Sylvan', 35), (u'Nuel Belnap', 35), (u'John Lane Bell', 35), (u'Alasdair Urquhart', 35), (u'Richard Routley', 35), (u'Lotfi A. Zadeh', 35), (u'Lorenzo Pe\\xf1a', 35), (u'Edward Hundert', 34), (u'Stephen Bronner', 33), (u'Henry Pachter', 33), (u'David Crocker', 32), (u'William K. Frankena', 31), (u'Friedrich Wilhelm Joseph von Schelling', 30), (u'Monroe Beardsley', 29), (u'Duncan Kennedy (legal philosopher)', 28), (u'Mozi', 27), (u'Ogy\\u016b Sorai', 27), (u'Hayashi Razan', 27), (u'Cheng Yi (philosopher)', 27), (u'Disciples of Confucius', 27), (u'Xun Kuang', 27), (u'Gautama Buddha', 27), (u'Fujiwara Seika', 27), (u'Xun Zi', 27), (u'Cheng Hao', 27), (u'Zhuang Zhou', 27), (u'Confucius', 27), (u'Hirata Atsutane', 27), (u'It\\u014d Jinsai', 27), (u'Yamaga Sok\\u014d', 27), (u'Mencius', 27), (u'Han Fei', 27), (u'Hui Shi', 27), (u'Kaibara Ekken', 27), (u'Ashoka', 27), (u'Yamazaki Ansai', 27), (u'Hsun Tzu', 27), (u'Jacques Maritain', 26), (u'George Holmes Howison', 26), (u'B. R. Ambedkar', 26), (u'Hermann Lotze', 26), (u'Shadworth Hodgson', 26), (u'Israr Ahmed', 26), (u'Georg W. F. Hegel', 26), (u'Edgar Allan Poe', 26), (u'Isaac Levi', 26), (u'Swami Vivekananda', 26), (u'Vernon Lee', 26), (u'Jawaharlal Nehru', 26), (u'John Dewey', 26), (u'Oscar Wilde', 26), (u'Algernon Charles Swinburne', 26), (u'Muhammad Iqbal', 26), (u'Mohandas Gandhi', 26), (u'Walter Pater', 26), (u'Harold Bloom', 26), (u'Fyodor Shcherbatskoy', 26), (u'Ghazali', 26), (u'John William Miller', 26), (u'George Santayana', 26), (u'Ralph Waldo Emerson', 26), (u'Henri Bergson', 26), (u'John of St. Thomas', 26), (u'Bhimrao Ramji Ambedkar', 26), (u'Joseph Fins', 26), (u'Sri Aurobindo', 26), (u'Dharmakirti', 26), (u'Walter Terence Stace', 26), (u'William James', 26), (u'William Sweet', 26), (u'Abul Kalam Azad', 26), (u'John Ruskin', 26), (u'Dign\\u0101ga', 26), (u'Muhammad Asad', 26), (u'Mani Kaul', 25), (u'Franco Burgersdijk', 24), (u'Joseph Diaz Gergonne', 23), (u'Proclus Lycaeus', 22), (u'R. Edward Freeman', 21), (u'Andrzej Tadeusz Kijowski', 20), (u'Spencer Heath', 19), (u'Giorgi Japaridze', 18), (u'Michael A. Smith', 17), (u'Nayef Al-Rodhan', 16), (u'David Makinson', 15), (u'Garlandus Compotista', 14), (u'Oswald von Nell-Breuning', 13), (u'Miguel A. De La Torre', 12), (u'Lysander Spooner', 11), (u'Roderick Long', 11), (u'David D. Friedman', 11), (u'Carlo Lottieri', 11), (u'Friedrich Hayek', 11), (u'Leslie Stephen', 11), (u'Henry David Thoreau', 11), (u'David Prychitko', 11), (u'Frank Meyer (political philosopher)', 11), (u'Richard M. Weaver', 11), (u'Henry George', 11), (u'John Cage', 11), (u'Peter Kropotkin', 11), (u'John Hospers', 11), (u'Auberon Herbert', 11), (u'Har Dayal', 11), (u'Henry Hazlitt', 11), (u'Tara Smith (philosopher)', 11), (u'Mao Zedong', 11), (u'Isabel Paterson', 11), (u'Mikhail Bakunin', 11), (u'Martin Luther King, Jr.', 11), (u'Lon L. Fuller', 11), (u'Howard Zinn', 11), (u'Leonard Peikoff', 11), (u'Eric Voegelin', 11), (u'Russell Kirk', 11), (u'Ludwig von Mises', 11), (u'Andr\\xe9 Malraux', 11), (u'Jamie Whyte', 11), (u'Octave Mirbeau', 11), (u'Gustave de Molinari', 11), (u'Gene Callahan (economist)', 11), (u'Max Baginski', 11), (u'Emma Goldman', 11), (u'Sun Yat-sen', 11), (u'Kevin Carson', 11), (u'Leonard Read', 11), (u'Nestor Makhno', 11), (u'Friedrich A. Hayek', 11), (u'Thomas Henry Huxley', 11), (u'Warren Buffett', 11), (u'Thiruvalluvar', 11), (u'Clive Bell', 11), (u'Herbert Spencer', 11), (u'Benjamin Tucker', 11), (u'Friedrich Schiller', 11), (u'Voltairine de Cleyre', 11), (u'Mikelis Avlichos', 11), (u'Abraham Joshua Heschel', 11), (u'John Burnheim', 11), (u'Paul Hawken', 11), (u'Michael Oakeshott', 11), (u'Bruno Leoni', 11), (u'Anthony de Jasay', 11), (u'Israel Kirzner', 11), (u'Leo Tolstoy', 11), (u'Gary Chartier', 11), (u'Hans-Hermann Hoppe', 11), (u'Bertrand de Jouvenel', 11), (u'Bryan Caplan', 11), (u'Guy Aldred', 11), (u'Ronald Reagan', 11), (u'Harry Binswanger', 11), (u'Philip Wicksteed', 11), (u'Ayn Rand', 11), (u'Murray Rothbard', 11), (u'Alexis de Tocqueville', 11), (u'H. B. Acton', 11), (u'Newton da Costa', 10), (u'Gerald Sacks', 10), (u'Kazimierz Twardowski', 10), (u'Nicolai A. Vasiliev', 10), (u'Hilary Kornblith', 10), (u'Michael O. Rabin', 10), (u'Berit Brogaard', 10), (u'Jacques Herbrand', 10), (u'Richard Milton Martin', 10), (u'Susanne Langer', 10), (u'David Chalmers', 10), (u'B. F. Skinner', 10), (u'Ehud Hrushovski', 10), (u'Richard Whately', 10), (u'Hilary Putnam', 10), (u'Georg Cantor', 10), (u'William Alvin Howard', 10), (u'Leon Chwistek', 10), (u'Dag Prawitz', 10), (u'Evert Willem Beth', 10), (u'Ian Rumfitt', 10), (u'Gottlob Frege', 10), (u'Michael Devitt', 10), (u'Mortimer Adler', 10), (u'Kurt G\\xf6del', 10), (u'Jack Copeland', 10), (u'Catherine Elgin', 10), (u'W. Hugh Woodin', 10), (u'Richard Montague', 10), (u'Henry Pogorzelski', 10), (u'Philip Jourdain', 10), (u'Jin Yuelin', 10), (u'Stanis\\u0142aw Ja\\u015bkowski', 10), (u'Jeff Paris', 10), (u'Bjarni J\\xf3nsson', 10), (u'Jon Barwise', 10), (u'Jules Vuillemin', 10), (u'Theodore Slaman', 10), (u'Stephen Cole Kleene', 10), (u'Gualtiero Piccinini', 10), (u'Jan \\u0141ukasiewicz', 10), (u'Paul Lorenzen', 10), (u'Robin Gandy', 10), (u'Adolf Fraenkel', 10), (u'Charles Parsons (philosopher)', 10), (u'John Etchemendy', 10), (u'David Kaplan (philosopher)', 10), (u'Michael Fourman', 10), (u'Haskell Curry', 10), (u'Saul Kripke', 10), (u'Per Martin-L\\xf6f', 10), (u'David Bohm', 10), (u'Oliver Wendell Holmes, Jr.', 10), (u'Penelope Maddy', 10), (u'Peter Ludlow', 10), (u'John Searle', 10), (u'Arda Denkel', 10), (u'Alfred North Whitehead', 10), (u'Gerhard Gentzen', 10), (u'Elizabeth Harman', 10), (u'Moritz Schlick', 10), (u'Clarence Irving Lewis', 10), (u'Bertrand Russell', 10), (u'Andrzej Mostowski', 10), (u'Willard V. O. Quine', 10), (u'Judith Jarvis Thomson', 10), (u'Raymond Smullyan', 10), (u'William Stanley Jevons', 10), (u'Terence Parsons', 10), (u'Alonzo Church', 10), (u'Christine Ladd-Franklin', 10), (u'Dana Scott', 10), (u'John von Neumann', 10), (u'Moj\\u017cesz Presburger', 10), (u'John Harsanyi', 10), (u'Paul Bernays', 10), (u'Felix Kaufmann', 10), (u'Jody Azzouni', 10), (u'Hao Wang (academic)', 10), (u'J\\xf3zef Maria Boche\\u0144ski', 10), (u'Jean Nicod', 10), (u'William Ernest Johnson', 10), (u'Leon Henkin', 10), (u'Ivan Orlov (philosopher)', 10), (u'John Venn', 10), (u'Leo Harrington', 10), (u'Giuseppe Peano', 10), (u'Stanis\\u0142aw Le\\u015bniewski', 10), (u'Adolf Lindenbaum', 10), (u'Nicolas Bourbaki', 10), (u'Jean-Yves Girard', 10), (u'Ernst Schr\\xf6der', 10), (u'Augustus De Morgan', 10), (u'Karel Lambert', 10), (u'Jean Piaget', 10), (u'Stewart Shapiro', 10), (u'Ernst Zermelo', 10), (u'Gary R. Mar', 10), (u'James Earl Baumgartner', 10), (u'George Boole', 10), (u'John Corcoran (logician)', 10), (u'George Boolos', 10), (u'Martin Davis', 10), (u'Piergiorgio Odifreddi', 10), (u'Pekka Himanen', 10), (u'Walter Pitts', 10), (u'Saharon Shelah', 10), (u'Richard Jeffrey', 10), (u'Helena Rasiowa', 10), (u'Isaac Malitz', 10), (u'Alan Turing', 10), (u'Leopold L\\xf6wenheim', 10), (u'Charles Sanders Peirce', 10), (u'George Birkhoff', 10), (u'Moses Sch\\xf6nfinkel', 10), (u'Robert Lawson Vaught', 10), (u'Jean Van Heijenoort', 10), (u'Melvin Fitting', 10), (u'Kurt Sch\\xfctte', 10), (u'Peter B. Andrews', 10), (u'Leopold Kronecker', 10), (u'Nathan Salmon', 10), (u'Tadeusz Cze\\u017cowski', 10), (u'J. Barkley Rosser', 10), (u'Yuri Matiyasevich', 10), (u'Jaakko Hintikka', 10), (u'Susanna Schellenberg', 10), (u'Karl Popper', 10), (u'Nelson Goodman', 10), (u'Solomon Feferman', 10), (u'Matthew Foreman', 10), (u'Raphael M. Robinson', 10), (u'Gaisi Takeuti', 10), (u'P. F. Strawson', 10), (u'Paul Grice', 10), (u'Gilbert Harman', 10), (u'Thoralf Skolem', 10), (u'Jean-Yves B\\xe9ziau', 10), (u'Arthur Prior', 10), (u'Wilhelm Ackermann', 10), (u'Paul Benacerraf', 10), (u'Kazimierz Ajdukiewicz', 10), (u'Ruth Barcan Marcus', 10), (u'Emil Leon Post', 10), (u'Hugh MacColl', 10), (u'Noam Chomsky', 10), (u'Alfred Tarski', 10), (u'Hans K\\xf6chler', 10), (u'John Woods (logician)', 10), (u'Robert M. Solovay', 10), (u'Dov Gabbay', 10), (u'Willard Van Orman Quine', 10), (u'Peter Glassen', 10), (u'Rudolf Carnap', 10), (u'Harvey Friedman', 10), (u'Mario Bunge', 10), (u'Hartry Field', 10), (u'S. Barry Cooper', 10), (u'Susan Haack', 10), (u'David Hilbert', 10), (u'Tadeusz Kotarbi\\u0144ski', 10), (u'Paul Cohen', 10), (u'Tenzin Gyatso', 9), (u'Geoffrey Sayre-McCord', 8), (u'Baruch Spinoza', 8), (u'Blaise Pascal', 8), (u'George Berkeley', 8), (u'Gregory Chaitin', 8), (u'Petrus Ramus', 8), (u'Jonathan Edwards (theologian)', 8), (u'Bernard Bolzano', 8), (u'Arthur Moeller van den Bruck', 8), (u'Nicolas Malebranche', 8), (u'Hans Kelsen', 8), (u'Giacomo Marramao', 8), (u'James VI and I', 8), (u'Gottfried Leibniz', 8), (u'Joachim Jungius', 8), (u'Fred Dretske', 8), (u'Francis Parker Yockey', 8), (u'Carl Schmitt', 8), (u'David Gauthier', 8), (u'Francis Bacon', 8), (u'Georg Jellinek', 8), (u'Jean Anthelme Brillat-Savarin', 8), (u'Edward Nelson', 8), (u'Carl Joachim Friedrich', 8), (u'Serge Moscovici', 8), (u'Igor Pribac', 8), (u'Paolo Virno', 8), (u'George Pappas', 8), (u'Julien Offray de La Mettrie', 8), (u'John Locke', 8), (u'Mario Tronti', 8), (u'Niccol\\xf2 Machiavelli', 8), (u'Voltaire', 8), (u'Julius Binder', 8), (u'Gilbert Simondon', 8), (u'Gottfried Wilhelm Leibniz', 8), (u'Armin Mohler', 8), (u'Jean-Jacques Rousseau', 8), (u'Theodor Zwinger', 8), (u'Hugo Grotius', 8), (u'Maurice Cranston', 8), (u'Alexander Campbell Fraser', 8), (u'William Alston', 8), (u'Ren\\xe9 Descartes', 8), (u'Francisco de Vitoria', 8), (u'Arthur Schopenhauer', 8), (u'Abraham Robinson', 8), (u'Thomas Hobbes', 8), (u'Jean Bodin', 8), (u'Adam M\\xfcller', 8), (u'Antonio Negri', 8), (u'David Malet Armstrong', 8), (u'Dong Zhongshu', 7), (u'Mazen Asfour', 6), (u'R. G. Collingwood', 6), (u'Giambattista Vico', 6), (u'James Joyce', 6), (u'Thomas Berry', 6), (u'Benedetto Croce', 6), (u'Ernst von Glasersfeld', 6), (u'Boris Furlan', 6), (u'Giannina Braschi', 6), (u'Mihailo Markovi\\u0107', 6), (u'Umberto Eco', 6), (u'Peter Medawar', 6), (u'Heinz von Foerster', 6), (u'Pierre Teilhard de Chardin', 6), (u'Joseph Kosuth', 6), (u'Philip Doddridge', 6), (u'Lewis Carroll', 6), (u'Jean-Louis Le Moigne', 6), (u'A. J. Ayer', 6), (u'Peter Unger', 6), (u'Isaac Watts', 6), (u'Hans Pfitzner', 5), (u'George Edward Moore', 5), (u'J. M. E. McTaggart', 5), (u'Holly Martin Smith', 5), (u'David K. Lewis', 5), (u'Cora Diamond', 5), (u'John Greco (philosopher)', 5), (u'G. E. M. Anscombe', 5), (u'Jennifer Lackey', 5), (u'Sherrilyn Roush', 5), (u'Dick de Jongh', 5), (u'L. T. F. Gamut', 5), (u'Lynne Rudder Baker', 5), (u'Alice Crary', 5), (u'Jonathan Wolff (philosopher)', 5), (u'Reuben Louis Goodstein', 5), (u'John Anderson (philosopher)', 5), (u'Robert Audi', 5), (u'Otto Weininger', 5), (u'Frank Sibley (philosopher)', 5), (u'David Kellogg Lewis', 5), (u'Richard Wollheim', 5), (u'Robert Nozick', 5), (u'Keith Lehrer', 5), (u'Aldo Leopold', 5), (u'Ludwig Wittgenstein', 5), (u'Peter van Inwagen', 5), (u'David Lewis (philosopher)', 5), (u'L.A. Paul', 5), (u'Ferruccio Busoni', 5), (u'Norman Malcolm', 5), (u'Alvin Goldman', 5), (u'James Tully (philosopher)', 5), (u'G. E. Moore', 5), (u'Jerrold Levinson', 5), (u'Jeroen Groenendijk', 5), (u'Edmund Gettier', 5), (u'Jonathan Dancy', 5), (u'Dean Zimmerman', 5), (u'W. D. Ross', 5), (u'John Hawthorne', 5), (u'Johan van Benthem (logician)', 5), (u'Theodore Sider', 5), (u'Alvin Plantinga', 5), (u'William Lycan', 5), (u'Barry Stroud', 5), (u'Jenny Teichman', 5), (u'Eduard Hanslick', 5), (u'Max Black', 5), (u'Georg Henrik von Wright', 5), (u'David Sosa', 5), (u'Martin L\\xf6b', 5), (u'C. D. Broad', 5), (u'Trenton Merricks', 5), (u'Peter Railton', 5), (u'J. L. Mackie', 5), (u'Robert Stalnaker', 5), (u'Kendall Walton', 5), (u'Martin Stokhof', 5), (u'Ernest Sosa', 5), (u'W.V.O. Quine', 5), (u'Peter Geach', 5), (u'David Schmidtz', 5), (u'Isaiah Berlin', 4), (u'Gabriele Taylor', 4), (u'Joxe Azurmendi', 4), (u'Joseph Priestley', 4), (u'Peter Singer', 4), (u'Thomas Nagel', 4), (u'Samuel Scheffler', 4), (u'George Kateb', 4), (u'Samuel Bailey', 4), (u'Edmund Gurney', 4), (u'R. M. Hare', 4), (u'Jack Russell Weinstein', 4), (u'Derek Parfit', 4), (u'Shelly Kagan', 4), (u'Raymond Frey', 4), (u'Jacob M. Appel', 4), (u'Joseph Raz', 4), (u'Margaret Canovan', 4), (u'James Childress', 4), (u'Wesley J. Smith', 4), (u'Francis Hutcheson (philosopher)', 4), (u'Allan Gibbard', 4), (u'Claude Adrien Helv\\xe9tius', 4), (u'H. L. A. Hart', 4), (u'Bernard Williams', 4), (u'Robert P. George', 4), (u'Roger Crisp', 4), (u'Joseph Priestley and Dissent', 4), (u'James Frederick Ferrier', 4), (u'Alexander Bain', 4), (u'William Whewell', 4), (u'John Austin (legal philosopher)', 4), (u'Michael J. Sandel', 4), (u'Philip Pettit', 4), (u'William Wollaston', 4), (u'Richard Price', 4), (u'Johann Friedrich Herbart', 4), (u'Jeremy Bentham', 4), (u'Martha Nussbaum', 4), (u'Dimitris Dimitrakos', 4), (u'Vissarion Belinsky', 4), (u'Stanley Cavell', 4), (u'James Mill', 4), (u'Joshua Cohen (philosopher)', 4), (u'Tony Honor\\xe9', 4), (u'Gerald Dworkin', 4), (u'Christine Korsgaard', 4), (u'Dugald Stewart', 4), (u'Charles L. Stevenson', 4), (u'Alan Ryan', 4), (u'David Pearce (philosopher)', 4), (u'Julian Savulescu', 4), (u'Friedrich Eduard Beneke', 4), (u'David Wiggins', 4), (u'David Hume', 4), (u'Francis Jeffrey', 4), (u'Carlos Santiago Nino', 4), (u'Adam Smith', 4), (u'Franz Xaver von Baader', 4), (u'James Martineau', 4), (u'John Rawls', 4), (u'Paul Janet', 4), (u'William Paley', 4), (u'Harriet Taylor Mill', 4), (u'Tom Beauchamp', 4), (u'J. J. C. Smart', 4), (u'John Stuart Mill', 4), (u'William George Ward', 4), (u'David Miller (political theorist)', 4), (u'Thomas Hill Green', 4), (u'Th\\xe9odore Simon Jouffroy', 4), (u'Johann Heinrich Lambert', 4), (u'Susan Wolf', 4), (u'George Croom Robertson', 4), (u'Charles Taylor (philosopher)', 4), (u'T. M. Scanlon', 4), (u'Henry Home, Lord Kames', 4), (u'Victor Gollancz', 4), (u'Pierre Ab\\xe9lard', 4), (u'Amartya Sen', 4), (u'John Finnis', 4), (u'Martin Rees', 4), (u'Iris Marion Young', 4), (u'Robert Paul Wolff', 4), (u'Henry Sidgwick', 4), (u'Nick Bostrom', 4), (u'Ronald Dworkin', 4), (u'Immanuel Kant', 4), (u\"Onora O'Neill\", 4), (u'Benjamin Wiker', 4), (u'Peter Goldie', 4), (u'Tom Regan', 4), (u'Thomas Reid', 4), (u'Victor Cousin', 4), (u'Charles Blattberg', 4), (u'Heinrich Gustav Hotho', 3), (u'Todd May', 3), (u'Enrique Dussel', 3), (u'Claude L\\xe9vi-Strauss', 3), (u'Young Hegelians', 3), (u'Max Horkheimer', 3), (u'Roger Scruton', 3), (u'Jean-Fran\\xe7ois Lyotard', 3), (u'Gy\\xf6rgy Luk\\xe1cs', 3), (u'Ernst Bloch', 3), (u'Axel Honneth', 3), (u'Walter Benjamin', 3), (u'Julian Gumperz', 3), (u'Houston Stewart Chamberlain', 3), (u'Colin Wilson', 3), (u'Max Scheler', 3), (u'Georges Bataille', 3), (u'Albert Schweitzer', 3), (u'Karl-Otto Apel', 3), (u'Austin Osman Spare', 3), (u'Carol Gilligan', 3), (u'Lewis Call', 3), (u'Georg Wilhelm Friedrich Hegel', 3), (u'F\\xe9lix Guattari', 3), (u'Cornelius Castoriadis', 3), (u'Edgar Morin', 3), (u'Peter Lamborn Wilson', 3), (u'Inayatullah Khan Mashriqi', 3), (u'S\\xf8ren Kierkegaard', 3), (u'Guy Debord', 3), (u'Murray Bookchin', 3), (u'Friedrich Nietzsche', 3), (u'Pierre-Andr\\xe9 Taguieff', 3), (u'Cornel West', 3), (u'Hans K\\xfcng', 3), (u'Georg Simmel', 3), (u'\\xc9tienne de La Bo\\xe9tie', 3), (u'Oskar Negt', 3), (u'G.W.F. Hegel', 3), (u'Mario Kopi\\u0107', 3), (u'Marquis de Sade', 3), (u'Alasdair MacIntyre', 3), (u'Fred Poch\\xe9', 3), (u'Paul Virilio', 3), (u'Martin Heidegger', 3), (u'Adrian Johnston (philosopher)', 3), (u'Cesare Brandi', 3), (u'Daniel Gu\\xe9rin', 3), (u'Alain Badiou', 3), (u'Ernest Wamba dia Wamba', 3), (u'Per Bauhn', 3), (u'Andrei Marga', 3), (u'Giorgio Agamben', 3), (u'Dietrich Bonhoeffer', 3), (u'Simone de Beauvoir', 3), (u'Constantin R\\u0103dulescu-Motru', 3), (u'Theodor W. Adorno', 3), (u'Martin Buber', 3), (u'Right Hegelians', 3), (u'Karl Marx', 3), (u'Alan Gewirth', 3), (u'Victor Basch', 3), (u'Leonard Borgzinner', 3), (u'Judith Butler', 3), (u'Claude Lefort', 3), (u'Richard Shusterman', 3), (u'Michael Sprinker', 3), (u'Maurice Brinton', 3), (u'Erich Fromm', 3), (u'Norbert Bolz', 3), (u'Francis Fukuyama', 3), (u'Gilles Deleuze', 3), (u'Pierre Bourdieu', 3), (u'Nader El-Bizri', 3), (u'Robert S. Hartman', 3), (u'Michel Foucault', 3), (u'Erich Heller', 3), (u'John Zerzan', 3), (u'Richard Rorty', 3), (u'Niklas Luhmann', 3), (u'Jacques Ranci\\xe8re', 3), (u'Ali Shariati', 3), (u'Eugen Rosenstock-Huessy', 3), (u'Gerald Cohen', 3), (u'Gotthold Ephraim Lessing', 3), (u'J\\xfcrgen Habermas', 3), (u'Peter Lipton', 3), (u'Gianfranco Sanguinetti', 3), (u'Michael Otsuka', 3), (u'Jeffrey Stout', 3), (u'Albert Camus', 3), (u'Emmanuel Levinas', 3), (u'Simon Critchley', 3), (u'Henri Lefebvre', 3), (u'Raya Dunayevskaya', 3), (u'Jane Jacobs', 3), (u'\\xdeorsteinn Gylfason', 3), (u'James Brusseau', 3), (u'Edward Said', 3), (u'Lawrence Kohlberg', 3), (u'Maurice Blanchot', 3), (u'\\u0130oanna Ku\\xe7uradi', 3), (u'Michel Onfray', 3), (u'Henri Focillon', 3), (u'Slavoj \\u017di\\u017eek', 3), (u'Johann Gottfried Herder', 3), (u'Roland Barthes', 3), (u'Wilhelm Dilthey', 3), (u'Janet Biehl', 3), (u'Alfred Rosenberg', 3), (u'Roberto Mangabeira Unger', 3), (u'Rainer Forst', 3), (u'Rudolf Arnheim', 3), (u'Rudolf Steiner', 3), (u'Takis Fotopoulos', 3), (u'Simone Weil', 3), (u'Louis Althusser', 3), (u'Valentin Feldman', 3), (u'Tudor Vianu', 3), (u'Gerrard Winstanley', 3), (u'Jean-Paul Sartre', 3), (u'Georg Brandes', 3), (u'Max Stirner', 3), (u'Rada Ivekovi\\u0107', 3), (u'Alan Carter (philosopher)', 3), (u'Hannah Arendt', 3), (u'Ivan Svit\\xe1k', 3), (u'Solomon Passy', 2), (u'Andrea Bonom\\xec', 1), (u'Christian Wolff (philosopher)', 0), (u'Marsilius of Inghen', 0), (u'Eli Siegel', 0), (u'Duns Scotus', 0), (u'Moses', 0), (u'John Shelby Spong', 0), (u'Nosson Tzvi Finkel (Slabodka)', 0), (u'Rosalind Hursthouse', 0), (u'Parmenides', 0), (u'Prodicus', 0), (u'Socrates', 0), (u'John Duns Scotus', 0), (u'Heraclitus', 0), (u'Pope John XXI', 0), (u'Boethius', 0), (u'Conimbricenses', 0), (u'John Pagus', 0), (u'Plato', 0), (u'Thomas Bradwardine', 0), (u'Xenocrates', 0), (u'Mazdak', 0), (u'Abraham ibn Daud', 0), (u'Jean Grondin', 0), (u'John Dumbleton', 0), (u\"Bah\\xe1'u'll\\xe1h\", 0), (u'John Major (philosopher)', 0), (u'Muhammad', 0), (u'Peter of Spain', 0), (u'Georg Anton Friedrich Ast', 0), (u'Walter Burley', 0), (u'Fazlur Rahman', 0), (u'Fran\\xe7ois Hemsterhuis', 0), (u'Thucydides', 0), (u'Philo the Dialectician', 0), (u'Philo', 0), (u'Phaleas of Chalcedon', 0), (u'Galileo Galilei', 0), (u'Reinhold Niebuhr', 0), (u'Diodorus Cronus', 0), (u'Johann Albert Fabricius', 0), (u'Gilbert de la Porr\\xe9e', 0), (u'Ramon Llull', 0), (u'Juan Luis Vives', 0), (u'Alexander Gottlieb Baumgarten', 0), (u'Marilyn McCord Adams', 0), (u'John Howard Yoder', 0), (u'Hammurabi', 0), (u'Xavier Zubiri', 0), (u'Robert Merrihew Adams', 0), (u'Jesus', 0), (u'Julia Annas', 0), (u'Giovanni Girolamo Saccheri', 0), (u'William of Ockham', 0), (u'Pythagoras', 0), (u'Paul of Venice', 0), (u'H. Richard Niebuhr', 0), (u'Maimonides', 0), (u'Theophrastus', 0), (u'Robert Kilwardby', 0), (u'Rodolphus Agricola', 0), (u'Democritus', 0), (u'Moshe Chaim Luzzatto', 0), (u'Christian Wolff', 0), (u'Monarchomachs', 0), (u'Protagoras', 0), (u'Ibn Taymiyyah', 0), (u'Longinus (literature)', 0), (u'Epicurus', 0), (u'Jean Buridan', 0), (u'Philippa Foot', 0), (u'Simplicius of Cilicia', 0), (u'Stanley Hauerwas', 0), (u'Rudolf Christoph Eucken', 0), (u'Terence McKenna', 0), (u'Mary Daly', 0), (u'Plotinus', 0), (u'Zeno of Elea', 0), (u'Averroes', 0), (u'Bahya ibn Paquda', 0), (u'John McDowell', 0), (u'Ralph Strode', 0), (u'Quintilian', 0), (u'Stobaeus', 0), (u'Lorenzo Valla', 0), (u'Thomas Aquinas', 0), (u'Han Ryner', 0), (u'Friedrich Adolf Trendelenburg', 0), (u'David L. Norton', 0), (u'Frithjof Schuon', 0), (u'Paolo da Pergola', 0), (u'Xenophanes', 0), (u'Wolfgang Smith', 0), (u'Porphyry (philosopher)', 0), (u'Aristoxenus', 0), (u'Anaximander', 0), (u'Peter Sloterdijk', 0), (u'Lucretius', 0), (u'Aristotle', 0), (u'Hans-Georg Gadamer', 0), (u'Seyyed Hossein Nasr', 0), (u'Richard Swineshead', 0), (u'Menedemus', 0), (u'Paul Tillich', 0), (u'Jacopo Zabarella', 0), (u'Augustine of Hippo', 0), (u'Andronicus of Rhodes', 0), (u'Nicolai Hartmann', 0), (u'Ambrose', 0), (u'Hierocles of Alexandria', 0), (u'Avicenna', 0), (u'Chrysippus', 0), (u'Nassim Nicholas Taleb', 0), (u'Albert of Saxony (philosopher)', 0)]\n"
     ]
    }
   ],
   "source": [
    "print len(P_undirected.edges())\n",
    "print sorted(partition.items(), key=operator.itemgetter(1),reverse = True)"
   ]
  },
  {
   "cell_type": "markdown",
   "metadata": {
    "collapsed": false
   },
   "source": [
    "Is it higher or lower than what you found above for the branches as communities? What does this comparison reveal about the branches?\n",
    "   "
   ]
  },
  {
   "cell_type": "markdown",
   "metadata": {},
   "source": [
    "It is a bit lower than modularity finded for the branches as communities. It means that branches are very good choice for community creation."
   ]
  },
  {
   "cell_type": "markdown",
   "metadata": {},
   "source": [
    "* Compare the communities found by your algorithm with the branches of philosophy (see [Lecture 5](http://nbviewer.jupyter.org/github/suneman/socialgraphs2016/blob/master/lectures/Week5.ipynb) for details on the branches) by creating a matrix **_D_** with dimension (_B_ times _C_), where _B_ is the number of branches and _C_ is the number of communities. We set entry _D_(_i_,_j_) to be the number of nodes that branch _i_ has in common with community _j_. The matrix **_D_** is what we call a [**confusion matrix**](https://en.wikipedia.org/wiki/Confusion_matrix). Use the confusion matrix to explain how well the communities you've detected correspond to the labeled branches of philosophy."
   ]
  },
  {
   "cell_type": "code",
   "execution_count": 17,
   "metadata": {
    "collapsed": false
   },
   "outputs": [
    {
     "name": "stdout",
     "output_type": "stream",
     "text": [
      "[[  6.   0.   0. ...,   0.   0.   0.]\n",
      " [  3.   0.   0. ...,   0.   0.   0.]\n",
      " [ 41.   0.   0. ...,   1.   0.   0.]\n",
      " [ 35.   1.   1. ...,   0.   1.   0.]\n",
      " [ 19.   0.   0. ...,   0.   0.   0.]\n",
      " [  9.   0.   0. ...,   0.   0.   1.]]\n",
      "Confusion matrix shape:\n",
      "(6L, 236L)\n",
      "236\n"
     ]
    }
   ],
   "source": [
    "import operator\n",
    "import numpy as np\n",
    "communities = {}\n",
    "\n",
    "branches=list(map(set,philosophers_no_dup_branches))\n",
    "\n",
    "previous_value = 0\n",
    "not_complete_list = set([])\n",
    "partitions = []\n",
    "for phil in sorted(partition.items(), key=operator.itemgetter(1)):\n",
    "    next_value = phil[1]\n",
    "    if previous_value == next_value:\n",
    "        not_complete_list.add(phil[0])\n",
    "    else:\n",
    "        previous_value = next_value\n",
    "        partitions.append(not_complete_list)\n",
    "        not_complete_list = set([])\n",
    "        not_complete_list.add(phil[0])\n",
    "        \n",
    "# append last value \n",
    "partitions.append(not_complete_list)  \n",
    "\n",
    "C = len(partitions)\n",
    "B = len(branches)\n",
    "D = np.zeros(shape=(B,C))\n",
    "for ii in xrange(0,B):\n",
    "    branch = branches[ii]\n",
    "    for jj in xrange(0,C):\n",
    "        community = partitions[jj]\n",
    "        D[(ii,jj)] = len(branch.intersection(community))\n",
    "        \n",
    "print D\n",
    "shape = D.shape\n",
    "print \"Confusion matrix shape:\" \n",
    "print shape\n",
    "print len(partitions)\n"
   ]
  },
  {
   "cell_type": "markdown",
   "metadata": {},
   "source": [
    "# Part II: Human navigation paths \n",
    "\n",
    "This exercise works on the wikispeedia dataset. For details on wikispeedia, see [Lecture 8](http://nbviewer.jupyter.org/github/suneman/socialgraphs2016/blob/master/lectures/Week5.ipynb)\n",
    "\n",
    "### IIa: Path lengths\n",
    "\n",
    "The first thing we want to take a look at is path lengths. NetworkX allows us to calculate the shortest path between any pair of articles. We begin by comparing the length of human and shortests paths. \n",
    "\n",
    "* For each _source_/_target_ pair in the list of human navigation paths, calculate the shortest path using NetworkX. Plot the distribution of path lengths. \n",
    "* For each _source_/_target_ pair, calculate the length of the human path. The dataset contains information on people who regret a navigation step and hit the \"back\" button in their web-browser. It's up to you how to incorporate that information in the path. Justify your choice. Plot the distribution of human path lengths. \n",
    "* How much longer are the human paths on average?\n",
    "* Create scatter plot where each point is a _source_/_target_ pair, and you have human path lengths on the $x$-axis and shortests paths on the $y$-axis.\n",
    "* Is there a correlation between human/shortest path-lengths? What is the correlation."
   ]
  },
  {
   "cell_type": "code",
   "execution_count": null,
   "metadata": {
    "collapsed": true
   },
   "outputs": [],
   "source": []
  },
  {
   "cell_type": "markdown",
   "metadata": {},
   "source": [
    "### IIb: Betweenness\n",
    "\n",
    "An interesting definition of centrality is _betweenness centrality_. In a traditional setting, this measure calculates all shortest paths in the network and then each node gets a score according to which fraction of all shortest paths pass through that node.\n",
    "\n",
    "In this part of the assignment, we create our own version of centrality, based on the _source_/_target_ pairs in our dataset. We define a nodes's **navigation centrality** as follows. \n",
    "\n",
    "> *Navigation centrality* of node $i$ is the fraction of all naviagtion paths that pass through $i$. We exclude the source and target from the count. If a node has not been visited by a search, the navigation centrality of that node is defined to be zero.\n",
    "\n",
    "Below, we investigate the relationship between navigation centrality and betweenness centrality."
   ]
  },
  {
   "cell_type": "markdown",
   "metadata": {},
   "source": [
    "Begin by calculating the betweenness centrality and navigation centrality of all nodes in the wikispedia dataset.\n",
    "Note that calculating the betweenness centrality can take quite a long time, so you might start it running in a separate notebook while first estimating it based on the existing human path.\n",
    "\n",
    "* First, list the 5 pages with highest navigation centrality.\n",
    "* Second, list the 5 pages with highest betweenness centrality.\n",
    "* Compare the two lists. Explain the differences between the two lists in your own words.\n",
    "* Create a scatterplot of betweenness centrality vs. navigation centrality.\n",
    "* Let's explore the pages that have navigation centrality equal to zero.\n",
    "  * How many pages have zero navigation centrality?\n",
    "  * What is the the page with zero navigation centrality and highest betweenness centrality? Can you explain why no human navigated to this page? Can you explain why the page is central in the actual link network? (For example, you can take a look at the degree of the node).\n",
    "  * Plot the distribution of betweenness centrality for the pages with zero navigation centrality. \n",
    "* Now, let's *throw out all pages with zero navigation centrality* and compare navigation- and betweenness centrality for the remaining pages.\n",
    "  * What is the correlation between betweenness centrality and navigation centrality?\n",
    "  * Comment on the top 5 outliers."
   ]
  },
  {
   "cell_type": "markdown",
   "metadata": {},
   "source": [
    "### IIc: Bringing the text into the picture\n",
    "\n",
    "Now that we have an idea about the differences between how humans and computers search in networks, we are going to dig a little deeper using the page content to test a hypothesis to explain why the human navigation paths are longer. The general idea is that humans (who don't know about the global network structure) tend to jump between pages that have related _content_. For this reason we expect that (on average) human navigation paths have more similar content than the shortest paths in the network (which might take 'surprising' shortcuts via relatively unrelated pages). In short.\n",
    "\n",
    "> **Hypothesis H1**: Human navigation paths have more similar content than network shortest paths.\n",
    "\n",
    "The way we'll test this hypothesis is to first represent each page as a vector using a bag-of-words approach, then we can calculate a distance between pairs of pages using some vector-space difference, and finally we'll characterize each path by its average pair-wise distance. Below, I've set up that process as an exercise. "
   ]
  },
  {
   "cell_type": "markdown",
   "metadata": {},
   "source": [
    "First, create a TF-IDF vector for each page based on the ascii version of the page texts. \n",
    "\n",
    "Second, write a function that calculates the distance between a pair of vectors. There are many ways to calculate distances between a pair of vectors (try a Google search for `vector space distance measures` if you want to refresh your knowledge on this topic). You're free to choose what you want, but we recommend the [cosine similarity](https://en.wikipedia.org/wiki/Cosine_similarity).\n",
    "\n",
    "Now you're ready to get started\n",
    "\n",
    "* Calculate the average similarity for all human navigation paths (the _source_/_target_ pairs from above). Calculate mean/variance of these average similarities.\n",
    "* Calculate the average similarity for all shortest paths between the _source_/_target_ pairs. Calculate mean/variance of these average similarities.\n",
    "* Plot the distributions of average similarities for both human- and shortest paths in a single plot. If everything works well, you should see something similar to the following:\n",
    "![alt text](https://raw.githubusercontent.com/suneman/socialgraphs2016/master/files/path-similarity.png)\n",
    "* Finally, for each source/target pair, compare the human-navigation average similarity with the betweenness based average similarity, testing what fraction of the time, the average similarity is lower in the case of human navigation.\n",
    "* Comment on your findings. Is **H1** true?"
   ]
  },
  {
   "cell_type": "markdown",
   "metadata": {},
   "source": [
    "# Part III\n",
    "\n",
    "Exercise, sentiment over some books from NLPP1e\n",
    "\n",
    "* Download the LabMT wordlist. It's available as supplementary material from [Temporal Patterns of Happiness and Information in a Global Social Network: Hedonometrics and Twitter](http://journals.plos.org/plosone/article?id=10.1371/journal.pone.0026752) (Data Set S1). Describe briefly how the list was generated.\n",
    "* Based on the LabMT word list, write a function that calculates sentiment given a list of tokens (the tokens should be lower case, etc). The function should complain if there are no words with sentiment attached.\n",
    "* Calculate a sentiment profile for the novels in NLPP1e chapter 1\\. The sentiment profile has sentiment on the _y_-axis and position in the text on the _x_-axis. Use a [moving average](https://en.wikipedia.org/wiki/Moving_average) to show how the sentiment changes. Create profiles for sliding windows of length 15 words, 50 words, 100 words, 500 words.\n",
    "* Comment on the sentiment profiles. Do they show a similar pattern? What is the effect of changing the size of the sliding window?"
   ]
  },
  {
   "cell_type": "code",
   "execution_count": null,
   "metadata": {
    "collapsed": true
   },
   "outputs": [],
   "source": []
  }
 ],
 "metadata": {
  "anaconda-cloud": {},
  "kernelspec": {
   "display_name": "Python [Root]",
   "language": "python",
   "name": "Python [Root]"
  },
  "language_info": {
   "codemirror_mode": {
    "name": "ipython",
    "version": 2
   },
   "file_extension": ".py",
   "mimetype": "text/x-python",
   "name": "python",
   "nbconvert_exporter": "python",
   "pygments_lexer": "ipython2",
   "version": "2.7.12"
  }
 },
 "nbformat": 4,
 "nbformat_minor": 1
}
