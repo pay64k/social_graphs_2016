{
 "cells": [
  {
   "cell_type": "markdown",
   "metadata": {},
   "source": [
    "# Formalia:\n",
    "\n",
    "Please read the [assignment overview page](https://github.com/suneman/socialgraphs2016/wiki/Assignments) carefully before proceeding. This page contains information about formatting (including formats etc), group sizes, and many other aspects of handing in the assignment. \n",
    "\n",
    "_If you fail to follow these simple instructions, it will negatively impact your grade!_\n",
    "\n",
    "**Due date and time**: The assignment is due on Sunday September 25th at 23:55. Hand in your IPython notebook file (with extension `.ipynb`) via http://peergrade.io/."
   ]
  },
  {
   "cell_type": "markdown",
   "metadata": {},
   "source": [
    "# Part One: Network Models\n",
    "\n",
    "## Watts-Strogatz Networks\n",
    "\n",
    "* Use `nx.watts_strogatz_graph` to generate 3 graphs with 500 nodes each, average degree = 4, and rewiring probablity _p_ = 0, 0.1, and 1\\. Calculate the average shortest path length < _d_ \\> for each one. Describe what happens to the network when _p_ = 1\\.\n",
    "* Let's understand the behavior of the WS model as we increase _p_ in more detail. Generate 50 networks with _N_ = 500, < _k_ \\> = 4, for each of _p_ = {0, 0.01, 0.03, 0.05, 0.1, 0.2}. Calculate the average of < _d_ \\> as well as the standard deviation over the 50 networks, to create a plot that shows how the path length decreases very quickly with only a little fraction of re-wiring. Use the standard deviation to add [errorbars](http://matplotlib.org/1.2.1/examples/pylab_examples/errorbar_demo.html \"Link: http://matplotlib.org/1.2.1/examples/pylab_examples/errorbar_demo.html\") to the plot. My version of the plot is below (since a picture's worth 1000 words).\n",
    "\n",
    "![Sune's version](https://dl.dropboxusercontent.com/u/153071/02805/ws.png)"
   ]
  },
  {
   "cell_type": "code",
   "execution_count": 1,
   "metadata": {
    "collapsed": true
   },
   "outputs": [],
   "source": [
    "import networkx as nx\n",
    "import numpy as np\n",
    "import matplotlib.pyplot as plt\n",
    "import random as rn\n",
    "%matplotlib inline"
   ]
  },
  {
   "cell_type": "code",
   "execution_count": 2,
   "metadata": {
    "collapsed": false
   },
   "outputs": [
    {
     "name": "stdout",
     "output_type": "stream",
     "text": [
      "62.875751503\n",
      "7.55429258517\n",
      "4.76311823647\n"
     ]
    }
   ],
   "source": [
    "G1=nx.watts_strogatz_graph(500,4,0)\n",
    "G2=nx.watts_strogatz_graph(500,4,0.1)\n",
    "G3=nx.watts_strogatz_graph(500,4,1)\n",
    "\n",
    "ShortestPath1=nx.average_shortest_path_length(G1)\n",
    "ShortestPath2=nx.average_shortest_path_length(G2)\n",
    "ShortestPath3=nx.average_shortest_path_length(G3)\n",
    "\n",
    "print ShortestPath1\n",
    "print ShortestPath2\n",
    "print ShortestPath3\n"
   ]
  },
  {
   "cell_type": "markdown",
   "metadata": {},
   "source": [
    "It is the shortest path ~ 5 when the rewiring parameter p is 1 it means also that netwrok is more similar to one big cluster."
   ]
  },
  {
   "cell_type": "code",
   "execution_count": 3,
   "metadata": {
    "collapsed": false
   },
   "outputs": [
    {
     "name": "stdout",
     "output_type": "stream",
     "text": [
      "Value of p=0.00 , value of shortest path is 62.87575150.\n",
      "Value of p=0.02 , value of shortest path is 15.27279359.\n",
      "Value of p=0.04 , value of shortest path is 11.67715431.\n",
      "Value of p=0.06 , value of shortest path is 9.96023246.\n",
      "Value of p=0.08 , value of shortest path is 8.64225251.\n",
      "Value of p=0.10 , value of shortest path is 8.31327455.\n",
      "Value of p=0.12 , value of shortest path is 7.35608016.\n",
      "Value of p=0.14 , value of shortest path is 6.87439679.\n",
      "Value of p=0.16 , value of shortest path is 6.45046894.\n",
      "Value of p=0.18 , value of shortest path is 6.24351904.\n",
      "Value of p=0.20 , value of shortest path is 6.16499399.\n",
      "Value of p=0.22 , value of shortest path is 6.10229259.\n",
      "Value of p=0.24 , value of shortest path is 5.57020441.\n",
      "Value of p=0.26 , value of shortest path is 5.77190381.\n",
      "Value of p=0.28 , value of shortest path is 5.63773948.\n",
      "Value of p=0.30 , value of shortest path is 5.43652104.\n",
      "Value of p=0.32 , value of shortest path is 5.33015631.\n",
      "Value of p=0.34 , value of shortest path is 5.34394389.\n",
      "Value of p=0.36 , value of shortest path is 5.27898196.\n",
      "Value of p=0.38 , value of shortest path is 5.19147094.\n",
      "Value of p=0.40 , value of shortest path is 5.20341483.\n",
      "Value of p=0.42 , value of shortest path is 5.17256112.\n",
      "Value of p=0.44 , value of shortest path is 5.13529459.\n",
      "Value of p=0.46 , value of shortest path is 5.05594389.\n",
      "Value of p=0.48 , value of shortest path is 4.99530261.\n"
     ]
    },
    {
     "data": {
      "text/plain": [
       "[<matplotlib.lines.Line2D at 0x88ee320>,\n",
       " <matplotlib.lines.Line2D at 0x8e52518>]"
      ]
     },
     "execution_count": 3,
     "metadata": {},
     "output_type": "execute_result"
    },
    {
     "data": {
      "image/png": "[encoded data removed]",
      "text/plain": [
       "<matplotlib.figure.Figure at 0x89e3cf8>"
      ]
     },
     "metadata": {},
     "output_type": "display_data"
    }
   ],
   "source": [
    "nrange=np.arange(0,0.5,0.02)\n",
    "Shortest=[]\n",
    "for i in nrange:\n",
    "    Graph=nx.watts_strogatz_graph(500,4,i)\n",
    "    GraphPath=nx.average_shortest_path_length(Graph)\n",
    "    Shortest.append([i,GraphPath])\n",
    "    print \"Value of p=%1.2f , value of shortest path is %5.8f.\" %(i, GraphPath)\n",
    "\n",
    "plt.plot(nrange, Shortest)\n"
   ]
  },
  {
   "cell_type": "markdown",
   "metadata": {},
   "source": [
    "When p is more than 0.1 the shortest path is getting significantly smaller but when the value of p=0.3 the shortest path is getting very close to \n",
    "fully randomized network   "
   ]
  },
  {
   "cell_type": "code",
   "execution_count": 4,
   "metadata": {
    "collapsed": true
   },
   "outputs": [],
   "source": [
    "p=[0,0.01,0.03,0.05,0.1,0.2]\n",
    "k=4\n",
    "N=500\n",
    "STD=[]\n",
    "average=[]\n",
    "for i in p:\n",
    "    STDin=[]\n",
    "    for it in range(1,50):\n",
    "        G=nx.watts_strogatz_graph(N,k,i)\n",
    "        SD=nx.average_shortest_path_length(G)\n",
    "        STDin.append(SD)\n",
    "    average.append(np.mean(STDin))\n",
    "    STD.append(np.std(STDin))\n",
    "plotRange = np.array(p)\n",
    "plotMean = np.array(average)\n",
    "PlotSTD = np.array(STD)"
   ]
  },
  {
   "cell_type": "code",
   "execution_count": 5,
   "metadata": {
    "collapsed": false
   },
   "outputs": [
    {
     "data": {
      "text/plain": [
       "<matplotlib.text.Text at 0x8e2c908>"
      ]
     },
     "execution_count": 5,
     "metadata": {},
     "output_type": "execute_result"
    },
    {
     "data": {
      "image/png": "[encoded data removed]",
      "text/plain": [
       "<matplotlib.figure.Figure at 0x8f13668>"
      ]
     },
     "metadata": {},
     "output_type": "display_data"
    }
   ],
   "source": [
    "plt.figure()\n",
    "plt.errorbar(plotRange,plotMean,PlotSTD, marker=\"o\")\n",
    "plt.ylabel('Average <d>')\n",
    "plt.xlabel('p')"
   ]
  },
  {
   "cell_type": "markdown",
   "metadata": {},
   "source": [
    "## The Barabasi-Albert Model\n",
    "\n",
    "We're going to create our own Barabasi-Albert model (a special case) in right in a `notebook`. Follow the recipe below for success\n",
    "\n",
    "* Create a 100 node BA network using a BA model that you've coded on your own (so don't use the built-in NetworkX function, but the one you created during week 3). And plot it using NetworkX.\n",
    "* Now create a 5000 node network.\n",
    "  * What's the maximum and minimum degree?\n",
    "  * Now, bin the degree distribution, for example using `numpy.histogram`.\n",
    "  * Plot the distribution. Plot it with both linear and log-log axes.\n",
    "\n",
    "![Sune's version](https://dl.dropboxusercontent.com/u/153071/02805/ba.png)"
   ]
  },
  {
   "cell_type": "code",
   "execution_count": 6,
   "metadata": {
    "collapsed": false
   },
   "outputs": [
    {
     "data": {
      "image/png": "[encoded data removed]",
      "text/plain": [
       "<matplotlib.figure.Figure at 0x8da19b0>"
      ]
     },
     "metadata": {},
     "output_type": "display_data"
    }
   ],
   "source": [
    "#First create a graph consisting of a single link. (You can call the nodes anything, but I would simply use integers as names).\n",
    "import random \n",
    "import math\n",
    "\n",
    "G = nx.Graph()\n",
    "G.add_edge(1,2)\n",
    "i = 3\n",
    "\n",
    "#Now add another node, connecting one of the existing nodes in proportion to their degree.\n",
    "#Keep going until you have a 100 node network.\n",
    "z=[]\n",
    "for l in range(100 - len(G)):\n",
    "    z = [ x for (x,y) in G.edges() ]\n",
    "    z.extend([ y for (x,y) in G.edges() ])\n",
    "    G.add_edge(i,random.choice(z))\n",
    "    i += 1\n",
    "    \n",
    "#Plot the network\n",
    "nx.draw(G, node_size = 60, node_color = \"Blue\" )\n",
    "plt.show()\n"
   ]
  },
  {
   "cell_type": "code",
   "execution_count": 7,
   "metadata": {
    "collapsed": true
   },
   "outputs": [],
   "source": [
    "#Add more nodes until you have a 5000 node network.\n",
    "for l in range(5000 - len(G)):\n",
    "    z = [ x for (x,y) in G.edges() ]\n",
    "    z.extend([ y for (x,y) in G.edges() ])\n",
    "    G.add_edge(i,random.choice(z))\n",
    "    i += 1"
   ]
  },
  {
   "cell_type": "code",
   "execution_count": 8,
   "metadata": {
    "collapsed": false
   },
   "outputs": [
    {
     "name": "stdout",
     "output_type": "stream",
     "text": [
      "Max 107\n",
      "Min 1\n"
     ]
    }
   ],
   "source": [
    "#What's the maximum and minimum degree?\n",
    "maxd = max(G.degree().values())\n",
    "mind = min(G.degree().values())\n",
    "print \"Max %d\" % maxd\n",
    "print \"Min %d\" % mind"
   ]
  },
  {
   "cell_type": "code",
   "execution_count": 9,
   "metadata": {
    "collapsed": false
   },
   "outputs": [
    {
     "data": {
      "text/plain": [
       "[<matplotlib.lines.Line2D at 0x8ff06a0>]"
      ]
     },
     "execution_count": 9,
     "metadata": {},
     "output_type": "execute_result"
    },
    {
     "data": {
      "image/png": "[encoded data removed]",
      "text/plain": [
       "<matplotlib.figure.Figure at 0x9003eb8>"
      ]
     },
     "metadata": {},
     "output_type": "display_data"
    }
   ],
   "source": [
    "#Plot the distribution. Plot it with both linear and log-log axes.\n",
    "h, b = np.histogram(G.degree().values(), bins=200)\n",
    "\n",
    "#Linear Scale\n",
    "#plt.subplot(221)\n",
    "plt.plot(b[0:-1], h, 'bo')\n"
   ]
  },
  {
   "cell_type": "code",
   "execution_count": 11,
   "metadata": {
    "collapsed": false
   },
   "outputs": [
    {
     "data": {
      "text/plain": [
       "[<matplotlib.lines.Line2D at 0xadf2550>]"
      ]
     },
     "execution_count": 11,
     "metadata": {},
     "output_type": "execute_result"
    },
    {
     "data": {
      "image/png": "[encoded data removed]",
      "text/plain": [
       "<matplotlib.figure.Figure at 0xa133198>"
      ]
     },
     "metadata": {},
     "output_type": "display_data"
    }
   ],
   "source": [
    "#Logaritmic Scale\n",
    "#plt.subplot(222) \n",
    "plt.loglog(b[0:-1],h,'bo')"
   ]
  },
  {
   "cell_type": "markdown",
   "metadata": {},
   "source": [
    "## Power-laws and the friendship paradox\n",
    "\n",
    "Next step is to explore the [Friendship paradox](https://en.wikipedia.org/wiki/Friendship_paradox). This paradox states that _almost everyone_ have fewer friends than their friends have, on average. This sounds crazy, but is actually an almost trivial consequence of living in a social network with a power-law degree distribution. The explanation is that almost everyone is friends with a hub, that drives up the average degree of the friends. Let's explore that in the 5000 node BA network we've just generated. Do the following:\n",
    "\n",
    "* Pick a node _i_ at random (e.g. use `random.choice`). [Find its degree](http://networkx.lanl.gov/reference/generated/networkx.Graph.degree.html).\n",
    "* Find _i_'s [neighbors](http://networkx.lanl.gov/reference/generated/networkx.Graph.neighbors.html). And calculate their average degree.\n",
    "* Compare the two numbers to check if it's true that _i_'s friends (on average) have more friends than _i_.\n",
    "* Do this 1000 times. How many out of those 1000 times is the friendship paradox true?"
   ]
  },
  {
   "cell_type": "code",
   "execution_count": 15,
   "metadata": {
    "collapsed": false
   },
   "outputs": [
    {
     "name": "stdout",
     "output_type": "stream",
     "text": [
      "First node = 4402\n",
      "First node degree = 1\n"
     ]
    }
   ],
   "source": [
    "#Pick a node ii at random (e.g. use random.choice). Find its degree.\n",
    "first_node =  random.choice(G.nodes()) \n",
    "first_node_degree = G.degree(first_node)\n",
    "print \"First node =\", first_node\n",
    "print \"First node degree =\", first_node_degree"
   ]
  },
  {
   "cell_type": "code",
   "execution_count": 16,
   "metadata": {
    "collapsed": false
   },
   "outputs": [
    {
     "name": "stdout",
     "output_type": "stream",
     "text": [
      "List of neighbors = [4201]\n",
      "List of neighbors degree = [2]\n"
     ]
    }
   ],
   "source": [
    "#Find ii's neighbors. And calculate their average degree.\n",
    "nghb = G.neighbors(first_node)\n",
    "nghb_degree =[]\n",
    "for i in nghb:\n",
    "    node_degree = G.degree(i)\n",
    "    nghb_degree.append(node_degree)\n",
    "print \"List of neighbors =\", nghb\n",
    "print \"List of neighbors degree =\", nghb_degree"
   ]
  },
  {
   "cell_type": "code",
   "execution_count": 17,
   "metadata": {
    "collapsed": false
   },
   "outputs": [
    {
     "name": "stdout",
     "output_type": "stream",
     "text": [
      "Friendship paradox is fullfilled\n"
     ]
    }
   ],
   "source": [
    "#Compare the two numbers to check if it's true that ii's friends (on average) have more friends than ii.\n",
    "avg_nghb_degree = sum(nghb_degree)/len(nghb_degree)\n",
    "if avg_nghb_degree > first_node_degree:\n",
    "    x = \"fullfilled\"\n",
    "else:\n",
    "    x = \"not fullfiled\"\n",
    "print \"Friendship paradox is\", x"
   ]
  },
  {
   "cell_type": "code",
   "execution_count": 18,
   "metadata": {
    "collapsed": false
   },
   "outputs": [
    {
     "name": "stdout",
     "output_type": "stream",
     "text": [
      "For 1000 tries friendship paradox was fullfilled 836 times\n"
     ]
    }
   ],
   "source": [
    "#Do this 1000 times. How many out of those 1000 times is the friendship paradox true?\n",
    "t=0\n",
    "f=0\n",
    "for i in range(1000):\n",
    "    first_node =  random.choice(G.nodes()) \n",
    "    first_node_degree = G.degree(first_node)\n",
    "    i+=1\n",
    "    nghb = G.neighbors(first_node)\n",
    "    nghb_degree =[]\n",
    "    for ii in nghb:\n",
    "        node_degree = G.degree(ii)\n",
    "        nghb_degree.append(node_degree)\n",
    "        avg_nghb_degree = sum(nghb_degree)/len(nghb_degree)\n",
    "    if avg_nghb_degree > first_node_degree:\n",
    "        t+=1\n",
    "    else:\n",
    "        f+=1\n",
    "print \"For 1000 tries friendship paradox was fullfilled %d times\" %t"
   ]
  },
  {
   "cell_type": "markdown",
   "metadata": {},
   "source": [
    "## Growth without preferential attachment\n",
    "\n",
    "Finally, we'll build a network of same size and degree, using the growth mechanism without the preferential attachment. \n",
    "\n",
    "Compare the network you've just built to the ER network of same size and same _p_. What are the differences? Explain in your own words. _Hint_: To get started, take a look at the degree distribution, and study the number of connected components."
   ]
  },
  {
   "cell_type": "code",
   "execution_count": 19,
   "metadata": {
    "collapsed": false
   },
   "outputs": [
    {
     "data": {
      "image/png": "[encoded data removed]",
      "text/plain": [
       "<matplotlib.figure.Figure at 0x92388d0>"
      ]
     },
     "metadata": {},
     "output_type": "display_data"
    },
    {
     "data": {
      "image/png": "[encoded data removed]",
      "text/plain": [
       "<matplotlib.figure.Figure at 0x20f40b8>"
      ]
     },
     "metadata": {},
     "output_type": "display_data"
    }
   ],
   "source": [
    "N=5000\n",
    "\n",
    "# K from BA network which was made before \n",
    "k = float(sum(G.degree().values()) / len(G.nodes()))\n",
    "\n",
    "# ro calculations\n",
    "ro = k / (N-1)\n",
    "\n",
    "#Erdos-Renyi with equal N and ro\n",
    "G_Erdos_Renyi = nx.erdos_renyi_graph(N, ro)\n",
    "\n",
    "plt.subplot(1,2,1)\n",
    "plt.hist(nx.degree(G).values())\n",
    "plt.title(\"Barabassi\")\n",
    "plt.subplot(1,2,2)\n",
    "plt.title(\"Eros Renyi\")\n",
    "plt.hist(nx.degree(Ger).values())\n",
    "plt.show()\n",
    "\n",
    "# Plot histogram for both network to look at de degree distribution and study the number of connected components\n",
    "Bind=[1,2,3,4,5,6,7,8,9,10,11,12,13]\n",
    "plt.hist(G.degree().values(),Bind)\n",
    "plt.title(\"Degree distribution of Barabassi network\")\n",
    "plt.show()\n",
    "\n",
    "\n",
    "plt.title(\"Degree distribution of Erdos-Renyi network\")\n",
    "plt.hist(G_Erdos_Renyi.degree().values())\n",
    "plt.show()\n",
    "\n"
   ]
  },
  {
   "cell_type": "markdown",
   "metadata": {},
   "source": [
    "EXPLANATION!!!!! "
   ]
  },
  {
   "cell_type": "markdown",
   "metadata": {},
   "source": [
    "# Part Two: The Wikipedia Philosopher's network\n",
    "\n",
    "This exercise assumes that you have downloaded and created the directed network of philosophers on Wikipedia, based on the six branches of philosophy on you own. \n",
    "\n",
    "## Basic stats\n",
    "\n",
    "First put together an overview of the 7 lists you created as part of lecture 4. \n",
    "\n",
    "* Let's put together some descriptive statistics:\n",
    "  * How many philosophers in each list? How many total?\n",
    "  * Which is the largest branch of philosophy? (according to number of Wikipedia philosopher-pages)\n"
   ]
  },
  {
   "cell_type": "code",
   "execution_count": 22,
   "metadata": {
    "collapsed": false
   },
   "outputs": [
    {
     "name": "stdout",
     "output_type": "stream",
     "text": [
      "aestheticians: 126\n",
      "epistemologists: 99\n",
      "ethicists: 272\n",
      "logicians: 273\n",
      "metaphysicians: 96\n",
      "social_and_political_philosophers: 295\n",
      "Total: 1161\n",
      "Largest branch: social_and_political_philosophers\n"
     ]
    }
   ],
   "source": [
    "import io\n",
    "import re\n",
    "\n",
    "branches_of_phi = ['aestheticians', 'epistemologists',\n",
    "                   'ethicists', 'logicians', 'metaphysicians',\n",
    "                   'social_and_political_philosophers']\n",
    "\n",
    "total_phi = 0\n",
    "num_in_phi = []\n",
    "for phi in branches_of_phi:\n",
    "    f = io.open('./wikitext_' + phi + '.txt', 'r', encoding='utf8')\n",
    "    branch_of_phi = re.findall(r'\\[\\[(.*?)\\]\\]', f.read())\n",
    "    print(phi + ': ' + str(len(branch_of_phi)))\n",
    "    num_in_phi.append(len(branch_of_phi))\n",
    "    total_phi = total_phi + len(branch_of_phi)\n",
    "\n",
    "print('Total: ' + str(total_phi))\n",
    "\n",
    "largest_branch = max(xrange(len(num_in_phi)), key = lambda x: num_in_phi[x])\n",
    "print('Largest branch: ' + branches_of_phi[largest_branch])"
   ]
  },
  {
   "cell_type": "markdown",
   "metadata": {},
   "source": [
    "  * Which philosopher is in most lists & and how many?\n",
    "  "
   ]
  },
  {
   "cell_type": "code",
   "execution_count": 24,
   "metadata": {
    "collapsed": false
   },
   "outputs": [
    {
     "name": "stdout",
     "output_type": "stream",
     "text": [
      "Aristotle is in 6 lists\n",
      "Thomas Aquinas is in 6 lists\n"
     ]
    }
   ],
   "source": [
    "all_phi = []\n",
    "for phi in branches_of_phi:\n",
    "    f = io.open('./wikitext_' + phi + '.txt', 'r', encoding='utf8')\n",
    "    branch_of_phi = re.findall(r'\\[\\[(.*?)\\]\\]', f.read())\n",
    "    all_phi = all_phi + branch_of_phi\n",
    "\n",
    "phi_duplicates = set([x for x in all_phi if all_phi.count(x) > 1])\n",
    "\n",
    "\n",
    "# Find how often philosophers appear in the combined list\n",
    "# and create a list how often they appear\n",
    "all_phi_num = []\n",
    "for i in all_phi:\n",
    "    all_phi_num.append(all_phi.count(i))\n",
    "\n",
    "# Find philosopher(s) who is/are in most lists by using\n",
    "# the max-value of the prev. list and create a new list\n",
    "find_most_phi = []\n",
    "for i in range(len(all_phi_num)):\n",
    "    if (all_phi_num[i] == max(all_phi_num)):\n",
    "        find_most_phi.append(all_phi[i])\n",
    "\n",
    "# Deleting duplicates from prev. list and sort\n",
    "most_phi = sorted(set(find_most_phi))      \n",
    "\n",
    "# Printing out the most philosopher(s)\n",
    "for phi in most_phi:\n",
    "    print(phi + ' is in ' + str(max(all_phi_num)) + ' lists')"
   ]
  },
  {
   "cell_type": "markdown",
   "metadata": {},
   "source": [
    "* Let's investigate philosophers active in multiple sub-fields in more detail. \n",
    "     - Create a list of every philosopher that occurs in more than one list. \n",
    "     - Use Python to sort the list according to how many lists each philosopher belongs to (so the guy you found in the previous question is first in that list).\n",
    "     - Print the top 5 guys and their list counts. Have you heard of any of them?"
   ]
  },
  {
   "cell_type": "code",
   "execution_count": 46,
   "metadata": {
    "collapsed": false
   },
   "outputs": [
    {
     "name": "stdout",
     "output_type": "stream",
     "text": [
      "Aristotle is in 6 lists\n",
      "Thomas Aquinas is in 6 lists\n",
      "Bertrand Russell is in 5 lists\n",
      "Plato is in 5 lists\n",
      "Immanuel Kant is in 5 lists\n"
     ]
    }
   ],
   "source": [
    "# Combining two lists (all_phi_num and all_phi) into one list\n",
    "if (len(all_phi) == len(all_phi_num)):\n",
    "    all_phi_two = zip(all_phi, all_phi_num)\n",
    "else:\n",
    "    print('Lists are not of the same length')\n",
    "\n",
    "# Deleting duplicates from prev. list\n",
    "more_phi = set(all_phi_two)\n",
    "\n",
    "# Sort the list according to how often the philosophers appear\n",
    "sorted_by_num = sorted(more_phi, key=lambda tup: tup[1], reverse=True)\n",
    "\n",
    "# Printing out philosophers that appear in more than one list (First 5 of them)\n",
    "for phi_two in sorted_by_num[:5]:\n",
    "    if (phi_two[1] > 1):\n",
    "            print(phi_two[0] + ' is in ' + str(phi_two[1]) + ' lists')\n",
    "            "
   ]
  },
  {
   "cell_type": "markdown",
   "metadata": {},
   "source": [
    "We have heard of all of the philosophers listed above except Bertrand Russell.\n",
    "\n",
    "Aristotle the great Greek philosopher known for writing on many topics including physics, poetry, logic or politics. His writing are considered to be fundamental pillar of Western philosophy.\n",
    "\n",
    "Saint Thomas Aquinas was a theologist and a philosopher. He is known for for his works on importance of reason which he regarded independent on faith as well as many different writings on various issues.\n",
    "\n",
    "Plato is considered as one of the greatest philosophers that ever lived. He is also considered as one of the founders of Western science and philosophy.\n",
    "\n",
    "Immanuel Kant, German thinker of the Enlightenment era became known for his works on theory of knowledge, which had a great influence on later philosophers. He also contributed to the modern science as he wanted it to more empirical rather then theological."
   ]
  },
  {
   "cell_type": "markdown",
   "metadata": {},
   "source": [
    "\n",
    "## Degree distributions\n",
    "\n",
    "* Why do you think we want to use a directed graph? Could have we used an undirected graph instead?\n"
   ]
  },
  {
   "cell_type": "markdown",
   "metadata": {},
   "source": [
    "The reason for that is that it matters if page A links to page B, or page B links to page A or both link to each other. If we use undirected graphs we cannot tell that difference. If many philosophers link to on philosopher, he then must be important in some way and directed graphs illustrate that. "
   ]
  },
  {
   "cell_type": "markdown",
   "metadata": {},
   "source": [
    "* What is the total number of nodes in the network? What is the total number of links? What's the average degree? What's the median degree?\n"
   ]
  },
  {
   "cell_type": "code",
   "execution_count": 51,
   "metadata": {
    "collapsed": false
   },
   "outputs": [
    {
     "ename": "IOError",
     "evalue": "[Errno 2] No such file or directory: u'./philosophers_json/S\\xf8ren_Kierkegaard.json'",
     "output_type": "error",
     "traceback": [
      "\u001b[1;31m---------------------------------------------------------------------------\u001b[0m",
      "\u001b[1;31mIOError\u001b[0m                                   Traceback (most recent call last)",
      "\u001b[1;32m<ipython-input-51-45dc1ac820b0>\u001b[0m in \u001b[0;36m<module>\u001b[1;34m()\u001b[0m\n\u001b[0;32m     12\u001b[0m     \u001b[0mnamePhi_url\u001b[0m \u001b[1;33m=\u001b[0m \u001b[0mre\u001b[0m\u001b[1;33m.\u001b[0m\u001b[0msub\u001b[0m\u001b[1;33m(\u001b[0m\u001b[1;34m'\\s+'\u001b[0m\u001b[1;33m,\u001b[0m \u001b[1;34m'_'\u001b[0m\u001b[1;33m,\u001b[0m \u001b[0msorted_by_num\u001b[0m\u001b[1;33m[\u001b[0m\u001b[0mpp\u001b[0m\u001b[1;33m]\u001b[0m\u001b[1;33m[\u001b[0m\u001b[1;36m0\u001b[0m\u001b[1;33m]\u001b[0m\u001b[1;33m)\u001b[0m\u001b[1;33m\u001b[0m\u001b[0m\n\u001b[0;32m     13\u001b[0m \u001b[1;33m\u001b[0m\u001b[0m\n\u001b[1;32m---> 14\u001b[1;33m     \u001b[0mf\u001b[0m \u001b[1;33m=\u001b[0m \u001b[0mio\u001b[0m\u001b[1;33m.\u001b[0m\u001b[0mopen\u001b[0m\u001b[1;33m(\u001b[0m\u001b[1;34m'./philosophers_json/'\u001b[0m \u001b[1;33m+\u001b[0m \u001b[0mnamePhi_url\u001b[0m \u001b[1;33m+\u001b[0m \u001b[1;34m'.json'\u001b[0m\u001b[1;33m,\u001b[0m \u001b[1;34m'r'\u001b[0m\u001b[1;33m,\u001b[0m \u001b[0mencoding\u001b[0m\u001b[1;33m=\u001b[0m\u001b[1;34m'utf8'\u001b[0m\u001b[1;33m)\u001b[0m\u001b[1;33m\u001b[0m\u001b[0m\n\u001b[0m\u001b[0;32m     15\u001b[0m     \u001b[0mphi_link\u001b[0m \u001b[1;33m=\u001b[0m \u001b[0mre\u001b[0m\u001b[1;33m.\u001b[0m\u001b[0mfindall\u001b[0m\u001b[1;33m(\u001b[0m\u001b[1;34mr'\\[\\[(.*?)\\]\\]'\u001b[0m\u001b[1;33m,\u001b[0m \u001b[0mf\u001b[0m\u001b[1;33m.\u001b[0m\u001b[0mread\u001b[0m\u001b[1;33m(\u001b[0m\u001b[1;33m)\u001b[0m\u001b[1;33m)\u001b[0m\u001b[1;33m\u001b[0m\u001b[0m\n\u001b[0;32m     16\u001b[0m \u001b[1;33m\u001b[0m\u001b[0m\n",
      "\u001b[1;31mIOError\u001b[0m: [Errno 2] No such file or directory: u'./philosophers_json/S\\xf8ren_Kierkegaard.json'"
     ]
    }
   ],
   "source": [
    "import networkx as nx\n",
    "\n",
    "P = nx.DiGraph()\n",
    "\n",
    "# Go through list of philosophers and add notes to P for every philosopher\n",
    "for pp in range(len(sorted_by_num)):\n",
    "    P.add_node(sorted_by_num[pp][0])\n",
    "    \n",
    "    # Go through list of philosophers and find links\n",
    "for pp in range(len(sorted_by_num)): \n",
    "    # Whitespace changed to underscore\n",
    "    namePhi_url = re.sub('\\s+', '_', sorted_by_num[pp][0])\n",
    "    \n",
    "    f = io.open('./philosophers_json/' + namePhi_url + '.json', 'r', encoding='utf8')\n",
    "    phi_link = re.findall(r'\\[\\[(.*?)\\]\\]', f.read())\n",
    "    \n",
    "    # Add directed link from philosopher A to philosopher B \n",
    "    for ppp in range(len(sorted_by_num)):\n",
    "        if (sorted_by_num[ppp][0] in phi_link):\n",
    "            P.add_edge(sorted_by_num[pp][0], sorted_by_num[ppp][0])\n",
    "            # print(sorted_by_num[pp][0] + ' links to ' + sorted_by_num[ppp][0])"
   ]
  },
  {
   "cell_type": "code",
   "execution_count": null,
   "metadata": {
    "collapsed": true
   },
   "outputs": [],
   "source": []
  },
  {
   "cell_type": "code",
   "execution_count": 47,
   "metadata": {
    "collapsed": false
   },
   "outputs": [
    {
     "ename": "NameError",
     "evalue": "name 'P' is not defined",
     "output_type": "error",
     "traceback": [
      "\u001b[1;31m---------------------------------------------------------------------------\u001b[0m",
      "\u001b[1;31mNameError\u001b[0m                                 Traceback (most recent call last)",
      "\u001b[1;32m<ipython-input-47-706e5b3c5bac>\u001b[0m in \u001b[0;36m<module>\u001b[1;34m()\u001b[0m\n\u001b[0;32m      2\u001b[0m \u001b[1;33m\u001b[0m\u001b[0m\n\u001b[0;32m      3\u001b[0m \u001b[1;31m# Number of nodes in P\u001b[0m\u001b[1;33m\u001b[0m\u001b[1;33m\u001b[0m\u001b[0m\n\u001b[1;32m----> 4\u001b[1;33m \u001b[0mnumOfNodes\u001b[0m \u001b[1;33m=\u001b[0m \u001b[0mP\u001b[0m\u001b[1;33m.\u001b[0m\u001b[0mnumber_of_nodes\u001b[0m\u001b[1;33m(\u001b[0m\u001b[1;33m)\u001b[0m\u001b[1;33m\u001b[0m\u001b[0m\n\u001b[0m\u001b[0;32m      5\u001b[0m \u001b[1;32mprint\u001b[0m\u001b[1;33m(\u001b[0m\u001b[1;34m'Number of nodes in P: '\u001b[0m \u001b[1;33m+\u001b[0m \u001b[0mstr\u001b[0m\u001b[1;33m(\u001b[0m\u001b[0mnumOfNodes\u001b[0m\u001b[1;33m)\u001b[0m\u001b[1;33m)\u001b[0m\u001b[1;33m\u001b[0m\u001b[0m\n\u001b[0;32m      6\u001b[0m \u001b[1;33m\u001b[0m\u001b[0m\n",
      "\u001b[1;31mNameError\u001b[0m: name 'P' is not defined"
     ]
    }
   ],
   "source": [
    "import numpy\n",
    "\n",
    "# Number of nodes in P\n",
    "numOfNodes = P.number_of_nodes()\n",
    "print('Number of nodes in P: ' + str(numOfNodes))\n",
    "\n",
    "# Number of links in P\n",
    "numOfLinks = P.number_of_edges()\n",
    "print('Number of links in P: ' + str(numOfLinks))\n",
    "\n",
    "# Average degree of P\n",
    "avgDegree = float(numOfLinks) / float(numOfNodes)\n",
    "print('Average degree of P: ' + str(avgDegree))\n",
    "\n",
    "# Median degree of P\n",
    "nodesDegrees = []\n",
    "for i in range(len(sorted_by_num)):\n",
    "    nodesDegrees.append(P.degree(sorted_by_num[i][0]))\n",
    "print('Median degree of P: ' + str(numpy.median(nodesDegrees)))"
   ]
  },
  {
   "cell_type": "markdown",
   "metadata": {},
   "source": [
    "* List the top 10 philosophers by in-degree and out-degree. What is the interpretation of in-degree and out-degree in this case? Have you heard about these philosophers before?\n",
    "* Plot the distribution of in-degrees and out-degrees, binned using (for example) numpy.histogram. What is the most common degree?\n",
    "* Plot the distribution of in-degrees and out-degrees one more time, this time plotted loglog scale.\n",
    "* Describe the distributions (as you would in a well written figure caption). Do they look Poissonian? Power-law? Something in between?\n",
    "* Plot a scatter plot of the the in- versus out- degree for all philosophers using a loglog scale. Comment on the relation between the two. Do any particular philosophers stand out?"
   ]
  },
  {
   "cell_type": "code",
   "execution_count": null,
   "metadata": {
    "collapsed": true
   },
   "outputs": [],
   "source": []
  },
  {
   "cell_type": "code",
   "execution_count": null,
   "metadata": {
    "collapsed": true
   },
   "outputs": [],
   "source": []
  },
  {
   "cell_type": "code",
   "execution_count": null,
   "metadata": {
    "collapsed": true
   },
   "outputs": [],
   "source": []
  }
 ],
 "metadata": {
  "anaconda-cloud": {},
  "kernelspec": {
   "display_name": "Python [Root]",
   "language": "python",
   "name": "Python [Root]"
  },
  "language_info": {
   "codemirror_mode": {
    "name": "ipython",
    "version": 2
   },
   "file_extension": ".py",
   "mimetype": "text/x-python",
   "name": "python",
   "nbconvert_exporter": "python",
   "pygments_lexer": "ipython2",
   "version": "2.7.12"
  }
 },
 "nbformat": 4,
 "nbformat_minor": 1
}
