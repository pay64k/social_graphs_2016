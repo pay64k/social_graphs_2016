{
 "cells": [
  {
   "cell_type": "markdown",
   "metadata": {},
   "source": [
    "# Formalia:\n",
    "\n",
    "Please read the [assignment overview page](https://github.com/suneman/socialgraphs2016/wiki/Assignments) carefully before proceeding. This page contains information about formatting (including formats etc), group sizes, and many other aspects of handing in the assignment. \n",
    "\n",
    "_If you fail to follow these simple instructions, it will negatively impact your grade!_\n",
    "\n",
    "**Due date and time**: The assignment is due on Sunday September 25th at 23:55. Hand in your IPython notebook file (with extension `.ipynb`) via http://peergrade.io/."
   ]
  },
  {
   "cell_type": "markdown",
   "metadata": {},
   "source": [
    "# Part One: Network Models\n",
    "\n",
    "## Watts-Strogatz Networks\n",
    "\n",
    "* Use `nx.watts_strogatz_graph` to generate 3 graphs with 500 nodes each, average degree = 4, and rewiring probablity _p_ = 0, 0.1, and 1\\. Calculate the average shortest path length < _d_ \\> for each one. Describe what happens to the network when _p_ = 1\\.\n",
    "* Let's understand the behavior of the WS model as we increase _p_ in more detail. Generate 50 networks with _N_ = 500, < _k_ \\> = 4, for each of _p_ = {0, 0.01, 0.03, 0.05, 0.1, 0.2}. Calculate the average of < _d_ \\> as well as the standard deviation over the 50 networks, to create a plot that shows how the path length decreases very quickly with only a little fraction of re-wiring. Use the standard deviation to add [errorbars](http://matplotlib.org/1.2.1/examples/pylab_examples/errorbar_demo.html \"Link: http://matplotlib.org/1.2.1/examples/pylab_examples/errorbar_demo.html\") to the plot. My version of the plot is below (since a picture's worth 1000 words).\n",
    "\n",
    "![Sune's version](https://dl.dropboxusercontent.com/u/153071/02805/ws.png)"
   ]
  },
  {
   "cell_type": "markdown",
   "metadata": {},
   "source": [
    "## The Barabasi-Albert Model\n",
    "\n",
    "We're going to create our own Barabasi-Albert model (a special case) in right in a `notebook`. Follow the recipe below for success\n",
    "\n",
    "* Create a 100 node BA network using a BA model that you've coded on your own (so don't use the built-in NetworkX function, but the one you created during week 3). And plot it using NetworkX.\n",
    "* Now create a 5000 node network.\n",
    "  * What's the maximum and minimum degree?\n",
    "  * Now, bin the degree distribution, for example using `numpy.histogram`.\n",
    "  * Plot the distribution. Plot it with both linear and log-log axes.\n",
    "\n",
    "![Sune's version](https://dl.dropboxusercontent.com/u/153071/02805/ba.png)"
   ]
  },
  {
   "cell_type": "markdown",
   "metadata": {},
   "source": [
    "## Power-laws and the friendship paradox\n",
    "\n",
    "Next step is to explore the [Friendship paradox](https://en.wikipedia.org/wiki/Friendship_paradox). This paradox states that _almost everyone_ have fewer friends than their friends have, on average. This sounds crazy, but is actually an almost trivial consequence of living in a social network with a power-law degree distribution. The explanation is that almost everyone is friends with a hub, that drives up the average degree of the friends. Let's explore that in the 5000 node BA network we've just generated. Do the following:\n",
    "\n",
    "* Pick a node _i_ at random (e.g. use `random.choice`). [Find its degree](http://networkx.lanl.gov/reference/generated/networkx.Graph.degree.html).\n",
    "* Find _i_'s [neighbors](http://networkx.lanl.gov/reference/generated/networkx.Graph.neighbors.html). And calculate their average degree.\n",
    "* Compare the two numbers to check if it's true that _i_'s friends (on average) have more friends than _i_.\n",
    "* Do this 1000 times. How many out of those 1000 times is the friendship paradox true?"
   ]
  },
  {
   "cell_type": "markdown",
   "metadata": {},
   "source": [
    "## Growth without preferential attachment\n",
    "\n",
    "Finally, we'll build a network of same size and degree, using the growth mechanism without the preferential attachment. \n",
    "\n",
    "Compare the network you've just built to the ER network of same size and same _p_. What are the differences? Explain in your own words. _Hint_: To get started, take a look at the degree distribution, and study the number of connected components."
   ]
  },
  {
   "cell_type": "markdown",
   "metadata": {},
   "source": [
    "# Part Two: The Wikipedia Philosopher's network\n",
    "\n",
    "This exercise assumes that you have downloaded and created the directed network of philosophers on Wikipedia, based on the six branches of philosophy on you own. \n",
    "\n",
    "## Basic stats\n",
    "\n",
    "First put together an overview of the 7 lists you created as part of lecture 4. \n",
    "\n",
    "* Let's put together some descriptive statistics:\n",
    "  * How many philosophers in each list? How many total?\n",
    "  * Which is the largest branch of philosophy? (according to number of Wikipedia philosopher-pages)\n",
    "  * Which philosopher is in most lists & and how many?\n",
    "  * Let's investigate philosophers active in multiple sub-fields in more detail. \n",
    "     - Create a list of every philosopher that occurs in more than one list. \n",
    "     - Use Python to sort the list according to how many lists each philosopher belongs to (so the guy you found in the previous question is first in that list).\n",
    "     - Print the top 5 guys and their list counts. Have you heard of any of them?\n",
    "\n",
    "## Degree distributions\n",
    "\n",
    "* Why do you think we want to use a directed graph? Could have we used an undirected graph instead?\n",
    "* What is the total number of nodes in the network? What is the total number of links? What's the average degree? What's the median degree?\n",
    "* List the top 10 philosophers by in-degree and out-degree. What is the interpretation of in-degree and out-degree in this case? Have you heard about these philosophers before?\n",
    "* Plot the distribution of in-degrees and out-degrees, binned using (for example) `numpy.histogram`. What is the most common degree?\n",
    "* Plot the distribution of in-degrees and out-degrees one more time, this time plotted loglog scale.\n",
    "* Describe the distributions (as you would in a well written figure caption). Do they look Poissonian? Power-law? Something in between?\n",
    "* Plot a scatter plot of the the in- versus out- degree for all philosophers using a loglog scale. Comment on the relation between the two. Do any particular philosophers stand out?"
   ]
  },
  {
   "cell_type": "code",
   "execution_count": null,
   "metadata": {
    "collapsed": true
   },
   "outputs": [],
   "source": []
  }
 ],
 "metadata": {
  "anaconda-cloud": {},
  "kernelspec": {
   "display_name": "Python [conda root]",
   "language": "python",
   "name": "conda-root-py"
  },
  "language_info": {
   "codemirror_mode": {
    "name": "ipython",
    "version": 2
   },
   "file_extension": ".py",
   "mimetype": "text/x-python",
   "name": "python",
   "nbconvert_exporter": "python",
   "pygments_lexer": "ipython2",
   "version": "2.7.12"
  }
 },
 "nbformat": 4,
 "nbformat_minor": 1
}
