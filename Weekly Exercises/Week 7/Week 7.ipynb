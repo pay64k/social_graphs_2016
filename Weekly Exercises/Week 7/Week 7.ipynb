{
 "cells": [
  {
   "cell_type": "markdown",
   "metadata": {},
   "source": [
    "### *Exercise*: Just a couple of examples from the book: Work through the exercises NLPP1e 3.12: 6, 30."
   ]
  },
  {
   "cell_type": "markdown",
   "metadata": {
    "collapsed": true
   },
   "source": [
    "#### 6.\n",
    "Describe the class of strings matched by the following regular expressions.\n",
    "    1. [a-zA-Z]+\n",
    "    2. [A-Z][a-z]*\n",
    "    3. p[aeiou]{,2}t\n",
    "    4. \\d+(\\.\\d+)?\n",
    "    5. ([^aeiou][aeiou][^aeiou])*\n",
    "    6. \\w+|[^\\w\\s]+"
   ]
  },
  {
   "cell_type": "markdown",
   "metadata": {},
   "source": [
    "1. Matches any word with ASCII characters.\n",
    "2. Matches any word starting with a upper case.\n",
    "3. Matches words that start with *p* and end with *t*, that have 0 to 2 instances of any of these characters *a, e, i, o, u*.\n",
    "4. Matches any positive digit, also those with decimal points.\n",
    "5. ...\n",
    "6. Matches any word character, also unicode charachters"
   ]
  },
  {
   "cell_type": "markdown",
   "metadata": {},
   "source": [
    "Test your answers using nltk.re_show()."
   ]
  },
  {
   "cell_type": "code",
   "execution_count": 2,
   "metadata": {
    "collapsed": false
   },
   "outputs": [
    {
     "name": "stdout",
     "output_type": "stream",
     "text": [
      "[a-zA-Z]+\n",
      "{Hello}, {world}. {paat} {paet} {paaat}. 1, 23, 2.3, -23. Óð{inn}\n",
      "---\n",
      "[A-Z][a-z]*\n",
      "{Hello}, world. paat paet paaat. 1, 23, 2.3, -23. Óðinn\n",
      "---\n",
      "p[aeiou]{,2}t\n",
      "Hello, world. {paat} {paet} paaat. 1, 23, 2.3, -23. Óðinn\n",
      "---\n",
      "\\d+(\\.\\d+)?\n",
      "Hello, world. paat paet paaat. {1}, {23}, {2.3}, -{23}. Óðinn\n",
      "---\n",
      "([^aeiou][aeiou][^aeiou])*\n",
      "{Hello,} {wor}l{}d{}.{} {}p{}a{}a{}t{} {}p{}a{}e{}t{} {}p{}a{}a{}a{}t{}.{} {}1{},{} {}2{}3{},{} {}2{}.{}3{},{} {}-{}2{}3{}.{} {}�{}�{}�{�in}n{}\n",
      "---\n",
      "\\w+|[^\\w\\s]+\n",
      "{Hello}{,} {world}{.} {paat} {paet} {paaat}{.} {1}{,} {23}{,} {2}{.}{3}{,} {-}{23}{.} {Óð}{inn}\n",
      "---\n"
     ]
    }
   ],
   "source": [
    "import nltk\n",
    "string = 'Hello, world. paat paet paaat. 1, 23, 2.3, -23. Óðinn'\n",
    "reg_exp = ['[a-zA-Z]+', '[A-Z][a-z]*', 'p[aeiou]{,2}t',\n",
    "           '\\d+(\\.\\d+)?', '([^aeiou][aeiou][^aeiou])*',\n",
    "           '\\w+|[^\\w\\s]+']\n",
    "\n",
    "for i in reg_exp:\n",
    "    print i\n",
    "    nltk.re_show(i, string)\n",
    "    print '---'"
   ]
  },
  {
   "cell_type": "markdown",
   "metadata": {},
   "source": [
    "#### 30.\n",
    "Use the Porter Stemmer to normalize some tokenized text, calling the stemmer on each word. Do the same thing with the Lancaster Stemmer and see if you observe any differences."
   ]
  },
  {
   "cell_type": "code",
   "execution_count": 3,
   "metadata": {
    "collapsed": false,
    "scrolled": true
   },
   "outputs": [
    {
     "name": "stdout",
     "output_type": "stream",
     "text": [
      "DENNIS: Listen, strange women lying in ponds distributing swords\n",
      "is no basis for a system of government.  Supreme executive power derives from\n",
      "a mandate from the masses, not from some farcical aquatic ceremony.\n"
     ]
    }
   ],
   "source": [
    "# Raw text\n",
    "raw = \"\"\"DENNIS: Listen, strange women lying in ponds distributing swords\n",
    "is no basis for a system of government.  Supreme executive power derives from\n",
    "a mandate from the masses, not from some farcical aquatic ceremony.\"\"\"\n",
    "\n",
    "print(raw)\n",
    "\n",
    "# Tokenize the raw text\n",
    "tokens = nltk.word_tokenize(raw)"
   ]
  },
  {
   "cell_type": "code",
   "execution_count": 4,
   "metadata": {
    "collapsed": false
   },
   "outputs": [
    {
     "name": "stdout",
     "output_type": "stream",
     "text": [
      "DENNI\n",
      ":\n",
      "Listen\n",
      ",\n",
      "strang\n",
      "women\n",
      "lie\n",
      "in\n",
      "pond\n",
      "distribut\n",
      "sword\n",
      "is\n",
      "no\n",
      "basi\n",
      "for\n",
      "a\n",
      "system\n",
      "of\n",
      "govern\n",
      ".\n",
      "Suprem\n",
      "execut\n",
      "power\n",
      "deriv\n",
      "from\n",
      "a\n",
      "mandat\n",
      "from\n",
      "the\n",
      "mass\n",
      ",\n",
      "not\n",
      "from\n",
      "some\n",
      "farcic\n",
      "aquat\n",
      "ceremoni\n",
      ".\n"
     ]
    }
   ],
   "source": [
    "# Porter Stemmer\n",
    "porter = nltk.PorterStemmer()\n",
    "for t in tokens:\n",
    "    print(porter.stem(t))"
   ]
  },
  {
   "cell_type": "code",
   "execution_count": 5,
   "metadata": {
    "collapsed": false
   },
   "outputs": [
    {
     "name": "stdout",
     "output_type": "stream",
     "text": [
      "den\n",
      ":\n",
      "list\n",
      ",\n",
      "strange\n",
      "wom\n",
      "lying\n",
      "in\n",
      "pond\n",
      "distribut\n",
      "sword\n",
      "is\n",
      "no\n",
      "bas\n",
      "for\n",
      "a\n",
      "system\n",
      "of\n",
      "govern\n",
      ".\n",
      "suprem\n",
      "execut\n",
      "pow\n",
      "der\n",
      "from\n",
      "a\n",
      "mand\n",
      "from\n",
      "the\n",
      "mass\n",
      ",\n",
      "not\n",
      "from\n",
      "som\n",
      "farc\n",
      "aqu\n",
      "ceremony\n",
      ".\n"
     ]
    }
   ],
   "source": [
    "# Lancaster Stemmer\n",
    "lancaster = nltk.LancasterStemmer()\n",
    "for t in tokens:\n",
    "    print(lancaster.stem(t))"
   ]
  },
  {
   "cell_type": "markdown",
   "metadata": {
    "collapsed": true
   },
   "source": [
    "### Exercises: TF-IDF and the branches of philosophy.\n",
    "\n",
    "Setup. We want to start from a clean version of the philosopher pages with as little wiki-markup as possible. We needed it earlier to get the links, etc, but now we want a readable version. We can get a fairly nice version directly from the wikipedia API, simply call prop=extracts&exlimit=max&explaintext instead of prop=revisions as we did earlier. This will make the API return the text without links and other markup.\n",
    "* Use this method to retrive a nice copy of all philosopher's text. You can, of course, also clean the existing pages using regular expressions, if you like (but that's probably more work)."
   ]
  },
  {
   "cell_type": "code",
   "execution_count": 6,
   "metadata": {
    "collapsed": true
   },
   "outputs": [],
   "source": [
    "# Create a list of all philosophers from six different branches\n",
    "import io\n",
    "import re\n",
    "\n",
    "branches_of_phi = ['aestheticians', 'epistemologists',\n",
    "                   'ethicists', 'logicians', 'metaphysicians',\n",
    "                   'social_and_political_philosophers']\n",
    "\n",
    "all_phi = []\n",
    "for phi in branches_of_phi:\n",
    "    f = io.open('./wikitext_' + phi + '.txt', 'r', encoding='utf8')\n",
    "    branch_of_phi = re.findall(r'\\[\\[(.*?)\\]\\]', f.read())\n",
    "    all_phi = all_phi + branch_of_phi\n",
    "\n",
    "# Deleting duplicates from prev. list and sort alphabetically\n",
    "philosophers = sorted(set(all_phi))"
   ]
  },
  {
   "cell_type": "code",
   "execution_count": 1,
   "metadata": {
    "collapsed": true
   },
   "outputs": [],
   "source": [
    "import urllib2\n",
    "import json\n",
    "\n",
    "# Function for retrieving json data from Wikipedia\n",
    "def jsonWiki( name ):\n",
    "    # Parameters for retrieving page from wikipedia\n",
    "    baseurl = 'https://en.wikipedia.org/w/api.php?'\n",
    "    action = \"action=query\"\n",
    "    title = \"titles=\" + name\n",
    "    content = \"prop=extracts&exlimit=max&explaintext&rvprop=content\"\n",
    "    dataformat = \"format=json\"\n",
    "\n",
    "    # Construct the query\n",
    "    query = \"%s%s&%s&%s&%s\" % (baseurl, action, title, content, dataformat)\n",
    "\n",
    "    # Download json format of wikipedia page\n",
    "    wikiresponse = urllib2.urlopen(query)\n",
    "    wikisource = wikiresponse.read()\n",
    "    wikijson = json.loads(wikisource)\n",
    "    \n",
    "    return wikijson"
   ]
  },
  {
   "cell_type": "code",
   "execution_count": 7,
   "metadata": {
    "collapsed": true
   },
   "outputs": [],
   "source": [
    "# Go through the list 'philosophers' and download their respective pages\n",
    "for i in philosophers:\n",
    "    #Convert philosophers' names from utf8 to string\n",
    "    nameStr = i.encode(\"utf-8\")\n",
    "    \n",
    "    # Whitespace changed to underscore\n",
    "    name_url = re.sub('\\s+', '_', nameStr)\n",
    "    \n",
    "    with io.open('./philosophers_json/' + name_url + '.json', 'w', encoding='utf8') as json_file:\n",
    "        json_file.write(unicode(json.dumps(jsonWiki(name_url), ensure_ascii=False)))"
   ]
  },
  {
   "cell_type": "code",
   "execution_count": 8,
   "metadata": {
    "collapsed": true
   },
   "outputs": [],
   "source": [
    "# Find number of philosophers in each of the six branches\n",
    "branch_start_list = [0]\n",
    "branch_start = 0\n",
    "for phi in branches_of_phi:\n",
    "    f = io.open('./wikitext_' + phi + '.txt', 'r', encoding='utf8')\n",
    "    branch_of_phi = re.findall(r'\\[\\[(.*?)\\]\\]', f.read())\n",
    "    branch_start = branch_start + len(branch_of_phi)\n",
    "    branch_start_list.append(branch_start)\n",
    "\n",
    "# Extract philosophers from 'all_phi' list into their branches by using the size of their branch\n",
    "aestheticians = all_phi[branch_start_list[0]:branch_start_list[1]]\n",
    "epistemologists = all_phi[branch_start_list[1]:branch_start_list[2]]\n",
    "ethicists = all_phi[branch_start_list[2]:branch_start_list[3]]\n",
    "logicians = all_phi[branch_start_list[3]:branch_start_list[4]]\n",
    "metaphysicians = all_phi[branch_start_list[4]:branch_start_list[5]]\n",
    "social_and_political = all_phi[branch_start_list[5]:branch_start_list[6]]"
   ]
  },
  {
   "cell_type": "markdown",
   "metadata": {},
   "source": [
    "The exercise.\n",
    "* First, check out [the wikipedia page for TF-IDF](https://en.wikipedia.org/wiki/Tf%E2%80%93idf). Explain in your own words the point of TF-IDF.\n",
    "    * What does TF stand for?\n",
    "    * What does IDF stand for?"
   ]
  },
  {
   "cell_type": "markdown",
   "metadata": {},
   "source": [
    "Tf-idf stands for term frequency-inverse document frequency, and the tf-idf weight is a weight often used in information retrieval and text mining. This weight is a statistical measure used to evaluate how important a word is to a document in a collection or corpus. The importance increases proportionally to the number of times a word appears in the document but is offset by the frequency of the word in the corpus."
   ]
  },
  {
   "cell_type": "markdown",
   "metadata": {},
   "source": [
    "* Since we want to find out which words are important for each branch, so we're going to create six large documents, one per branch of philosophy. Tokenize the pages, and combine the tokens into one long list per branch. Remember the bullets below for success.\n",
    "    * If you dont' know what tokenization means, go back and read Chapter 3 again. This advice is valid for every cleaning step below.\n",
    "    * Exclude philosopher names (since we're interested in the words, not the names).\n",
    "    * Exclude punctuation.\n",
    "    * Exclude stop words (if you don't know what stop words are, go back and read NLPP1e again).\n",
    "    * Exclude numbers (since they're difficult to interpret in the word cloud).\n",
    "    * Set everything to lower case.\n",
    "    * Note that none of the above has to be perfect. It might not be easy to remove all philosopher names. And there's some room for improvisation. You can try using stemming. In my own first run the results didn't look so nice, because some pages are very detailed and repeat certain words again and again and again, whereas other pages are very short. For that reason, I decided to use the unique set of words from each page rather than each word in proportion to how it's actually used on that page. Choices like that are up to you."
   ]
  },
  {
   "cell_type": "code",
   "execution_count": 25,
   "metadata": {
    "collapsed": false
   },
   "outputs": [
    {
     "name": "stdout",
     "output_type": "stream",
     "text": [
      "[[u'batchcomplete', u'query', u'normalized', u'to', u'Andreas', u'Linder', u'from', u'Andreas', u'Linder', u'pages', u'ns', u'missing', u'title', u'Andreas', u'Linder', u'limits', u'extracts', u'warnings', u'main', u'Unrecognized', u'parameter', u'rvprop'], [u'batchcomplete', u'query', u'normalized', u'to', u'Virgil', u'Aldrich', u'from', u'Virgil', u'Aldrich', u'pages', u'extract', u'Virgil', u'Charles', u'Aldrich', u'September', u'Narsinghpur', u'India', u'May', u'Salt', u'Lake', u'City', u'Utah', u'was', u'an', u'American', u'philosopher', u'of', u'art', u'language', u'and', u'religion', u'n', u'n', u'n', u'Early', u'life', u'and', u'education', u'nThe', u'son', u'of', u'Floyd', u'Clement', u'Aldrich', u'and', u'his', u'wife', u'Ann', u'Hanley', u'Virgil', u'Aldrich', u'earned', u'his', u'Bachelor', u'of', u'Arts', u'degree', u'at', u'Ohio', u'Wesleyan', u'University', u'in', u'He', u'studied', u'at', u'Oxford', u'University', u'in', u'and', u'then', u'went', u'on', u'to', u'earn', u'a', u'Dipl', u'me', u'd', u'tudes', u'Sup', u'rieures', u'de', u'Philosophie', u'at', u'the', u'Sorbonne', u'in', u'before', u'completing', u'his', u'Ph', u'D', u'at', u'the', u'University', u'of', u'California', u'Berkeley', u'in', u'He', u'married', u'Louise', u'Hafliger', u'on', u'September', u'and', u'they', u'had', u'one', u'son', u'David', u'Virgil', u'Aldrich', u'n', u'n', u'n', u'Academic', u'career', u'nAldrich', u's', u'first', u'academic', u'appointment', u'was', u'his', u'appointment', u'as', u'an', u'instructor', u'in', u'philosophy', u'at', u'Rice', u'University', u'in', u'and', u'Sterling', u'Fellow', u'at', u'Yale', u'University', u'in', u'Promoted', u'to', u'assistant', u'professor', u'he', u'remained', u'at', u'Rice', u'until', u'when', u'he', u'was', u'appointed', u'visiting', u'professor', u'at', u'Columbia', u'University', u'from', u'to', u'Appointed', u'professor', u'of', u'philosophy', u'at', u'Kenyon', u'College', u'in', u'he', u'remained', u'there', u'until', u'serving', u'as', u'visiting', u'professor', u'at', u'Brown', u'University', u'in', u'In', u'he', u'became', u'professor', u'of', u'philosophy', u'at', u'the', u'University', u'of', u'North', u'Carolina', u'at', u'Chapel', u'Hill', u'where', u'he', u'remained', u'until', u'his', u'retirement', u'in', u'On', u'his', u'retirement', u'he', u'moved', u'to', u'Salt', u'Lake', u'City', u'Utah', u'where', u'he', u'became', u'an', u'adjunct', u'professor', u'at', u'the', u'University', u'of', u'Utah', u'nAldrich', u'served', u'as', u'Director', u'of', u'the', u'Kyoto', u'American', u'Studies', u'Institute', u'in', u'Japan', u'and', u'for', u'short', u'periods', u'was', u'visiting', u'professor', u'at', u'Harvard', u'University', u'the', u'University', u'of', u'Michigan', u'and', u'the', u'University', u'of', u'Texas', u'He', u'served', u'as', u'trustee', u'and', u'president', u'of', u'the', u'American', u'Society', u'of', u'Aesthetics', u'and', u'president', u'of', u'American', u'Philosophical', u'Association', u'n', u'n', u'n', u'Some', u'Meanings', u'of', u'Vague', u'nIn', u'his', u'article', u'Some', u'Meanings', u'of', u'Vague', u'Aldrich', u'puts', u'forth', u'a', u'series', u'of', u'definitions', u'of', u'vague', u'objects', u'and', u'sensum', u'and', u'then', u'argues', u'that', u'any', u'empiricist', u'must', u'account', u'for', u'vague', u'sensum', u'every', u'bit', u'as', u'much', u'as', u'clear', u'sensum', u'without', u'skirting', u'the', u'issue', u'He', u'takes', u'there', u'to', u'be', u'many', u'kinds', u'of', u'vagueness', u'importantly', u'there', u'is', u'vagueness', u'of', u'symbols', u'and', u'vagueness', u'of', u'senses', u'Here', u'symbols', u'are', u'anything', u'which', u'is', u'used', u'to', u'refer', u'including', u'verbal', u'words', u'signs', u'pictures', u'and', u'more', u'Vagueness', u'regarding', u'symbols', u'can', u'be', u'the', u'same', u'as', u'the', u'vagueness', u'which', u'regards', u'the', u'senses', u'There', u'can', u'additionally', u'be', u'vagueness', u'of', u'the', u'practices', u'surrounding', u'the', u'use', u'of', u'the', u'symbol', u'to', u'refer', u'These', u'he', u'suggests', u'should', u'be', u'avoided', u'n', u'n', u'n', u'Honors', u'nL', u'H', u'D', u'Ohio', u'Wesleyan', u'University', u'nL', u'H', u'D', u'Kenyon', u'College', u'n', u'n', u'n', u'Writings', u'nBooks', u'nLanguage', u'and', u'philosophy', u'Kyoto', u'Kyoto', u'American', u'Studies', u'Seminar', u'nPhilosophy', u'of', u'Art', u'Englewood', u'Cliffs', u'N', u'J', u'Prentice', u'Hall', u'nThe', u'Body', u'of', u'a', u'Person', u'Lanham', u'MD', u'University', u'Press', u'of', u'America', u'nMy', u'Century', u'Nantucket', u'Massachusetts', u'EditAndPublishYourBook', u'com', u'Lulu', u'November', u'nPhilosophical', u'Reflections', u'Nantucket', u'Massachusetts', u'EditAndPublishYourBook', u'com', u'Lulu', u'nDecember', u'nContributions', u'nReadings', u'in', u'Philosophical', u'Analysis', u'nReflections', u'on', u'Art', u'nReligious', u'Experience', u'and', u'Truth', u'nFaith', u'and', u'the', u'Philosophers', u'nWorld', u'Perspectives', u'on', u'Philosophy', u'n', u'Design', u'Composition', u'and', u'Symbol', u'The', u'Journal', u'of', u'Aesthetics', u'and', u'Art', u'Criticism', u'Vol', u'No', u'Summer', u'pp', u'nStudies', u'in', u'philosophy', u'a', u'symposium', u'on', u'Gilbert', u'Ryle', u'Edited', u'by', u'Konstantin', u'Kolenda', u'Houston', u'Tex', u'William', u'Marsh', u'Rice', u'University', u'n', u'Pictures', u'and', u'Persons', u'in', u'Review', u'of', u'Metaphysics', u'n', u'Description', u'and', u'expression', u'Physicalism', u'restricted', u'Inquiry', u'vol', u'pp', u'nFalling', u'in', u'love', u'with', u'wisdom', u'American', u'philosophers', u'talk', u'about', u'their', u'calling', u'edited', u'by', u'David', u'D', u'Karnos', u'Robert', u'G', u'Shoemaker', u'New', u'York', u'Oxford', u'University', u'Press', u'nFestschrift', u'nBody', u'mind', u'and', u'method', u'essays', u'in', u'honor', u'of', u'Virgil', u'C', u'Aldrich', u'edited', u'by', u'Donald', u'F', u'Gustafson', u'and', u'Bangs', u'L', u'Tapscott', u'Dordrecht', u'and', u'Boston', u'D', u'Reidel', u'Pub', u'Co', u'n', u'n', u'n', u'See', u'also', u'nAmerican', u'philosophy', u'nList', u'of', u'American', u'philosophers', u'n', u'n', u'n', u'References', u'n', u'n', u'n', u'Sources', u'nUniversity', u'of', u'Utah', u'Library', u'nWho', u's', u'Who', u'n', u'n', u'n', u'External', u'links', u'nKenyon', u'College', u'Obituary', u'nInventory', u'of', u'the', u'Vigil', u'Aldrich', u'Papers', u'Marriott', u'Library', u'University', u'of', u'Utah', u'nBody', u'Mind', u'and', u'Method', u'available', u'at', u'Google', u'Books', u'nEntry', u'for', u'Virgil', u'Aldrich', u'at', u'JSTOR', u'nReview', u'at', u'the', u'Journal', u'of', u'Symbolic', u'Logic', u'ns', u'pageid', u'title', u'Virgil', u'Aldrich', u'limits', u'extracts', u'warnings', u'extracts', u'exlimit', u'was', u'too', u'large', u'for', u'a', u'whole', u'article', u'extracts', u'request', u'lowered', u'to', u'main', u'Unrecognized', u'parameter', u'rvprop'], [u'batchcomplete', u'query', u'pages', u'extract', u'Anandavardhana', u'was', u'the', u'author', u'of', u'Dhvanyaloka', u'a', u'work', u'articulating', u'the', u'philosophy', u'of', u'aesthetic', u'suggestion', u'The', u'philosopher', u'Abhinavagupta', u'wrote', u'an', u'important', u'commentary', u'on', u'it', u'nAnandavardhana', u'is', u'credited', u'with', u'creating', u'the', u'dhvani', u'theory', u'He', u'wrote', u'of', u'dhvani', u'meaning', u'sound', u'or', u'resonance', u'in', u'regard', u'to', u'the', u'soul', u'of', u'poetry', u'When', u'the', u'poet', u'writes', u'said', u'Anandavardhana', u'he', u'creates', u'a', u'resonant', u'field', u'of', u'emotions', u'To', u'understand', u'the', u'poetry', u'the', u'reader', u'or', u'hearer', u'must', u'be', u'on', u'the', u'same', u'wavelength', u'The', u'method', u'requires', u'sensitivity', u'on', u'the', u'parts', u'of', u'the', u'writer', u'and', u'the', u'reader', u'The', u'complete', u'Dhvanyaloka', u'together', u'with', u'Abhinavagupta', u's', u'commentary', u'on', u'it', u'has', u'been', u'translated', u'into', u'English', u'by', u'the', u'eminent', u'sanskritist', u'Daniel', u'H', u'H', u'Ingalls', u'and', u'his', u'collaborators', u'n', u'n', u'n', u'Assessment', u'by', u'Modern', u'Sanskritists', u'nModern', u'Sanskritists', u'have', u'a', u'very', u'high', u'opinion', u'of', u'Anandavardhana', u'Commenting', u'on', u'Anandavardhana', u's', u'Dhvanyaloka', u'P', u'V', u'Kane', u'writes', u'that', u'the', u'Dhvanyaloka', u'is', u'an', u'epoch', u'making', u'work', u'in', u'the', u'history', u'of', u'Alankara', u'literature', u'It', u'occupies', u'the', u'same', u'position', u'in', u'poetics', u'as', u'Panini', u's', u'Ashadhyayi', u'in', u'grammar', u'and', u'Sankracarya', u's', u'commentary', u'on', u'Vedanta', u'And', u'Daniel', u'H', u'H', u'Ingalls', u'calls', u'Anandavardhana', u'the', u'most', u'brilliant', u'of', u'all', u'Sanskrit', u'critics', u'n', u'n', u'n', u'References', u'n', u'n', u'n', u'External', u'links', u'nBamzai', u'P', u'M', u'K', u'Kashmir', u'The', u'Home', u'of', u'Sanskrit', u'Language', u'and', u'Literature', u'Retrieved', u'on', u'November', u'nThe', u'Dhvanyaloka', u'of', u'Anandavardhana', u'with', u'the', u'Locana', u'of', u'Abhinavagupta', u'for', u'purchase', u'only', u'nrevised', u'GRETIL', u'e', u'text', u'untranslated', u'of', u'the', u'Dhvany', u'loka', u'based', u'on', u'the', u'edition', u'by', u'K', u'Krishnamoorthy', u'Delhi', u'Motilal', u'Banarsidass', u'ns', u'pageid', u'title', u'Anandavardhana', u'limits', u'extracts', u'warnings', u'extracts', u'exlimit', u'was', u'too', u'large', u'for', u'a', u'whole', u'article', u'extracts', u'request', u'lowered', u'to', u'main', u'Unrecognized', u'parameter', u'rvprop'], [u'batchcomplete', u'query', u'normalized', u'to', u'Sri', u'Aurobindo', u'from', u'Sri', u'Aurobindo', u'pages', u'extract', u'Sri', u'Aurobindo', u'Bengali', u'Sri', u'robindo', u'born', u'Aurobindo', u'Ghose', u'August', u'December', u'was', u'an', u'Indian', u'nationalist', u'philosopher', u'yogi', u'guru', u'and', u'poet', u'He', u'joined', u'the', u'Indian', u'movement', u'for', u'independence', u'from', u'British', u'rule', u'for', u'a', u'while', u'was', u'one', u'of', u'its', u'influential', u'leaders', u'and', u'then', u'became', u'a', u'spiritual', u'reformer', u'introducing', u'his', u'visions', u'on', u'human', u'progress', u'and', u'spiritual', u'evolution', u'nAurobindo', u'studied', u'for', u'the', u'Indian', u'Civil', u'Service', u'at', u'King', u's', u'College', u'Cambridge', u'England', u'After', u'returning', u'to', u'India', u'he', u'took', u'up', u'various', u'civil', u'service', u'works', u'under', u'the', u'maharaja', u'of', u'the', u'princely', u'state', u'of', u'Baroda', u'and', u'began', u'increasingly', u'involved', u'in', u'nationalist', u'politics', u'and', u'the', u'nascent', u'revolutionary', u'movement', u'in', u'Bengal', u'He', u'was', u'arrested', u'in', u'the', u'aftermath', u'of', u'a', u'number', u'of', u'bomb', u'outrages', u'linked', u'to', u'his', u'organisation', u'but', u'was', u'only', u'convicted', u'and', u'imprisoned', u'for', u'writing', u'articles', u'against', u'British', u'rule', u'in', u'India', u'He', u'was', u'released', u'when', u'no', u'evidence', u'could', u'be', u'provided', u'following', u'the', u'murder', u'of', u'prosecution', u'witness', u'during', u'the', u'trial', u'During', u'his', u'stay', u'in', u'the', u'jail', u'he', u'had', u'mystical', u'and', u'spiritual', u'experiences', u'after', u'which', u'he', u'moved', u'to', u'Pondicherry', u'leaving', u'politics', u'for', u'spiritual', u'work', u'nDuring', u'his', u'stay', u'in', u'Pondicherry', u'Aurobindo', u'developed', u'a', u'method', u'of', u'spiritual', u'practice', u'he', u'called', u'Integral', u'Yoga', u'The', u'central', u'theme', u'of', u'his', u'vision', u'was', u'the', u'evolution', u'of', u'human', u'life', u'into', u'a', u'life', u'divine', u'He', u'believed', u'in', u'a', u'spiritual', u'realisation', u'that', u'not', u'only', u'liberated', u'man', u'but', u'transformed', u'his', u'nature', u'enabling', u'a', u'divine', u'life', u'on', u'earth', u'In', u'with', u'the', u'help', u'of', u'his', u'spiritual', u'collaborator', u'Mirra', u'Alfassa', u'referred', u'to', u'as', u'The', u'Mother', u'he', u'founded', u'the', u'Sri', u'Aurobindo', u'Ashram', u'He', u'died', u'on', u'December', u'in', u'Pondicherry', u'nHis', u'main', u'literary', u'works', u'are', u'The', u'Life', u'Divine', u'which', u'deals', u'with', u'theoretical', u'aspects', u'of', u'Integral', u'Yoga', u'Synthesis', u'of', u'Yoga', u'which', u'deals', u'with', u'practical', u'guidance', u'to', u'Integral', u'Yoga', u'and', u'Savitri', u'A', u'Legend', u'and', u'a', u'Symbol', u'an', u'epic', u'poem', u'His', u'works', u'also', u'include', u'philosophy', u'poetry', u'translations', u'and', u'commentaries', u'on', u'the', u'Vedas', u'Upanishads', u'and', u'the', u'Bhagavad', u'Gita', u'He', u'was', u'nominated', u'for', u'the', u'Nobel', u'Prize', u'in', u'Literature', u'in', u'and', u'for', u'the', u'Nobel', u'Peace', u'Prize', u'in', u'n', u'n', u'n', u'Biography', u'n', u'n', u'n', u'Early', u'life', u'nAurobindo', u'Ghose', u'was', u'born', u'in', u'a', u'Kayastha', u'family', u'in', u'Calcutta', u'now', u'Kolkata', u'Bengal', u'Presidency', u'India', u'on', u'August', u'His', u'father', u'Krishna', u'Dhun', u'Ghose', u'was', u'then', u'Assistant', u'Surgeon', u'of', u'Rangapur', u'in', u'Bengal', u'and', u'a', u'former', u'member', u'of', u'the', u'Brahmo', u'Samaj', u'religious', u'reform', u'movement', u'who', u'had', u'become', u'enamoured', u'with', u'the', u'then', u'new', u'idea', u'of', u'evolution', u'while', u'pursuing', u'medical', u'studies', u'in', u'Britain', u'His', u'mother', u'was', u'Swarnalotta', u'Devi', u'whose', u'father', u'was', u'Shri', u'Rajnarayan', u'Bose', u'a', u'leading', u'figure', u'in', u'the', u'Samaj', u'She', u'had', u'been', u'sent', u'to', u'the', u'more', u'salubrious', u'surroundings', u'of', u'Calcutta', u'for', u'Aurobindo', u's', u'birth', u'Aurobindo', u'had', u'two', u'elder', u'siblings', u'Benoybhusan', u'and', u'Manmohan', u'a', u'younger', u'sister', u'Sarojini', u'and', u'a', u'younger', u'brother', u'Barindrakumar', u'also', u'referred', u'to', u'as', u'Barin', u'born', u'Emmanuel', u'Matthew', u'nYoung', u'Aurobindo', u'was', u'brought', u'up', u'speaking', u'English', u'but', u'used', u'Hindustani', u'to', u'communicate', u'with', u'servants', u'Although', u'his', u'family', u'were', u'Bengali', u'his', u'father', u'believed', u'British', u'culture', u'to', u'be', u'superior', u'to', u'that', u'of', u'his', u'countrymen', u'He', u'and', u'his', u'two', u'elder', u'siblings', u'were', u'sent', u'to', u'the', u'English', u'speaking', u'Loreto', u'House', u'boarding', u'school', u'in', u'Darjeeling', u'in', u'part', u'to', u'improve', u'their', u'language', u'skills', u'and', u'in', u'part', u'to', u'distance', u'them', u'from', u'their', u'mother', u'who', u'had', u'developed', u'a', u'mental', u'illness', u'soon', u'after', u'the', u'birth', u'of', u'her', u'first', u'child', u'Darjeeling', u'was', u'a', u'centre', u'of', u'British', u'life', u'in', u'India', u'and', u'the', u'school', u'was', u'run', u'by', u'Irish', u'nuns', u'through', u'which', u'the', u'boys', u'would', u'have', u'been', u'exposed', u'to', u'Christian', u'religious', u'teachings', u'and', u'symbolism', u'n', u'n', u'n', u'England', u'n', u'nKrishna', u'Dhun', u'Ghose', u'wanted', u'his', u'sons', u'to', u'enter', u'the', u'Indian', u'Civil', u'Service', u'ICS', u'an', u'elite', u'organisation', u'comprising', u'around', u'people', u'To', u'achieve', u'this', u'it', u'was', u'necessary', u'that', u'they', u'study', u'in', u'England', u'and', u'so', u'it', u'was', u'there', u'that', u'the', u'entire', u'family', u'moved', u'in', u'The', u'three', u'brothers', u'were', u'placed', u'in', u'the', u'care', u'of', u'the', u'Reverend', u'W', u'H', u'Drewett', u'in', u'Manchester', u'Drewett', u'was', u'a', u'minister', u'of', u'the', u'Congregational', u'Church', u'whom', u'Krishna', u'Dhun', u'Ghose', u'knew', u'through', u'his', u'British', u'friends', u'at', u'Rangapur', u'nThe', u'boys', u'were', u'taught', u'Latin', u'by', u'Drewett', u'and', u'his', u'wife', u'This', u'was', u'a', u'prerequisite', u'for', u'admission', u'to', u'good', u'English', u'schools', u'and', u'after', u'two', u'years', u'in', u'the', u'elder', u'two', u'siblings', u'were', u'enrolled', u'at', u'Manchester', u'Grammar', u'School', u'Aurobindo', u'was', u'considered', u'too', u'young', u'for', u'enrolment', u'and', u'he', u'continued', u'his', u'studies', u'with', u'the', u'Drewetts', u'learning', u'history', u'Latin', u'French', u'geography', u'and', u'arithmetic', u'Although', u'the', u'Drewetts', u'were', u'told', u'not', u'to', u'teach', u'religion', u'the', u'boys', u'inevitably', u'were', u'exposed', u'to', u'Christian', u'teachings', u'and', u'events', u'which', u'generally', u'bored', u'Aurobindo', u'and', u'sometimes', u'repulsed', u'him', u'There', u'was', u'little', u'contact', u'with', u'his', u'father', u'who', u'wrote', u'only', u'a', u'few', u'letters', u'to', u'his', u'sons', u'while', u'they', u'were', u'in', u'England', u'but', u'what', u'communication', u'there', u'was', u'indicated', u'that', u'he', u'was', u'becoming', u'less', u'endeared', u'to', u'the', u'British', u'in', u'India', u'than', u'he', u'had', u'been', u'on', u'one', u'occasion', u'describing', u'the', u'British', u'Raj', u'as', u'a', u'heartless', u'government', u'n', u'nDrewett', u'emigrated', u'to', u'Australia', u'in', u'causing', u'the', u'boys', u'to', u'be', u'uprooted', u'as', u'they', u'went', u'to', u'live', u'with', u'Drewett', u's', u'mother', u'in', u'London', u'In', u'September', u'of', u'that', u'year', u'Aurobindo', u'and', u'Manmohan', u'joined', u'St', u'Paul', u's', u'School', u'there', u'He', u'learned', u'Greek', u'and', u'spent', u'the', u'last', u'three', u'years', u'reading', u'literature', u'and', u'English', u'poetry', u'He', u'also', u'acquired', u'some', u'familiarity', u'with', u'the', u'German', u'and', u'Italian', u'languages', u'and', u'exposed', u'to', u'the', u'evangelical', u'strictures', u'of', u'Drewett', u's', u'mother', u'a', u'distaste', u'for', u'religion', u'He', u'considered', u'himself', u'at', u'one', u'point', u'to', u'be', u'an', u'atheist', u'but', u'later', u'determined', u'that', u'he', u'was', u'agnostic', u'A', u'blue', u'plaque', u'unveiled', u'in', u'commemorates', u'Aurobindo', u's', u'residence', u'at', u'St', u'Stephen', u's', u'Avenue', u'in', u'Shepherd', u's', u'Bush', u'London', u'from', u'to', u'The', u'three', u'brothers', u'began', u'living', u'in', u'spartan', u'circumstances', u'at', u'the', u'Liberal', u'Club', u'in', u'South', u'Kensington', u'during', u'their', u'father', u'having', u'experienced', u'some', u'financial', u'difficulties', u'The', u'Club', u's', u'secretary', u'was', u'James', u'Cotton', u'brother', u'of', u'their', u'father', u's', u'friend', u'in', u'the', u'Bengal', u'ICS', u'Henry', u'Cotton', u'nBy', u'Manmohan', u'had', u'determined', u'to', u'pursue', u'a', u'literary', u'career', u'and', u'Benoybhusan', u'had', u'proved', u'himself', u'unequal', u'to', u'the', u'standards', u'necessary', u'for', u'ICS', u'entrance', u'This', u'meant', u'that', u'only', u'Aurobindo', u'might', u'fulfil', u'his', u'father', u's', u'aspirations', u'but', u'to', u'do', u'so', u'when', u'his', u'father', u'lacked', u'money', u'required', u'that', u'he', u'studied', u'hard', u'for', u'a', u'scholarship', u'To', u'become', u'an', u'ICS', u'official', u'students', u'were', u'required', u'to', u'pass', u'the', u'competitive', u'examination', u'as', u'well', u'as', u'to', u'study', u'at', u'an', u'English', u'university', u'for', u'two', u'years', u'under', u'probation', u'Aurobindo', u'secured', u'a', u'scholarship', u'at', u'King', u's', u'College', u'Cambridge', u'under', u'recommendation', u'of', u'Oscar', u'Browning', u'He', u'passed', u'the', u'written', u'ICS', u'examination', u'after', u'a', u'few', u'months', u'being', u'ranked', u'th', u'out', u'of', u'competitors', u'He', u'spent', u'the', u'next', u'two', u'years', u'at', u'King', u's', u'College', u'Sri', u'Aurobindo', u'had', u'no', u'interest', u'in', u'the', u'ICS', u'and', u'came', u'late', u'to', u'the', u'horse', u'riding', u'practical', u'exam', u'purposefully', u'to', u'get', u'himself', u'disqualified', u'for', u'the', u'service', u'nAt', u'this', u'time', u'the', u'Maharaja', u'of', u'Baroda', u'Sayajirao', u'Gaekwad', u'III', u'was', u'travelling', u'in', u'England', u'Cotton', u'secured', u'for', u'him', u'a', u'place', u'in', u'Baroda', u'State', u'Service', u'and', u'arranged', u'for', u'him', u'to', u'meet', u'the', u'prince', u'He', u'left', u'England', u'for', u'India', u'arriving', u'there', u'in', u'February', u'In', u'India', u'Krishna', u'Dhun', u'Ghose', u'who', u'was', u'waiting', u'to', u'receive', u'his', u'son', u'was', u'misinformed', u'by', u'his', u'agents', u'from', u'Bombay', u'now', u'Mumbai', u'that', u'the', u'ship', u'on', u'which', u'Aurobindo', u'had', u'been', u'travelling', u'had', u'sunk', u'off', u'the', u'coast', u'of', u'Portugal', u'His', u'father', u'died', u'upon', u'hearing', u'this', u'news', u'n', u'n', u'n', u'Baroda', u'and', u'Calcutta', u'n', u'nIn', u'Baroda', u'Aurobindo', u'joined', u'the', u'state', u'service', u'in', u'working', u'first', u'in', u'the', u'Survey', u'and', u'Settlements', u'department', u'later', u'moving', u'to', u'the', u'Department', u'of', u'Revenue', u'and', u'then', u'to', u'the', u'Secretariat', u'and', u'much', u'miscellaneous', u'work', u'like', u'teaching', u'grammar', u'and', u'assisting', u'in', u'writing', u'speeches', u'for', u'the', u'Maharaja', u'of', u'Gaekwad', u'until', u'In', u'during', u'his', u'work', u'in', u'Baroda', u'he', u'started', u'working', u'as', u'a', u'part', u'time', u'French', u'teacher', u'at', u'Baroda', u'College', u'now', u'Maharaja', u'Sayajirao', u'University', u'of', u'Baroda', u'He', u'was', u'later', u'promoted', u'to', u'the', u'post', u'of', u'vice', u'principal', u'At', u'Baroda', u'Sri', u'Aurobindo', u'self', u'studied', u'Sanskrit', u'and', u'Bengali', u'n', u'nDuring', u'his', u'stay', u'at', u'Baroda', u'he', u'contributed', u'to', u'many', u'articles', u'to', u'Indu', u'Prakash', u'and', u'spoke', u'as', u'a', u'chairman', u'of', u'the', u'Baroda', u'college', u'board', u'He', u'started', u'taking', u'an', u'active', u'interest', u'in', u'the', u'politics', u'of', u'India', u's', u'independence', u'struggle', u'against', u'British', u'rule', u'working', u'behind', u'the', u'scenes', u'as', u'his', u'position', u'in', u'the', u'Baroda', u'state', u'administration', u'barred', u'him', u'from', u'overt', u'political', u'activity', u'He', u'linked', u'up', u'with', u'resistance', u'groups', u'in', u'Bengal', u'and', u'Madhya', u'Pradesh', u'while', u'traveling', u'to', u'these', u'states', u'He', u'established', u'contact', u'with', u'Lokmanya', u'Tilak', u'and', u'Sister', u'Nivedita', u'He', u'arranged', u'the', u'military', u'training', u'of', u'Jatindra', u'Nath', u'Banerjee', u'Niralamba', u'Swami', u'in', u'the', u'Baroda', u'army', u'and', u'then', u'dispatched', u'him', u'to', u'organise', u'the', u'resistance', u'groups', u'in', u'Bengal', u'nAurobindo', u'often', u'traveled', u'between', u'Baroda', u'and', u'Bengal', u'at', u'first', u'in', u'a', u'bid', u'to', u're', u'establish', u'links', u'with', u'his', u'parent', u's', u'families', u'and', u'other', u'Bengali', u'relatives', u'including', u'his', u'cousin', u'Sarojini', u'and', u'brother', u'Barin', u'and', u'later', u'increasingly', u'to', u'establish', u'resistance', u'groups', u'across', u'the', u'Presidency', u'He', u'formally', u'moved', u'to', u'Calcutta', u'in', u'after', u'the', u'announcement', u'of', u'the', u'Partition', u'of', u'Bengal', u'Age', u'he', u'had', u'married', u'year', u'old', u'Mrinalini', u'daughter', u'of', u'Bhupal', u'Chandra', u'Bose', u'a', u'senior', u'official', u'in', u'government', u'service', u'when', u'he', u'visited', u'Calcutta', u'in', u'Mrinalini', u'died', u'in', u'December', u'during', u'the', u'influenza', u'pandemic', u'nAurobindo', u'was', u'influenced', u'by', u'studies', u'on', u'rebellion', u'and', u'revolutions', u'against', u'England', u'in', u'medieval', u'France', u'and', u'the', u'revolts', u'in', u'America', u'and', u'Italy', u'In', u'his', u'public', u'activities', u'he', u'favoured', u'non', u'co', u'operation', u'and', u'passive', u'resistance', u'in', u'private', u'he', u'took', u'up', u'secret', u'revolutionary', u'activity', u'as', u'a', u'preparation', u'for', u'open', u'revolt', u'in', u'case', u'that', u'the', u'passive', u'revolt', u'failed', u'n', u'nIn', u'Bengal', u'with', u'Barin', u's', u'help', u'he', u'established', u'contacts', u'with', u'revolutionaries', u'inspiring', u'radicals', u'such', u'as', u'Bagha', u'Jatin', u'Jatin', u'Banerjee', u'and', u'Surendranath', u'Tagore', u'He', u'helped', u'establish', u'a', u'series', u'of', u'youth', u'clubs', u'including', u'the', u'Anushilan', u'Samiti', u'of', u'Calcutta', u'in', u'nAurobindo', u'attended', u'the', u'Congress', u'meeting', u'headed', u'by', u'Dadabhai', u'Naoroji', u'and', u'participated', u'as', u'a', u'councillor', u'in', u'forming', u'the', u'fourfold', u'objectives', u'of', u'Swaraj', u'Swadesh', u'Boycott', u'and', u'national', u'education', u'In', u'at', u'the', u'Surat', u'session', u'of', u'Congress', u'where', u'moderates', u'and', u'extremists', u'had', u'a', u'major', u'showdown', u'he', u'led', u'with', u'extremists', u'along', u'with', u'Bal', u'Gangadhar', u'Tilak', u'The', u'Congress', u'split', u'after', u'this', u'session', u'In', u'Aurobindo', u'traveled', u'extensively', u'to', u'Pune', u'Bombay', u'and', u'Baroda', u'to', u'firm', u'up', u'support', u'for', u'the', u'nationalist', u'cause', u'giving', u'speeches', u'and', u'meeting', u'with', u'groups', u'He', u'was', u'arrested', u'again', u'in', u'May', u'in', u'connection', u'with', u'the', u'Alipore', u'Bomb', u'Case', u'He', u'was', u'acquitted', u'in', u'the', u'ensuing', u'trial', u'following', u'the', u'murder', u'of', u'chief', u'prosecution', u'witness', u'Naren', u'Gosain', u'within', u'jail', u'premises', u'which', u'subsequently', u'led', u'to', u'the', u'case', u'against', u'him', u'collapsing', u'Aurobindo', u'was', u'subsequently', u'released', u'after', u'a', u'year', u'of', u'isolated', u'incarceration', u'nOnce', u'out', u'of', u'the', u'prison', u'he', u'started', u'two', u'new', u'publications', u'Karmayogin', u'in', u'English', u'and', u'Dharma', u'in', u'Bengali', u'He', u'also', u'delivered', u'the', u'Uttarpara', u'Speech', u'hinting', u'at', u'the', u'transformation', u'of', u'his', u'focus', u'to', u'spiritual', u'matters', u'The', u'British', u'persecution', u'continued', u'because', u'of', u'his', u'writings', u'in', u'his', u'new', u'journals', u'and', u'in', u'April', u'Aurobindo', u'moved', u'to', u'Pondicherry', u'where', u'Britain', u's', u'secret', u'police', u'monitored', u'his', u'activities', u'n', u'n', u'n', u'Conversion', u'from', u'politics', u'to', u'spirituality', u'n', u'nIn', u'July', u'then', u'Viceroy', u'of', u'India', u'Lord', u'Curzon', u'partitioned', u'Bengal', u'This', u'sparked', u'an', u'outburst', u'of', u'public', u'anger', u'against', u'the', u'British', u'leading', u'to', u'civil', u'unrest', u'and', u'a', u'nationalist', u'campaign', u'by', u'groups', u'of', u'revolutionaries', u'who', u'included', u'Aurobindo', u'In', u'Khudiram', u'Bose', u'and', u'Prafulla', u'Chaki', u'attempted', u'to', u'kill', u'Magistrate', u'Kingsford', u'a', u'judge', u'known', u'for', u'handing', u'down', u'particularly', u'severe', u'sentences', u'against', u'nationalists', u'However', u'the', u'bomb', u'thrown', u'at', u'his', u'horse', u'carriage', u'missed', u'its', u'target', u'and', u'instead', u'landed', u'in', u'another', u'carriage', u'and', u'killed', u'two', u'British', u'women', u'the', u'wife', u'and', u'daughter', u'of', u'barrister', u'Pringle', u'Kennedy', u'Aurobindo', u'was', u'also', u'arrested', u'on', u'charges', u'of', u'planning', u'and', u'overseeing', u'the', u'attack', u'and', u'imprisoned', u'in', u'solitary', u'confinement', u'in', u'Alipore', u'Jail', u'The', u'trial', u'of', u'the', u'Alipore', u'Bomb', u'Case', u'lasted', u'for', u'a', u'year', u'but', u'eventually', u'he', u'was', u'acquitted', u'on', u'May', u'His', u'defence', u'counsel', u'was', u'Chittaranjan', u'Das', u'nDuring', u'this', u'period', u'in', u'the', u'Jail', u'his', u'view', u'of', u'life', u'was', u'radically', u'changed', u'due', u'to', u'spiritual', u'experiences', u'and', u'realizations', u'Consequently', u'his', u'aim', u'went', u'far', u'beyond', u'the', u'service', u'and', u'liberation', u'of', u'the', u'country', u'nAurobindo', u'said', u'he', u'was', u'visited', u'by', u'Vivekananda', u'in', u'the', u'Alipore', u'Jail', u'It', u'is', u'a', u'fact', u'that', u'I', u'was', u'hearing', u'constantly', u'the', u'voice', u'of', u'Vivekananda', u'speaking', u'to', u'me', u'for', u'a', u'fortnight', u'in', u'the', u'jail', u'in', u'my', u'solitary', u'meditation', u'and', u'felt', u'his', u'presence', u'nIn', u'his', u'autobiographical', u'notes', u'Aurobindo', u'said', u'he', u'felt', u'a', u'vast', u'sense', u'of', u'calmness', u'when', u'he', u'first', u'came', u'back', u'to', u'India', u'He', u'could', u'not', u'explain', u'this', u'and', u'continued', u'to', u'have', u'various', u'such', u'experiences', u'from', u'time', u'to', u'time', u'He', u'knew', u'nothing', u'of', u'yoga', u'at', u'that', u'time', u'and', u'started', u'his', u'practise', u'of', u'it', u'without', u'a', u'teacher', u'except', u'for', u'some', u'rules', u'that', u'he', u'learned', u'from', u'Ganganath', u'a', u'friend', u'who', u'was', u'a', u'disciple', u'of', u'Brahmananda', u'In', u'Barin', u'introduced', u'Aurobindo', u'to', u'Vishnu', u'Bhaskar', u'Lele', u'a', u'Maharashtrian', u'yogi', u'Aurobindo', u'was', u'influenced', u'by', u'the', u'guidance', u'he', u'got', u'from', u'the', u'yogi', u'who', u'had', u'instructed', u'Aurobindo', u'to', u'depend', u'on', u'an', u'inner', u'guide', u'and', u'any', u'kind', u'of', u'external', u'guru', u'or', u'guidance', u'would', u'not', u'be', u'required', u'nIn', u'Aurobindo', u'withdrew', u'himself', u'from', u'all', u'political', u'activities', u'and', u'went', u'into', u'hiding', u'at', u'Chandannagar', u'while', u'the', u'British', u'were', u'trying', u'to', u'prosecute', u'him', u'for', u'sedition', u'on', u'the', u'basis', u'of', u'a', u'signed', u'article', u'titled', u'To', u'My', u'Countrymen', u'published', u'in', u'Karmayogin', u'As', u'Aurobindo', u'disappeared', u'from', u'view', u'the', u'warrant', u'was', u'held', u'back', u'and', u'the', u'prosecution', u'postponed', u'Aurobindo', u'manoeuvred', u'the', u'police', u'into', u'open', u'action', u'and', u'a', u'warrant', u'was', u'issued', u'on', u'April', u'but', u'the', u'warrant', u'could', u'not', u'be', u'executed', u'because', u'on', u'that', u'date', u'he', u'had', u'reached', u'Pondicherry', u'then', u'a', u'French', u'colony', u'The', u'warrant', u'against', u'Aurobindo', u'was', u'withdrawn', u'n', u'n', u'n', u'Pondicherry', u'nIn', u'Pondicherry', u'Aurobindo', u'dedicated', u'himself', u'to', u'his', u'spiritual', u'and', u'philosophical', u'pursuits', u'In', u'after', u'four', u'years', u'of', u'secluded', u'yoga', u'he', u'started', u'a', u'monthly', u'philosophical', u'magazine', u'called', u'Arya', u'This', u'ceased', u'publication', u'in', u'Many', u'years', u'later', u'he', u'revised', u'some', u'of', u'these', u'works', u'before', u'they', u'were', u'published', u'in', u'book', u'form', u'Some', u'of', u'the', u'book', u'series', u'derived', u'out', u'of', u'this', u'publication', u'were', u'The', u'Life', u'Divine', u'The', u'Synthesis', u'of', u'Yoga', u'Essays', u'on', u'The', u'Gita', u'The', u'Secret', u'of', u'The', u'Veda', u'Hymns', u'to', u'the', u'Mystic', u'Fire', u'The', u'Upanishads', u'The', u'Renaissance', u'in', u'India', u'War', u'and', u'Self', u'determination', u'The', u'Human', u'Cycle', u'The', u'Ideal', u'of', u'Human', u'Unity', u'and', u'The', u'Future', u'Poetry', u'were', u'published', u'in', u'this', u'magazine', u'nAt', u'the', u'beginning', u'of', u'his', u'stay', u'at', u'Pondicherry', u'there', u'were', u'few', u'followers', u'but', u'with', u'time', u'their', u'numbers', u'grew', u'resulting', u'in', u'the', u'formation', u'of', u'the', u'Sri', u'Aurobindo', u'Ashram', u'in', u'From', u'he', u'started', u'to', u'sign', u'himself', u'as', u'Sri', u'Aurobindo', u'Sri', u'meaning', u'holy', u'in', u'Sanskrit', u'being', u'commonly', u'used', u'as', u'an', u'honorific', u'n', u'nFor', u'some', u'time', u'afterwards', u'his', u'main', u'literary', u'output', u'was', u'his', u'voluminous', u'correspondence', u'with', u'his', u'disciples', u'His', u'letters', u'most', u'of', u'which', u'were', u'written', u'in', u'the', u's', u'numbered', u'in', u'the', u'several', u'thousands', u'Many', u'were', u'brief', u'comments', u'made', u'in', u'the', u'margins', u'of', u'his', u'disciple', u's', u'notebooks', u'in', u'answer', u'to', u'their', u'questions', u'and', u'reports', u'of', u'their', u'spiritual', u'practice', u'others', u'extended', u'to', u'several', u'pages', u'of', u'carefully', u'composed', u'explanations', u'of', u'practical', u'aspects', u'of', u'his', u'teachings', u'These', u'were', u'later', u'collected', u'and', u'published', u'in', u'book', u'form', u'in', u'three', u'volumes', u'of', u'Letters', u'on', u'Yoga', u'In', u'the', u'late', u's', u'he', u'resumed', u'work', u'on', u'a', u'poem', u'he', u'had', u'started', u'earlier', u'he', u'continued', u'to', u'expand', u'and', u'revise', u'this', u'poem', u'for', u'the', u'rest', u'of', u'his', u'life', u'It', u'became', u'perhaps', u'his', u'greatest', u'literary', u'achievement', u'Savitri', u'an', u'epic', u'spiritual', u'poem', u'in', u'blank', u'verse', u'of', u'approximately', u'lines', u'nAurobindo', u'died', u'on', u'December', u'Around', u'people', u'attended', u'his', u'funeral', u'Prime', u'Minister', u'Jawaharlal', u'Nehru', u'and', u'President', u'Rajendra', u'Prasad', u'praised', u'him', u'for', u'his', u'contribution', u'to', u'Yogic', u'philosophy', u'and', u'the', u'independence', u'struggle', u'National', u'and', u'international', u'newspapers', u'commemorated', u'his', u'death', u'n', u'n', u'n', u'Mirra', u'Richard', u'and', u'the', u'development', u'of', u'the', u'Ashram', u'n', u'nAurobindo', u's', u'close', u'spiritual', u'collaborator', u'Mirra', u'Richard', u'b', u'Alfassa', u'came', u'to', u'be', u'known', u'as', u'The', u'Mother', u'She', u'was', u'a', u'French', u'national', u'born', u'in', u'Paris', u'on', u'February', u'In', u'her', u's', u'she', u'studied', u'occultism', u'with', u'Max', u'Theon', u'Along', u'with', u'her', u'husband', u'Paul', u'Richard', u'she', u'went', u'to', u'Pondicherry', u'on', u'March', u'and', u'finally', u'settled', u'there', u'in', u'Aurobindo', u'considered', u'her', u'his', u'spiritual', u'equal', u'and', u'collaborator', u'After', u'November', u'when', u'Aurobindo', u'retired', u'into', u'seclusion', u'he', u'left', u'it', u'to', u'her', u'to', u'plan', u'build', u'and', u'run', u'the', u'ashram', u'the', u'community', u'of', u'disciples', u'which', u'had', u'gathered', u'around', u'them', u'Some', u'time', u'later', u'when', u'families', u'with', u'children', u'joined', u'the', u'ashram', u'she', u'established', u'and', u'supervised', u'the', u'Sri', u'Aurobindo', u'International', u'Centre', u'of', u'Education', u'with', u'its', u'experiments', u'in', u'the', u'field', u'of', u'education', u'When', u'he', u'died', u'in', u'she', u'continued', u'their', u'spiritual', u'work', u'directed', u'the', u'ashram', u'and', u'guided', u'their', u'disciples', u'n', u'n', u'n', u'Philosophy', u'and', u'spiritual', u'vision', u'n', u'nAurobindo', u's', u'concept', u'of', u'the', u'Integral', u'Yoga', u'system', u'is', u'described', u'in', u'his', u'books', u'The', u'Synthesis', u'of', u'Yoga', u'and', u'The', u'Life', u'Divine', u'The', u'Life', u'Divine', u'is', u'a', u'compilation', u'of', u'essays', u'published', u'serially', u'in', u'Arya', u'nAurobindo', u'argues', u'that', u'divine', u'Brahman', u'manifests', u'as', u'empirical', u'reality', u'through', u'l', u'l', u'or', u'divine', u'play', u'Instead', u'of', u'positing', u'that', u'the', u'world', u'we', u'experience', u'is', u'an', u'illusion', u'm', u'y', u'Aurobindo', u'argues', u'that', u'world', u'can', u'evolve', u'and', u'become', u'a', u'new', u'world', u'with', u'new', u'species', u'far', u'above', u'the', u'human', u'species', u'just', u'as', u'human', u'species', u'have', u'evolved', u'after', u'the', u'animal', u'species', u'nAurobindo', u'believed', u'that', u'Darwinism', u'merely', u'describes', u'a', u'phenomenon', u'of', u'the', u'evolution', u'of', u'matter', u'into', u'life', u'but', u'does', u'not', u'explain', u'the', u'reason', u'behind', u'it', u'while', u'he', u'finds', u'life', u'to', u'be', u'already', u'present', u'in', u'matter', u'because', u'all', u'of', u'existence', u'is', u'a', u'manifestation', u'of', u'Brahman', u'He', u'argues', u'that', u'nature', u'which', u'he', u'interpreted', u'as', u'divine', u'has', u'evolved', u'life', u'out', u'of', u'matter', u'and', u'then', u'mind', u'out', u'of', u'life', u'All', u'of', u'existence', u'he', u'argues', u'is', u'attempting', u'to', u'manifest', u'to', u'the', u'level', u'of', u'the', u'supermind', u'that', u'evolution', u'had', u'a', u'purpose', u'He', u'stated', u'that', u'he', u'found', u'the', u'task', u'of', u'understanding', u'the', u'nature', u'of', u'reality', u'arduous', u'and', u'difficult', u'to', u'justify', u'by', u'immediate', u'tangible', u'results', u'n', u'n', u'n', u'Legacy', u'nAurobindo', u'was', u'an', u'Indian', u'nationalist', u'but', u'is', u'best', u'known', u'for', u'his', u'philosophy', u'on', u'human', u'evolution', u'and', u'Integral', u'Yoga', u'n', u'n', u'n', u'Influence', u'nHis', u'influence', u'has', u'been', u'wide', u'ranging', u'In', u'India', u'S', u'K', u'Maitra', u'Anilbaran', u'Roy', u'and', u'D', u'P', u'Chattopadhyaya', u'commented', u'on', u'Aurobindo', u's', u'work', u'Writers', u'on', u'esotericism', u'and', u'traditional', u'wisdom', u'such', u'as', u'Mircea', u'Eliade', u'Paul', u'Brunton', u'and', u'Rene', u'Guenon', u'all', u'saw', u'him', u'as', u'an', u'authentic', u'representative', u'of', u'the', u'Indian', u'spiritual', u'tradition', u'nHaridas', u'Chaudhuri', u'and', u'Frederic', u'Spiegelberg', u'were', u'among', u'those', u'who', u'were', u'inspired', u'by', u'Aurobindo', u'who', u'worked', u'on', u'the', u'newly', u'formed', u'American', u'Academy', u'of', u'Asian', u'Studies', u'in', u'San', u'Francisco', u'Soon', u'after', u'Chaudhuri', u'and', u'his', u'wife', u'Bina', u'established', u'the', u'Cultural', u'Integration', u'Fellowship', u'from', u'which', u'later', u'emerged', u'the', u'California', u'Institute', u'of', u'Integral', u'Studies', u'nKarlheinz', u'Stockhausen', u'was', u'heavily', u'inspired', u'by', u'Satprem', u's', u'writings', u'about', u'Aurobindo', u'during', u'a', u'week', u'in', u'May', u'a', u'time', u'at', u'which', u'the', u'composer', u'was', u'undergoing', u'a', u'personal', u'crisis', u'and', u'had', u'found', u'Aurobindo', u's', u'philosophies', u'were', u'relevant', u'to', u'his', u'feelings', u'After', u'this', u'experience', u'Stockhausen', u's', u'music', u'took', u'a', u'completely', u'different', u'turn', u'focusing', u'on', u'mysticism', u'that', u'was', u'to', u'continue', u'until', u'the', u'end', u'of', u'his', u'career', u'nWilliam', u'Irwin', u'Thompson', u'traveled', u'to', u'Auroville', u'in', u'where', u'he', u'met', u'The', u'Mother', u'Thompson', u'has', u'called', u'Aurobindo', u's', u'teaching', u'on', u'spirituality', u'a', u'radical', u'anarchism', u'and', u'a', u'post', u'religious', u'approach', u'and', u'regards', u'their', u'work', u'as', u'having', u'reached', u'back', u'into', u'the', u'Goddess', u'culture', u'of', u'prehistory', u'and', u'in', u'Marshall', u'McLuhan', u's', u'terms', u'culturally', u'retrieved', u'the', u'archetypes', u'of', u'the', u'shaman', u'and', u'la', u'sage', u'femme', u'Thompson', u'also', u'writes', u'that', u'he', u'experienced', u'Shakti', u'or', u'psychic', u'power', u'coming', u'from', u'The', u'Mother', u'on', u'the', u'night', u'of', u'her', u'death', u'in', u'nAurobindo', u's', u'ideas', u'about', u'the', u'further', u'evolution', u'of', u'human', u'capabilities', u'influenced', u'the', u'thinking', u'of', u'Michael', u'Murphy', u'and', u'indirectly', u'the', u'human', u'potential', u'movement', u'through', u'Murphy', u's', u'writings', u'nThe', u'American', u'philosopher', u'Ken', u'Wilber', u'has', u'called', u'Aurobindo', u'India', u's', u'greatest', u'modern', u'philosopher', u'sage', u'and', u'has', u'integrated', u'some', u'of', u'his', u'ideas', u'into', u'his', u'philosophical', u'vision', u'Wilber', u's', u'interpretation', u'of', u'Aurobindo', u'has', u'been', u'criticised', u'by', u'Rod', u'Hemsell', u'New', u'Age', u'writer', u'Andrew', u'Harvey', u'also', u'looks', u'to', u'Aurobindo', u'as', u'a', u'major', u'inspiration', u'n', u'n', u'n', u'Followers', u'nThe', u'following', u'authors', u'disciples', u'and', u'organisations', u'trace', u'their', u'intellectual', u'heritage', u'back', u'to', u'or', u'have', u'in', u'some', u'measure', u'been', u'influenced', u'by', u'Aurobindo', u'and', u'The', u'Mother', u'nMargaret', u'Woodrow', u'Wilson', u'Nistha', u'daughter', u'of', u'US', u'President', u'Woodrow', u'Wilson', u'she', u'came', u'to', u'the', u'ashram', u'in', u'and', u'stayed', u'there', u'until', u'her', u'death', u'nNolini', u'Kanta', u'Gupta', u'was', u'one', u'of', u'Aurobindo', u's', u'senior', u'disciples', u'and', u'wrote', u'extensively', u'on', u'philosophy', u'mysticism', u'and', u'spiritual', u'evolution', u'based', u'on', u'the', u'teaching', u'of', u'Aurobindo', u'and', u'The', u'Mother', u'nPavitra', u'was', u'one', u'of', u'their', u'early', u'disciples', u'Born', u'as', u'Philippe', u'Barbier', u'Saint', u'Hilaire', u'in', u'Paris', u'Pavitra', u'left', u'some', u'very', u'interesting', u'memoirs', u'of', u'his', u'conversations', u'with', u'them', u'in', u'and', u'which', u'were', u'published', u'as', u'Conversations', u'avec', u'Pavitra', u'nIndra', u'Sen', u'was', u'another', u'disciple', u'of', u'Aurobindo', u'who', u'although', u'little', u'known', u'in', u'the', u'West', u'was', u'the', u'first', u'to', u'articulate', u'integral', u'psychology', u'and', u'integral', u'philosophy', u'in', u'the', u's', u'and', u's', u'A', u'compilation', u'of', u'his', u'papers', u'came', u'out', u'under', u'the', u'title', u'Integral', u'Psychology', u'in', u'nNirodbaran', u'A', u'doctor', u'who', u'obtained', u'his', u'medical', u'degree', u'from', u'Edinburgh', u'his', u'long', u'and', u'voluminous', u'correspondence', u'with', u'Aurobindo', u'elaborate', u'on', u'many', u'aspects', u'of', u'Integral', u'Yoga', u'and', u'fastidious', u'record', u'of', u'conversations', u'bring', u'out', u'Aurobindo', u's', u'thought', u'on', u'numerous', u'subjects', u'nM', u'P', u'Pandit', u'Secretary', u'to', u'The', u'Mother', u'and', u'the', u'ashram', u'his', u'copious', u'writings', u'and', u'lectures', u'cover', u'Yoga', u'the', u'Vedas', u'Tantra', u'Aubindo', u's', u'epic', u'Savitri', u'and', u'others', u'nChinmoy', u'joined', u'the', u'ashram', u'in', u'Later', u'he', u'wrote', u'the', u'play', u'about', u'Aurobindo', u's', u'life', u'Sri', u'Aurobindo', u'Descent', u'of', u'the', u'Blue', u'and', u'a', u'book', u'Infinite', u'Sri', u'Aurobindo', u'An', u'author', u'composer', u'artist', u'and', u'athlete', u'he', u'was', u'perhaps', u'best', u'known', u'for', u'holding', u'public', u'events', u'on', u'the', u'theme', u'of', u'inner', u'peace', u'and', u'world', u'harmony', u'such', u'as', u'concerts', u'meditations', u'and', u'races', u'nSatprem', u'was', u'a', u'French', u'author', u'and', u'an', u'important', u'disciple', u'of', u'The', u'Mother', u'who', u'published', u'Mother', u's', u'Agenda', u'Sri', u'Aurobindo', u'or', u'the', u'Adventure', u'of', u'Consciousness', u'On', u'the', u'Way', u'to', u'Supermanhood', u'and', u'more', u'n', u'n', u'n', u'Critics', u'nN', u'R', u'Malkani', u'finds', u'Aurobindo', u's', u'theory', u'of', u'creation', u'to', u'be', u'false', u'as', u'the', u'theory', u'talks', u'about', u'experiences', u'and', u'visions', u'which', u'are', u'beyond', u'normal', u'human', u'experiences', u'He', u'says', u'the', u'theory', u'is', u'an', u'intellectual', u'response', u'to', u'a', u'difficult', u'problem', u'and', u'that', u'Aurobindo', u'uses', u'the', u'trait', u'of', u'unpredictability', u'in', u'theorising', u'and', u'discussing', u'things', u'not', u'based', u'upon', u'truth', u'of', u'existence', u'Malkani', u'says', u'that', u'awareness', u'is', u'already', u'a', u'reality', u'and', u'suggests', u'there', u'would', u'be', u'no', u'need', u'to', u'examine', u'the', u'creative', u'activity', u'subjected', u'to', u'awareness', u'nWilber', u's', u'interpretation', u'of', u'Aurobindo', u's', u'philosophy', u'rejects', u'the', u'notion', u'of', u'dividing', u'reality', u'as', u'a', u'different', u'level', u'of', u'matter', u'life', u'mind', u'overmind', u'supermind', u'proposed', u'by', u'Aurobindo', u'in', u'The', u'Life', u'Divine', u'and', u'terms', u'them', u'as', u'higher', u'or', u'lower', u'nested', u'holons', u'and', u'states', u'that', u'there', u'is', u'only', u'a', u'fourfold', u'reality', u'a', u'system', u'of', u'reality', u'created', u'by', u'himself', u'nAdi', u'Da', u'finds', u'that', u'Aurobindo', u's', u'contributions', u'were', u'merely', u'literary', u'and', u'cultural', u'and', u'had', u'extended', u'his', u'political', u'motivation', u'into', u'spirituality', u'and', u'human', u'evolution', u'nRajneesh', u'Osho', u'says', u'that', u'Aurobindo', u'was', u'a', u'great', u'scholar', u'but', u'was', u'never', u'realised', u'that', u'his', u'personal', u'ego', u'had', u'made', u'him', u'indirectly', u'claim', u'that', u'he', u'went', u'beyond', u'Buddha', u'and', u'that', u'he', u'is', u'said', u'to', u'have', u'believed', u'himself', u'to', u'be', u'enlightened', u'due', u'to', u'increasing', u'number', u'of', u'followers', u'n', u'n', u'n', u'Literary', u'works', u'n', u'n', u'n', u'See', u'also', u'nAuroville', u'nIntegral', u'movement', u'nIntegral', u'psychology', u'n', u'n', u'n', u'References', u'nNotes', u'n', u'nCitations', u'n', u'nBibliography', u'n', u'n', u'n', u'Further', u'reading', u'nHeehs', u'Peter', u'The', u'Kabbalah', u'the', u'Philosophie', u'Cosmique', u'and', u'the', u'Integral', u'Yoga', u'A', u'Study', u'in', u'Cross', u'Cultural', u'Influence', u'PDF', u'ARIES', u'Brill', u'nIyengar', u'K', u'R', u'Srinivasa', u'Sri', u'Aurobindo', u'a', u'biography', u'and', u'a', u'history', u'Sri', u'Aurobindo', u'International', u'Centre', u'of', u'Education', u'volumes', u'written', u'in', u'a', u'hagiographical', u'style', u'nKallury', u'Syamala', u'Symbolism', u'in', u'the', u'Poetry', u'of', u'Sri', u'Aurobindo', u'Abhinav', u'Publications', u'ISBN', u'nKitaeff', u'Richard', u'Sri', u'Aurobindo', u'Nouvelles', u'Cl', u's', u'nMehrotra', u'Arvind', u'Krishna', u'A', u'History', u'of', u'Indian', u'Literature', u'in', u'English', u'Columbia', u'University', u'Press', u'ISBN', u'nMishra', u'Manoj', u'Kumar', u'Young', u'Aurobindo', u's', u'Vision', u'The', u'Viziers', u'of', u'Bassora', u'Bareilly', u'Prakash', u'Book', u'Depot', u'nMukherjee', u'Prithwindra', u'Sri', u'Aurobindo', u'Paris', u'Descl', u'e', u'de', u'Brouwer', u'nSatprem', u'Sri', u'Aurobindo', u'or', u'the', u'Adventure', u'of', u'Consciousness', u'Pondicherry', u'India', u'Sri', u'Aurobindo', u'Ashram', u'Press', u'nSingh', u'Ramdhari', u'Sri', u'Aurobindo', u'Meri', u'Drishti', u'Mein', u'New', u'Delhi', u'Lokbharti', u'Prakashan', u'nvan', u'Vrekhem', u'Georges', u'Beyond', u'Man', u'The', u'Life', u'and', u'Work', u'of', u'Sri', u'Aurobindo', u'and', u'The', u'Mother', u'New', u'Delhi', u'HarperCollins', u'ISBN', u'nRaychaudhuri', u'Girijashankar', u'Sri', u'Aurobindo', u'O', u'Banglar', u'Swadeshi', u'Joog', u'published', u'this', u'book', u'was', u'serially', u'published', u'in', u'the', u'journal', u'Udbodhan', u'and', u'read', u'out', u'to', u'Sri', u'Aurobindo', u'in', u'Pondicherry', u'while', u'he', u'was', u'still', u'alive', u'Sri', u'Aurobindo', u'commented', u'he', u'will', u'snatch', u'away', u'smile', u'from', u'my', u'face', u'n', u'n', u'n', u'External', u'links', u'nOfficial', u'website', u'Sri', u'Aurobindo', u'Ashram', u'nAuroville', u'ns', u'pageid', u'title', u'Sri', u'Aurobindo', u'limits', u'extracts', u'warnings', u'extracts', u'exlimit', u'was', u'too', u'large', u'for', u'a', u'whole', u'article', u'extracts', u'request', u'lowered', u'to', u'main', u'Unrecognized', u'parameter', u'rvprop'], [u'batchcomplete', u'query', u'normalized', u'to', u'John', u'Anderson', u'philosopher', u'from', u'John', u'Anderson', u'philosopher', u'pages', u'extract', u'John', u'Anderson', u'November', u'July', u'was', u'a', u'Scottish', u'Australian', u'philosopher', u'who', u'occupied', u'the', u'post', u'of', u'Challis', u'Professor', u'of', u'Philosophy', u'at', u'Sydney', u'University', u'from', u'to', u'He', u'founded', u'the', u'empirical', u'brand', u'of', u'philosophy', u'known', u'as', u'Australian', u'realism', u'see', u'Scottish', u'realism', u'nAnderson', u's', u'promotion', u'of', u'free', u'thought', u'in', u'all', u'subjects', u'including', u'politics', u'and', u'morality', u'was', u'controversial', u'and', u'brought', u'him', u'into', u'constant', u'conflict', u'with', u'the', u'august', u'senate', u'of', u'the', u'university', u'However', u'he', u'is', u'credited', u'with', u'educating', u'a', u'generation', u'of', u'influential', u'Andersonian', u'thinkers', u'and', u'activists', u'some', u'of', u'whom', u'helped', u'to', u'place', u'Sydney', u'in', u'the', u'forefront', u'of', u'the', u'sexual', u'revolution', u'of', u'the', u's', u'and', u's', u'nTo', u'Anderson', u'an', u'acceptable', u'philosophy', u'must', u'have', u'significant', u'sweep', u'and', u'be', u'capable', u'of', u'challenging', u'and', u'moulding', u'ideas', u'in', u'every', u'aspect', u'of', u'intellect', u'and', u'society', u'n', u'n', u'n', u'Early', u'life', u'nAnderson', u'was', u'born', u'in', u'Stonehouse', u'Lanarkshire', u'Scotland', u'and', u'educated', u'at', u'the', u'former', u'Hamilton', u'Academy', u'from', u'which', u'school', u'he', u'won', u'a', u'bursary', u'to', u'attend', u'the', u'University', u'of', u'Glasgow', u'in', u'the', u'university', u's', u'Bursary', u'Competition', u'of', u'Anderson', u'was', u'listed', u'among', u'notable', u'former', u'pupils', u'of', u'Hamilton', u'Academy', u'in', u'a', u'magazine', u'article', u'on', u'the', u'school', u'His', u'elder', u'brother', u'was', u'William', u'Anderson', u'Professor', u'of', u'Philosophy', u'at', u'Auckland', u'University', u'College', u'to', u'his', u'death', u'in', u'and', u'described', u'as', u'the', u'most', u'dominant', u'figure', u'in', u'New', u'Zealand', u'philosophy', u'nAnderson', u'graduated', u'MA', u'from', u'Glasgow', u'University', u'in', u'with', u'first', u'class', u'honours', u'in', u'Philosophy', u'Logic', u'and', u'Moral', u'Philosophy', u'and', u'first', u'class', u'honours', u'in', u'Mathematics', u'and', u'Natural', u'Philosophy', u'After', u'graduation', u'he', u'was', u'awarded', u'the', u'Ferguson', u'Scholarship', u'in', u'Philosophy', u'and', u'the', u'Shaw', u'Philosophical', u'Fellowship', u'the', u'examinations', u'for', u'which', u'were', u'open', u'to', u'graduates', u'of', u'any', u'of', u'the', u'four', u'Scottish', u'universities', u'nHe', u'served', u'as', u'Assistant', u'in', u'Philosophy', u'at', u'the', u'University', u'College', u'Cardiff', u'Cardiff', u'in', u'Moral', u'Philosophy', u'and', u'Logic', u'in', u'the', u'University', u'of', u'Glasgow', u'and', u'lectured', u'in', u'Logic', u'and', u'Metaphysics', u'at', u'the', u'University', u'of', u'Edinburgh', u'n', u'n', u'n', u'Social', u'theory', u'nAfter', u'arriving', u'in', u'Sydney', u'in', u'he', u'associated', u'with', u'the', u'Communist', u'Party', u'of', u'Australia', u'and', u'contributed', u'to', u'their', u'journals', u'sometimes', u'under', u'a', u'nom', u'de', u'plume', u'but', u'by', u'about', u'he', u'began', u'to', u'believe', u'that', u'communism', u'under', u'Joseph', u'Stalin', u'in', u'the', u'Soviet', u'Union', u'was', u'a', u'dictatorship', u'with', u'no', u'room', u'for', u'workers', u'control', u'or', u'participation', u'He', u'then', u'became', u'aligned', u'with', u'the', u'Trotskyist', u'movement', u'for', u'a', u'period', u'of', u'time', u'But', u'h', u'e', u'could', u'not', u'put', u'up', u'any', u'longer', u'with', u'dialectical', u'materialism', u'or', u'with', u'the', u'servile', u'state', u'which', u'he', u'saw', u'was', u'being', u'imposed', u'by', u'the', u'doctrine', u'of', u'the', u'dictatorship', u'of', u'the', u'proletariat', u'nAnderson', u'later', u'abandoned', u'authoritarian', u'forms', u'of', u'socialism', u'and', u'became', u'what', u'would', u'today', u'be', u'called', u'a', u'libertarian', u'and', u'pluralist', u'an', u'opponent', u'of', u'all', u'forms', u'of', u'authoritarianism', u'Sometimes', u'he', u'described', u'himself', u'as', u'an', u'anarchist', u'but', u'after', u'the', u's', u'he', u'gave', u'up', u'his', u'earlier', u'political', u'utopianism', u'n', u'n', u'n', u'Advocacy', u'of', u'academic', u'freedom', u'nAs', u'Sydney', u'University', u's', u'Challis', u'Professor', u'of', u'Philosophy', u'Anderson', u'was', u'a', u'formidable', u'champion', u'of', u'the', u'principle', u'of', u'academic', u'freedom', u'from', u'authoritarian', u'intervention', u'For', u'example', u'he', u'fought', u'a', u'successful', u'battle', u'to', u'end', u'the', u'role', u'of', u'the', u'British', u'Medical', u'Association', u'in', u'setting', u'course', u'standards', u'and', u'student', u'quotas', u'in', u'the', u'medical', u'school', u'He', u'also', u'railed', u'against', u'the', u'presence', u'on', u'campus', u'of', u'a', u'military', u'unit', u'the', u'Sydney', u'University', u'Regiment', u'and', u'lived', u'to', u'see', u'the', u'day', u'in', u'when', u'the', u'regiment', u's', u'campus', u'HQ', u'was', u'destroyed', u'by', u'fire', u'The', u'regiment', u'was', u'subsequently', u'rehoused', u'at', u'a', u'new', u'facility', u'on', u'university', u'owned', u'land', u'at', u'Darlington', u'nAnderson', u'was', u'censured', u'by', u'the', u'Sydney', u'University', u'Senate', u'in', u'after', u'criticising', u'the', u'role', u'of', u'war', u'memorials', u'in', u'sanctifying', u'war', u'In', u'he', u'was', u'censured', u'by', u'the', u'Parliament', u'of', u'New', u'South', u'Wales', u'after', u'arguing', u'that', u'religion', u'has', u'no', u'place', u'in', u'schools', u'He', u'founded', u'the', u'Sydney', u'University', u'Free', u'Thought', u'Society', u'which', u'ran', u'from', u'to', u'He', u'was', u'president', u'of', u'the', u'society', u'throughout', u'that', u'period', u'nIt', u'is', u'legendary', u'that', u'the', u'university', u's', u'Senate', u'accepting', u'that', u'it', u'could', u'not', u'realise', u'its', u'desire', u'to', u'sack', u'the', u'controversial', u'Challis', u'Professor', u'sought', u'to', u'reduce', u'Anderson', u's', u'stature', u'and', u'influence', u'by', u'creating', u'a', u'new', u'chair', u'of', u'Moral', u'and', u'Political', u'Philosophy', u'to', u'which', u'Alan', u'Stout', u'was', u'appointed', u'This', u'purpose', u'was', u'not', u'achieved', u'as', u'Anderson', u'continued', u'to', u'lecture', u'on', u'ethics', u'and', u'politics', u'Stout', u'who', u'had', u'been', u'urged', u'by', u'Anderson', u'to', u'apply', u'for', u'the', u'position', u'was', u'a', u'steady', u'admirer', u'and', u'supporter', u'of', u'the', u'Challis', u'Professor', u'and', u'declined', u'to', u'undercut', u'his', u'prestige', u'in', u'any', u'way', u'The', u'result', u'was', u'that', u'Sydney', u'gained', u'a', u'second', u'prestigious', u'and', u'personable', u'philosopher', u'who', u'brought', u'a', u'quick', u'intelligence', u'intellectual', u'grasp', u'a', u'flair', u'for', u'putting', u'things', u'simply', u'and', u'clearly', u'together', u'with', u'a', u'genuine', u'respect', u'for', u'the', u'views', u'of', u'others', u'and', u'readiness', u'to', u'appreciate', u'their', u'point', u'of', u'view', u'On', u'Anderson', u's', u'retirement', u'the', u'two', u'departments', u'were', u'merged', u'under', u'Stout', u'as', u'the', u'Professor', u'of', u'Philosophy', u'n', u'n', u'n', u'Thought', u'and', u'influence', u'nAs', u'a', u'committed', u'empiricist', u'Anderson', u'argued', u'that', u'there', u'is', u'only', u'one', u'realm', u'of', u'being', u'and', u'it', u'can', u'be', u'best', u'understood', u'through', u'science', u'and', u'naturalistic', u'philosophy', u'He', u'asserted', u'that', u'there', u'is', u'no', u'supernatural', u'god', u'and', u'that', u'there', u'are', u'no', u'non', u'natural', u'realms', u'along', u'the', u'lines', u'of', u'Platonic', u'ideals', u'He', u'rejected', u'all', u'notions', u'that', u'knowledge', u'could', u'be', u'obtained', u'by', u'means', u'other', u'than', u'descriptions', u'of', u'facts', u'and', u'any', u'belief', u'that', u'revelation', u'or', u'mysticism', u'could', u'be', u'sources', u'for', u'obtaining', u'truth', u'He', u'was', u'arguing', u'that', u'traditional', u'Christian', u'concepts', u'of', u'good', u'and', u'evil', u'were', u'only', u'meant', u'for', u'slaves', u'and', u'that', u'in', u'actuality', u'the', u'idea', u'of', u'morality', u'was', u'empty', u'For', u'Anderson', u'the', u'term', u'good', u'was', u'valid', u'when', u'applied', u'objectively', u'to', u'human', u'activities', u'which', u'were', u'free', u'critical', u'and', u'creative', u'but', u'the', u'more', u'common', u'subjective', u'applications', u'were', u'to', u'be', u'avoided', u'or', u'exposed', u'as', u'deceptive', u'Not', u'surprisingly', u'Anderson', u's', u'influence', u'was', u'both', u'extensive', u'and', u'controversial', u'as', u'he', u'constantly', u'examined', u'and', u'fearlessly', u'criticised', u'hallowed', u'beliefs', u'and', u'institutions', u'n', u'nHe', u'is', u'arguably', u'the', u'most', u'important', u'philosopher', u'who', u'has', u'worked', u'in', u'Australia', u'Certainly', u'he', u'was', u'the', u'most', u'important', u'in', u'both', u'the', u'breadth', u'and', u'depth', u'of', u'influence', u'Among', u'the', u'philosophers', u'who', u'got', u'their', u'original', u'intellectual', u'formation', u'from', u'Anderson', u'are', u'John', u'Passmore', u'John', u'Mackie', u'A', u'J', u'Jim', u'Baker', u'David', u'Stove', u'and', u'myself', u'There', u'are', u'lots', u'more', u'But', u'for', u'every', u'student', u'who', u'became', u'a', u'philosopher', u'there', u'were', u'far', u'far', u'more', u'in', u'the', u'law', u'in', u'medicine', u'in', u'journalism', u'in', u'other', u'academic', u'disciplines', u'that', u'were', u'profoundly', u'influenced', u'by', u'him', u'I', u'am', u'inclined', u'to', u'think', u'that', u'especially', u'in', u'the', u'thirties', u'and', u'forties', u'of', u'the', u'last', u'century', u'Anderson', u'was', u'the', u'person', u'who', u'set', u'the', u'agenda', u'and', u'set', u'the', u'tone', u'for', u'intellectual', u'discussion', u'in', u'Sydney', u'David', u'Armstrong', u'n', u'nAnderson', u's', u'influence', u'has', u'spread', u'through', u'his', u'personal', u'impact', u'on', u'several', u'generations', u'of', u'students', u'the', u'Andersonians', u'who', u'include', u'the', u'philosophers', u'named', u'above', u'together', u'with', u'Hedley', u'Bull', u'and', u'Eugene', u'Kamenka', u'the', u'World', u'War', u'II', u'organiser', u'Alf', u'Conlon', u'many', u'members', u'of', u'the', u'Sydney', u'Push', u'Tonga', u's', u'I', u'Futa', u'Helu', u'and', u'jurist', u'John', u'Kerr', u'later', u'to', u'be', u'Australia', u's', u'best', u'remembered', u'governor', u'general', u'n', u'n', u'n', u'Free', u'Thought', u'Society', u'and', u'the', u'Sydney', u'Libertarians', u'nAnderson', u's', u'insistence', u'on', u'unceasing', u'inquiry', u'and', u'criticism', u'became', u'central', u'to', u'the', u'intellectual', u'principles', u'of', u'the', u'university', u's', u'Libertarian', u'Society', u'which', u'supplanted', u'the', u'Free', u'Thought', u'Society', u'in', u'the', u'early', u's', u'and', u'provided', u'a', u'philosophic', u'platform', u'for', u'the', u'much', u'broader', u'subculture', u'known', u'as', u'the', u'Push', u'throughout', u'the', u's', u'He', u'was', u'a', u'defender', u'of', u'free', u'speech', u'and', u'was', u'critical', u'of', u'the', u'Australian', u'government', u's', u'bans', u'on', u'certain', u'political', u'publications', u'He', u'advocated', u'religious', u'and', u'sexual', u'freedoms', u'and', u'free', u'discussion', u'of', u'issues', u'in', u'an', u'era', u'when', u'mention', u'of', u'taboo', u'subjects', u'commonly', u'resulted', u'in', u'angry', u'public', u'condemnation', u'by', u'prominent', u'moralists', u'nAfter', u'the', u'Second', u'World', u'War', u'however', u'Anderson', u'began', u'exhibiting', u'more', u'conservative', u'views', u'Jim', u'Baker', u'interprets', u'this', u'latter', u'stage', u'not', u'so', u'much', u'as', u'a', u'definite', u'change', u'in', u'his', u'overall', u'thinking', u'than', u'an', u'alteration', u'of', u'emphasis', u'and', u'interest', u'In', u'other', u'words', u'according', u'to', u'Baker', u'while', u'Anderson', u's', u'political', u'positions', u'changed', u'over', u'time', u'his', u'philosophy', u'remained', u'constant', u'To', u'many', u'however', u'it', u'seemed', u'that', u'Anderson', u'was', u'departing', u'from', u'his', u'pluralism', u'During', u'the', u'coal', u'miners', u'strike', u'for', u'instance', u'he', u'supported', u'the', u'government', u's', u'action', u'in', u'using', u'troops', u'as', u'strikebreakers', u'At', u'a', u'Free', u'Thought', u'Society', u'meeting', u'in', u'August', u'he', u'refused', u'to', u'oppose', u'conscription', u'for', u'the', u'war', u'in', u'Korea', u'In', u'he', u'refused', u'to', u'allow', u'students', u'to', u'use', u'the', u'Free', u'Thought', u'Society', u'to', u'canvass', u'the', u'No', u'case', u'for', u'Menzies', u'attempt', u'to', u'ban', u'the', u'Communist', u'Party', u'in', u'the', u'referendum', u'of', u'that', u'year', u'This', u'was', u'the', u'last', u'straw', u'for', u'many', u'Freethinkers', u'Anderson', u's', u'apparent', u'authoritarianism', u'caused', u'most', u'to', u'abandon', u'the', u'Free', u'Thought', u'Society', u'and', u'to', u'establish', u'the', u'Libertarian', u'Society', u'It', u'must', u'be', u'pointed', u'out', u'that', u'Anderson', u'did', u'not', u'support', u'the', u'banning', u'of', u'the', u'Communist', u'Party', u'in', u'fact', u'he', u'attacked', u'the', u'proposal', u'The', u'Free', u'Thought', u'Society', u'held', u'its', u'last', u'meeting', u'in', u'The', u'Libertarian', u'Society', u'functioned', u'from', u'to', u'nAnderson', u'broke', u'off', u'contact', u'with', u'the', u'former', u'disciples', u'who', u'formed', u'the', u'Libertarian', u'Society', u'and', u'never', u'associated', u'with', u'Push', u'people', u'who', u'routinely', u'sang', u'his', u'praises', u'along', u'with', u'the', u'bawdy', u'songs', u'he', u'had', u'imported', u'to', u'his', u'new', u'country', u'However', u'even', u'after', u'retirement', u'in', u'and', u'to', u'the', u'brink', u'of', u'his', u'death', u'in', u'he', u'was', u'seen', u'daily', u'in', u'his', u'study', u'continuing', u'his', u'work', u'and', u'reviewing', u'earlier', u'work', u'Among', u'his', u'last', u'publications', u'were', u'Classicism', u'Empiricism', u'and', u'Logic', u'and', u'Relational', u'Arguments', u'n', u'n', u'n', u'References', u'n', u'n', u'n', u'Further', u'reading', u'nJ', u'Anderson', u'Introduction', u'by', u'D', u'Armstrong', u'Space', u'Time', u'and', u'the', u'Categories', u'Lectures', u'on', u'Metaphysics', u'Sydney', u'University', u'Press', u'ISBN', u'Details', u'nJ', u'Anderson', u'Regular', u'contributions', u'to', u'The', u'Australasian', u'Journal', u'of', u'Psychology', u'and', u'Philosophy', u'nJ', u'Anderson', u'Studies', u'in', u'Empirical', u'Philosophy', u'Sydney', u'Angus', u'and', u'Robertson', u'ISBN', u'nJ', u'Anderson', u'Religion', u'in', u'Education', u'in', u'Religion', u'in', u'Education', u'Five', u'Addresses', u'Delivered', u'Before', u'the', u'New', u'Education', u'Fellowship', u'N', u'S', u'W', u'The', u'New', u'Education', u'Fellowship', u'Sydney', u'nJanet', u'Anderson', u'Graham', u'Cullum', u'Kimon', u'Lycos', u'eds', u'Art', u'and', u'Reality', u'John', u'Anderson', u'on', u'Literature', u'and', u'Aesthetics', u'Sydney', u'Hale', u'and', u'Iremonger', u'nA', u'J', u'Baker', u'Anderson', u's', u'Social', u'Philosophy', u'The', u'Social', u'Thought', u'and', u'Political', u'Life', u'of', u'Professor', u'John', u'Anderson', u'Sydney', u'Angus', u'Robertson', u'nA', u'J', u'Baker', u'Australian', u'Realism', u'The', u'Systematic', u'Philosophy', u'of', u'John', u'Anderson', u'Cambridge', u'University', u'Press', u'nA', u'Barcan', u'Radical', u'Students', u'The', u'Old', u'Left', u'at', u'Sydney', u'University', u'Carlton', u'South', u'Vic', u'Melbourne', u'University', u'Press', u'review', u'nJ', u'Franklin', u'Corrupting', u'the', u'Youth', u'A', u'History', u'of', u'Philosophy', u'in', u'Australia', u'Macleay', u'Press', u'chs', u'nB', u'Kennedy', u'A', u'Passion', u'to', u'Oppose', u'John', u'Anderson', u'Philosopher', u'Carlton', u'South', u'Vic', u'Melbourne', u'University', u'Press', u'nMark', u'Weblin', u'ed', u'A', u'Perilous', u'and', u'Fighting', u'Life', u'From', u'Communist', u'to', u'Conservative', u'The', u'Political', u'Writings', u'of', u'Professor', u'John', u'Anderson', u'North', u'Melbourne', u'Pluto', u'Press', u'n', u'n', u'n', u'External', u'links', u'nJohn', u'Anderson', u'Archive', u'University', u'of', u'Sydney', u'nJohn', u'Anderson', u'Studies', u'in', u'Empirical', u'Philosophy', u'Sydney', u'University', u'Press', u'nProfessor', u'John', u'Anderson', u'Lecture', u'Notes', u'and', u'Other', u'Writings', u'University', u'of', u'Sydney', u'Australian', u'Studies', u'Resources', u'nABC', u'Radio', u'National', u'transcript', u'Philosopher', u's', u'Zone', u'September', u'nABC', u'Radio', u'National', u'transcript', u'Philosopher', u's', u'Zone', u'November', u'nABC', u'Radio', u'National', u'audio', u'Late', u'Night', u'Live', u'originally', u'February', u'nClive', u'James', u'on', u'John', u'Anderson', u'The', u'Monthly', u'July', u'nW', u'M', u'O', u'Neill', u'Anderson', u'John', u'Biography', u'at', u'Australian', u'Dictionary', u'of', u'Biography', u'ns', u'pageid', u'title', u'John', u'Anderson', u'philosopher', u'limits', u'extracts', u'warnings', u'extracts', u'exlimit', u'was', u'too', u'large', u'for', u'a', u'whole', u'article', u'extracts', u'request', u'lowered', u'to', u'main', u'Unrecognized', u'parameter', u'rvprop']]\n"
     ]
    }
   ],
   "source": [
    "# Getting words from Astheticians pages\n",
    "aestheticians_words = []\n",
    "for i in aestheticians[0:5]:\n",
    "    name_url = re.sub('\\s+', '_', i)\n",
    "    f = io.open('./philosophers_json/' + name_url + '.json', 'r', encoding='utf8')\n",
    "    #aestheticians_tokens = nltk.word_tokenize(f.read())\n",
    "    hello = re.findall(r'[a-zA-Z]+', f.read())\n",
    "    #aestheticians_words.append(re.findall(r'[a-zA-Z]+', aestheticians_tokens))\n",
    "    aestheticians_words.append(hello)\n",
    "\n",
    "print aestheticians_words"
   ]
  },
  {
   "cell_type": "code",
   "execution_count": null,
   "metadata": {
    "collapsed": true
   },
   "outputs": [],
   "source": []
  }
 ],
 "metadata": {
  "anaconda-cloud": {},
  "kernelspec": {
   "display_name": "Python [Root]",
   "language": "python",
   "name": "Python [Root]"
  },
  "language_info": {
   "codemirror_mode": {
    "name": "ipython",
    "version": 2
   },
   "file_extension": ".py",
   "mimetype": "text/x-python",
   "name": "python",
   "nbconvert_exporter": "python",
   "pygments_lexer": "ipython2",
   "version": "2.7.12"
  }
 },
 "nbformat": 4,
 "nbformat_minor": 0
}
