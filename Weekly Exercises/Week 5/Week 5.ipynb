{
 "cells": [
  {
   "cell_type": "markdown",
   "metadata": {},
   "source": [
    "# Part A: The structure of the Philosopher network\n",
    "*Exercises*: Structure of the philosopher network\n",
    "\n",
    "Last time, we found the most connected philosophers (using degree centrality). Now let's dig in and try to understand more about the philosopher network using more advanced network features. If your network has more than one component, just work on the giant connected component (GCC) in the exercises below (in a directed graph use the [weakly connected component](https://networkx.github.io/documentation/networkx-1.9.1/reference/algorithms.component.html).\n",
    "* Not all of the measures we'll be considering below are defined for directed graphs, thus begin by creating an undirected version of the philosopher graph, that we can use whenever needed. Only use the undirected graph when explicitly stated in the exercise."
   ]
  },
  {
   "cell_type": "code",
   "execution_count": 24,
   "metadata": {
    "collapsed": false
   },
   "outputs": [
    {
     "name": "stdout",
     "output_type": "stream",
     "text": [
      "1161\n"
     ]
    }
   ],
   "source": [
    "# Create a list of all philosophers from six different branches\n",
    "import io\n",
    "import re\n",
    "\n",
    "branches_of_phi = ['aestheticians', 'epistemologists',\n",
    "                   'ethicists', 'logicians', 'metaphysicians',\n",
    "                   'social_and_political_philosophers']\n",
    "\n",
    "all_phi = []\n",
    "for phi in branches_of_phi:\n",
    "    f = io.open('./wikitext_' + phi + '.txt', 'r', encoding='utf8')\n",
    "    branch_of_phi = re.findall(r'\\[\\[(.*?)\\]\\]', f.read())\n",
    "    all_phi = all_phi + branch_of_phi\n",
    "\n",
    "# Deleting duplicates from prev. list and sort alphabetically\n",
    "philosophers = sorted(set(all_phi))\n",
    "print(len(all_phi))"
   ]
  },
  {
   "cell_type": "code",
   "execution_count": 1,
   "metadata": {
    "collapsed": true
   },
   "outputs": [],
   "source": [
    "import urllib2\n",
    "import json\n",
    "\n",
    "# Function for retrieving json data from Wikipedia\n",
    "def jsonWiki( name ):\n",
    "    # Parameters for retrieving page from wikipedia\n",
    "    baseurl = 'https://en.wikipedia.org/w/api.php?'\n",
    "    action = \"action=query\"\n",
    "    title = \"titles=\" + name\n",
    "    content = \"prop=revisions&rvprop=content\"\n",
    "    dataformat = \"format=json\"\n",
    "\n",
    "    # Construct the query\n",
    "    query = \"%s%s&%s&%s&%s\" % (baseurl, action, title, content, dataformat)\n",
    "\n",
    "    # Download json format of wikipedia page\n",
    "    wikiresponse = urllib2.urlopen(query)\n",
    "    wikisource = wikiresponse.read()\n",
    "    wikijson = json.loads(wikisource)\n",
    "    \n",
    "    return wikijson"
   ]
  },
  {
   "cell_type": "code",
   "execution_count": 6,
   "metadata": {
    "collapsed": false
   },
   "outputs": [],
   "source": [
    "# Go through the list 'philosophers' and download their respective pages\n",
    "for i in philosophers:\n",
    "    #Convert philosophers' names from utf8 to string\n",
    "    nameStr = i.encode(\"utf-8\")\n",
    "    \n",
    "    # Whitespace changed to underscore\n",
    "    name_url = re.sub('\\s+', '_', nameStr)\n",
    "    \n",
    "    with io.open('./philosophers_json/' + name_url + '.json', 'w', encoding='utf8') as json_file:\n",
    "        json_file.write(unicode(json.dumps(jsonWiki(name_url), ensure_ascii=False)))"
   ]
  },
  {
   "cell_type": "code",
   "execution_count": 4,
   "metadata": {
    "collapsed": true
   },
   "outputs": [],
   "source": [
    "import networkx as nx\n",
    "\n",
    "# Create a network called P\n",
    "P = nx.DiGraph()\n",
    "\n",
    "# Go through list of philosophers and add notes to P for every philosopher\n",
    "for i in philosophers:\n",
    "    P.add_node(i)"
   ]
  },
  {
   "cell_type": "code",
   "execution_count": 5,
   "metadata": {
    "collapsed": false
   },
   "outputs": [],
   "source": [
    "# Go through list of philosophers and find links\n",
    "for i in philosophers: \n",
    "    # Whitespace changed to underscore\n",
    "    name_url = re.sub('\\s+', '_', i)\n",
    "    \n",
    "    f = io.open('./philosophers_json/' + name_url + '.json', 'r', encoding='utf8')\n",
    "    phi_link = re.findall(r'\\[\\[(.*?)\\]\\]', f.read())\n",
    "    \n",
    "    # Add directed link from philosopher A to philosopher B \n",
    "    for ii in philosophers:\n",
    "        if (ii in phi_link):\n",
    "            P.add_edge(i, ii)"
   ]
  },
  {
   "cell_type": "code",
   "execution_count": 6,
   "metadata": {
    "collapsed": false
   },
   "outputs": [
    {
     "name": "stdout",
     "output_type": "stream",
     "text": [
      "Number of nodes in P: 1015\n",
      "Number of links in P: 3528\n",
      "Number of nodes in P (undirected): 1015\n",
      "Number of links in P (undirected): 2907\n"
     ]
    }
   ],
   "source": [
    "# Create an undirected graph of network 'P'\n",
    "P_undirected = P.to_undirected()\n",
    "\n",
    "# Number of nodes in 'P'\n",
    "num_of_nodes = P_undirected.number_of_nodes()\n",
    "print('Number of nodes in P: ' + str(num_of_nodes))\n",
    "\n",
    "# Number of links in 'P'\n",
    "num_of_links = P.number_of_edges()\n",
    "print('Number of links in P: ' + str(num_of_links))\n",
    "\n",
    "# Number of nodes in 'P_undirected'\n",
    "num_of_nodes_undirected = P_undirected.number_of_nodes()\n",
    "print('Number of nodes in P (undirected): ' + str(num_of_nodes_undirected))\n",
    "\n",
    "# Number of links in 'P_undirected'\n",
    "num_of_links_undirected = P_undirected.number_of_edges()\n",
    "print('Number of links in P (undirected): ' + str(num_of_links_undirected))"
   ]
  },
  {
   "cell_type": "markdown",
   "metadata": {},
   "source": [
    "* Find the 5 most central philosophers according to [betweenness centrality](https://networkx.github.io/documentation/networkx-1.9.1/reference/generated/networkx.algorithms.centrality.betweenness_centrality.html). What role do you imagine philosophers with high wikipedia graph betweenness centrality play in the history of philosophy?"
   ]
  },
  {
   "cell_type": "code",
   "execution_count": 7,
   "metadata": {
    "collapsed": false
   },
   "outputs": [
    {
     "name": "stdout",
     "output_type": "stream",
     "text": [
      "Bertrand Russell with value of 0.0553583549509\n",
      "Plato with value of 0.0393265192398\n",
      "Aristotle with value of 0.0374825791084\n",
      "David Hume with value of 0.0323912710006\n",
      "Ludwig Wittgenstein with value of 0.0253549087746\n"
     ]
    }
   ],
   "source": [
    "import networkx as nx\n",
    "\n",
    "# Betweenness centrality for 'P'\n",
    "between_centrality = nx.betweenness_centrality(P)\n",
    "\n",
    "# Go through 'between_centrality' and add to two lists (names and values)\n",
    "between_centrality_names = []\n",
    "between_centrality_values = []\n",
    "for i in between_centrality:\n",
    "    between_centrality_names.append(i)\n",
    "    between_centrality_values.append(between_centrality[i])\n",
    "    \n",
    "# Combining lists of names and values\n",
    "between_centrality_list = zip(between_centrality_names, between_centrality_values)\n",
    "\n",
    "# Sort by values\n",
    "between_centrality_sorted = sorted(between_centrality_list, key=lambda tup: tup[1], reverse=True)\n",
    "\n",
    "# Print the top 5\n",
    "for ii in between_centrality_sorted[0:5]:\n",
    "    print(ii[0] + ' with value of ' + str(ii[1]))"
   ]
  },
  {
   "cell_type": "markdown",
   "metadata": {},
   "source": [
    "**Explanation needed**"
   ]
  },
  {
   "cell_type": "markdown",
   "metadata": {},
   "source": [
    "* Find the 5 most central philosophers according to eigenvector centrality. Calculate centrality corresponding to both in- and out-edges (see NetworkX documentation for details)."
   ]
  },
  {
   "cell_type": "code",
   "execution_count": 8,
   "metadata": {
    "collapsed": false
   },
   "outputs": [
    {
     "name": "stdout",
     "output_type": "stream",
     "text": [
      "Aristotle with value of 0.335401335691\n",
      "Bertrand Russell with value of 0.308786062062\n",
      "Plato with value of 0.267145749686\n",
      "Immanuel Kant with value of 0.214379046857\n",
      "Ludwig Wittgenstein with value of 0.195549679843\n"
     ]
    }
   ],
   "source": [
    "# Eigenvector centrality for in-edges\n",
    "eigenvector_centrality_in = nx.eigenvector_centrality(P)\n",
    "\n",
    "# Go through 'eigenvector centrality_in' and add to two lists (names and values)\n",
    "eigenvector_centrality_in_names = []\n",
    "eigenvector_centrality_in_values = []\n",
    "for i in eigenvector_centrality_in:\n",
    "    eigenvector_centrality_in_names.append(i)\n",
    "    eigenvector_centrality_in_values.append(eigenvector_centrality_in[i])\n",
    "    \n",
    "# Combining lists of names and values\n",
    "eigenvector_centrality_in_list = zip(eigenvector_centrality_in_names, eigenvector_centrality_in_values)\n",
    "\n",
    "# Sort by values\n",
    "eigenvector_centrality_in_sorted = sorted(eigenvector_centrality_in_list, key=lambda tup: tup[1], reverse=True)\n",
    "\n",
    "# Print the top 5\n",
    "for ii in eigenvector_centrality_in_sorted[0:5]:\n",
    "    print(ii[0] + ' with value of ' + str(ii[1]))"
   ]
  },
  {
   "cell_type": "code",
   "execution_count": 9,
   "metadata": {
    "collapsed": false
   },
   "outputs": [
    {
     "name": "stdout",
     "output_type": "stream",
     "text": [
      "Martin Heidegger with value of 0.202088908765\n",
      "Gilles Deleuze with value of 0.174139422542\n",
      "Georg Wilhelm Friedrich Hegel with value of 0.171546935869\n",
      "Henri Bergson with value of 0.16531090173\n",
      "Bertrand Russell with value of 0.162076137056\n"
     ]
    }
   ],
   "source": [
    "# Reverse P to find eigenvector centrality for out-edges\n",
    "P_reversed = P.reverse()\n",
    "\n",
    "# Eigenvector centrality for out-edges\n",
    "eigenvector_centrality_out = nx.eigenvector_centrality(P_reversed)\n",
    "\n",
    "# Go through 'eigenvector centrality_out' and add to two lists (names and values)\n",
    "eigenvector_centrality_out_names = []\n",
    "eigenvector_centrality_out_values = []\n",
    "for i in eigenvector_centrality_out:\n",
    "    eigenvector_centrality_out_names.append(i)\n",
    "    eigenvector_centrality_out_values.append(eigenvector_centrality_out[i])\n",
    "    \n",
    "# Combining lists of names and values\n",
    "eigenvector_centrality_out_list = zip(eigenvector_centrality_out_names, eigenvector_centrality_out_values)\n",
    "\n",
    "# Sort by values\n",
    "eigenvector_centrality_out_sorted = sorted(eigenvector_centrality_out_list, key=lambda tup: tup[1], reverse=True)\n",
    "\n",
    "# Print the top 5\n",
    "for ii in eigenvector_centrality_out_sorted[0:5]:\n",
    "    print(ii[0] + ' with value of ' + str(ii[1]))"
   ]
  },
  {
   "cell_type": "markdown",
   "metadata": {},
   "source": [
    "* How is eigenvector centrality difference from degree centrality? Compare your results for [eigenvector centrality](https://networkx.github.io/documentation/networkx-1.9.1/reference/generated/networkx.algorithms.centrality.eigenvector_centrality.html) to the results for betweenness centrality - does the difference make sense when you read the philosopher's wikipedia pages?"
   ]
  },
  {
   "cell_type": "markdown",
   "metadata": {},
   "source": [
    "**Explanation needed**"
   ]
  },
  {
   "cell_type": "markdown",
   "metadata": {},
   "source": [
    "* Is the undirected version of the graph [assortative with respect do degree](https://networkx.github.io/documentation/networkx-1.9.1/reference/generated/networkx.algorithms.assortativity.degree_assortativity_coefficient.html#networkx.algorithms.assortativity.degree_assortativity_coefficient)? (e.g. do high-degree philosophers tend to link to other high-degree philosophers, and low-degree philosophers to other low-degree philosophers?). Provide an interpretation of your answer."
   ]
  },
  {
   "cell_type": "markdown",
   "metadata": {},
   "source": [
    "**Needs work!**"
   ]
  },
  {
   "cell_type": "markdown",
   "metadata": {},
   "source": [
    "*Exercises*: Age and structure in the philosopher network\n",
    "\n",
    "Age of the philosophers plays a large role. Socrates/Plato and Aristotle are massive influences on philosophy in millennia subsequent to their birth. Now, let us explore how the birth-year of the philosophers plays a role in shaping the network. We've created a file (.json format) which provides the birth year for most of the philosophers. Get it **[here](https://dl.dropboxusercontent.com/u/153071/02805/philosopher_birth_year.json)**. In the following, you may use that to get the birth-year for the philosopher. Note: It's possible that the list of names in the list of birth-years is not identical to the set of nodes in your network; thus, for the exercises including age, simply work on the [subgraph](http://networkx.lanl.gov/reference/generated/networkx.Graph.subgraph.html) of nodes for which you have age-info."
   ]
  },
  {
   "cell_type": "code",
   "execution_count": 10,
   "metadata": {
    "collapsed": false
   },
   "outputs": [],
   "source": [
    "# Get age and names information from json file\n",
    "philosophers_age_names = []\n",
    "philosophers_age_values = []\n",
    "for i in philosophers:\n",
    "    f = io.open('./philosopher_birth_year.json', 'r', encoding='utf8')\n",
    "    data = json.load(f)\n",
    "    \n",
    "    # Find if philoshoper is in json-file and add to lists (names and values)\n",
    "    if (i in data):\n",
    "        philosophers_age_names.append(i)\n",
    "        philosophers_age_values.append(data[i])\n",
    "\n",
    "# Combining lists of names and values\n",
    "philosophers_age = zip(philosophers_age_names, philosophers_age_values)"
   ]
  },
  {
   "cell_type": "markdown",
   "metadata": {},
   "source": [
    "* Create a histogram of the number of philosophers born in every century, starting 500 BC. Describe the plot. Does philosophy seem to have developed at a steady pace - or in a more bursty manner? Are we living in a golden age of philosophy right now? (Use the data & common sense to present an argument for your answer)."
   ]
  },
  {
   "cell_type": "code",
   "execution_count": 11,
   "metadata": {
    "collapsed": false
   },
   "outputs": [
    {
     "data": {
      "image/png": "[encoded data removed]",
      "text/plain": [
       "<matplotlib.figure.Figure at 0x10be77f90>"
      ]
     },
     "metadata": {},
     "output_type": "display_data"
    }
   ],
   "source": [
    "import numpy\n",
    "import matplotlib.pyplot as plt\n",
    "%matplotlib inline\n",
    "\n",
    "hist, bins = numpy.histogram(philosophers_age_values, bins=25)\n",
    "width = 0.8 * (bins[1] - bins[0])\n",
    "center = (bins[:-1] + bins[1:]) / 2\n",
    "plt.bar(center, hist, align='center', width=width)\n",
    "plt.title(\"Philosophers' age distribution\")\n",
    "plt.xlabel('Year')\n",
    "plt.ylabel('Number of occurrences')\n",
    "plt.show()"
   ]
  },
  {
   "cell_type": "markdown",
   "metadata": {},
   "source": [
    "* Is the undirected version of the graph [assortative with respect to age](https://networkx.github.io/documentation/networkx-1.9.1/reference/generated/networkx.algorithms.assortativity.attribute_assortativity_coefficient.html#networkx.algorithms.assortativity.attribute_assortativity_coefficient)? Once again, provide an interpretation of your answer."
   ]
  },
  {
   "cell_type": "markdown",
   "metadata": {},
   "source": [
    "**Explanation needed**"
   ]
  },
  {
   "cell_type": "markdown",
   "metadata": {},
   "source": [
    "* A reasonable hypothesis is that old philosophers are more famous. Create a scatter-plot of age versus in-degree. Do you see a correlation between the two? Justify your answer (for example by calculating the correlation coefficient.)"
   ]
  },
  {
   "cell_type": "markdown",
   "metadata": {
    "collapsed": true
   },
   "source": [
    "**Explanation needed**"
   ]
  },
  {
   "cell_type": "markdown",
   "metadata": {},
   "source": [
    "# Part B: The branches of philosophy. Are they communities?\n",
    "Before we begin, let's learn about communities. If you want to learn more details, I recommend you take a look at *Chapter 9* in the *Network Science* book ... but the lecture should be enough to get you started. For this and the next exercise, work on the *undirected* version of the network."
   ]
  },
  {
   "cell_type": "markdown",
   "metadata": {},
   "source": [
    "*Exercises*: We will use the concept of modularity to explore how *community-like* the six branches of philosophy are.\n",
    "\n",
    "* Explain the concept of modularity in your own words."
   ]
  },
  {
   "cell_type": "markdown",
   "metadata": {},
   "source": [
    "**Explanation needed**"
   ]
  },
  {
   "cell_type": "markdown",
   "metadata": {},
   "source": [
    "* Now we will calculate the modularity of the branches reported by the Wikipedia editors. But we need to do a bit of work to make this happen.\n",
    "* Firstly, modularity does not work when the communities are overlapping. Thus, we need to do something about the philosophers that are part of multiple branches. We will handle it by creating a set of *six new branches*, where we take all of the philosophers that belong to more than one branch and assign them to the branch that they have the most connections to. The procedure is the following:\n",
    "    * Start with creating six new branches (e.g. represented as [sets](https://docs.python.org/2/library/sets.html) in Python) containing all of the philosopher that can be unambiguously assigned to a branch.\n",
    "    * Then, take the list of all nodes that are part of more than one branch. For each member *i* of this list, how many links *i* has to each of his/her branches.\n",
    "    * Add i to to the branch that it has most connections to."
   ]
  },
  {
   "cell_type": "code",
   "execution_count": 87,
   "metadata": {
    "collapsed": false
   },
   "outputs": [],
   "source": [
    "aestheticians = []\n",
    "f = io.open('./wikitext_aestheticians.txt', 'r', encoding='utf8')\n",
    "aestheticians = re.findall(r'\\[\\[(.*?)\\]\\]', f.read())\n",
    "\n",
    "epistemologists = []\n",
    "f = io.open('./wikitext_epistemologists.txt', 'r', encoding='utf8')\n",
    "epistemologists = re.findall(r'\\[\\[(.*?)\\]\\]', f.read())\n",
    "\n",
    "ethicists = []\n",
    "f = io.open('./wikitext_ethicists.txt', 'r', encoding='utf8')\n",
    "ethicists = re.findall(r'\\[\\[(.*?)\\]\\]', f.read())\n",
    "\n",
    "logicians = []\n",
    "f = io.open('./wikitext_logicians.txt', 'r', encoding='utf8')\n",
    "logicians = re.findall(r'\\[\\[(.*?)\\]\\]', f.read())\n",
    "\n",
    "metaphysicians = []\n",
    "f = io.open('./wikitext_metaphysicians.txt', 'r', encoding='utf8')\n",
    "metaphysicians = re.findall(r'\\[\\[(.*?)\\]\\]', f.read())\n",
    "\n",
    "social_and_political = []\n",
    "f = io.open('./wikitext_social_and_political_philosophers.txt', 'r', encoding='utf8')\n",
    "social_and_political = re.findall(r'\\[\\[(.*?)\\]\\]', f.read())\n",
    "\n",
    "phi_branches_all = aestheticians + epistemologists + ethicists + logicians + metaphysicians + social_and_political\n",
    "\n",
    "phi_branches = [aestheticians, epistemologists, ethicists,\n",
    "                logicians, metaphysicians, social_and_political]\n",
    "\n",
    "# Find philosophers who appear in more than one list\n",
    "phi_duplicates = set([x for x in all_phi if all_phi.count(x) > 1])\n",
    "\n",
    "# Remove philosophers who appear more than once\n",
    "phi_no_duplicates = [x for x in phi_branches_all if x not in phi_duplicates]"
   ]
  },
  {
   "cell_type": "code",
   "execution_count": 96,
   "metadata": {
    "collapsed": false
   },
   "outputs": [],
   "source": [
    "# Find aestheticians who appear in more than one list\n",
    "aestheticians_dup = []\n",
    "for i in aestheticians:\n",
    "    if(i in phi_duplicates):\n",
    "        aestheticians_dup.append(i)\n",
    "        \n",
    "# Remove aestheticians who appear more than once\n",
    "aestheticians_no_dup = [x for x in aestheticians if x not in aestheticians_dup]\n",
    "\n",
    "# Find epistemologists who appear in more than one list\n",
    "epistemologists_dup = []\n",
    "for i in epistemologists:\n",
    "    if(i in phi_duplicates):\n",
    "        epistemologists_dup.append(i)\n",
    "        \n",
    "# Remove epistemologists who appear more than once\n",
    "epistemologists_no_dup = [x for x in epistemologists if x not in epistemologists_dup]\n",
    "\n",
    "# Find ethicists who appear in more than one list\n",
    "ethicists_dup = []\n",
    "for i in ethicists:\n",
    "    if(i in phi_duplicates):\n",
    "        ethicists_dup.append(i)\n",
    "        \n",
    "# Remove ethicists who appear more than once\n",
    "ethicists_no_dup = [x for x in ethicists if x not in ethicists_dup]\n",
    "\n",
    "# Find logicians who appear in more than one list\n",
    "logicians_dup = []\n",
    "for i in logicians:\n",
    "    if(i in phi_duplicates):\n",
    "        logicians_dup.append(i)\n",
    "        \n",
    "# Remove logicians who appear more than once\n",
    "logicians_no_dup = [x for x in logicians if x not in logicians_dup]\n",
    "\n",
    "# Find metaphysicians who appear in more than one list\n",
    "metaphysicians_dup = []\n",
    "for i in metaphysicians:\n",
    "    if(i in phi_duplicates):\n",
    "        metaphysicians_dup.append(i)\n",
    "        \n",
    "# Remove metaphysicians who appear more than once\n",
    "metaphysicians_no_dup = [x for x in metaphysicians if x not in metaphysicians_dup]\n",
    "\n",
    "# Find social_and_political who appear in more than one list\n",
    "social_and_political_dup = []\n",
    "for i in social_and_political:\n",
    "    if(i in phi_duplicates):\n",
    "        social_and_political_dup.append(i)\n",
    "        \n",
    "# Remove social_and_political who appear more than once\n",
    "social_and_political_no_dup = [x for x in social_and_political if x not in social_and_political_dup]"
   ]
  },
  {
   "cell_type": "code",
   "execution_count": 128,
   "metadata": {
    "collapsed": false
   },
   "outputs": [],
   "source": [
    "philosophers_no_dup_branches = [aestheticians_no_dup, epistemologists_no_dup, ethicists_no_dup,\n",
    "                               logicians_no_dup, metaphysicians_no_dup, social_and_political_no_dup]\n",
    "\n",
    "# Go through list of duplicated philosophers and find most links to branches\n",
    "for i in phi_duplicates: \n",
    "    # Whitespace changed to underscore\n",
    "    name_url = re.sub('\\s+', '_', i)\n",
    "    \n",
    "    f = io.open('./philosophers_json/' + name_url + '.json', 'r', encoding='utf8')\n",
    "    phi_link = re.findall(r'\\[\\[(.*?)\\]\\]', f.read())"
   ]
  },
  {
   "cell_type": "code",
   "execution_count": null,
   "metadata": {
    "collapsed": true
   },
   "outputs": [],
   "source": []
  }
 ],
 "metadata": {
  "anaconda-cloud": {},
  "kernelspec": {
   "display_name": "Python [Root]",
   "language": "python",
   "name": "Python [Root]"
  },
  "language_info": {
   "codemirror_mode": {
    "name": "ipython",
    "version": 2
   },
   "file_extension": ".py",
   "mimetype": "text/x-python",
   "name": "python",
   "nbconvert_exporter": "python",
   "pygments_lexer": "ipython2",
   "version": "2.7.12"
  }
 },
 "nbformat": 4,
 "nbformat_minor": 0
}
