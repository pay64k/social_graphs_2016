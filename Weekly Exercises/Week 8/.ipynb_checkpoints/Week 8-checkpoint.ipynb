{
 "cells": [
  {
   "cell_type": "markdown",
   "metadata": {},
   "source": [
    "# Path lengths\n",
    "The first thing we want to take a look at is path lengths. NetworkX allows us to calculate the shortest path between any pair of articles. We begin by comparing the length of human and shortests paths.\n",
    "\n",
    "*Exercises*\n",
    "\n",
    "For each source/target pair in the list of human navigation paths, calculate the shortest path using NetworkX. Plot the distribution of path lengths."
   ]
  },
  {
   "cell_type": "code",
   "execution_count": 72,
   "metadata": {
    "collapsed": false
   },
   "outputs": [],
   "source": [
    "import csv\n",
    "\n",
    "# Go through the articles.tsv and add articles to a list\n",
    "with open('./articles.tsv', 'r') as f:\n",
    "    # Skip the headers\n",
    "    lines_after_12 = f.readlines()[12:]\n",
    "    reader = csv.reader(lines_after_12)\n",
    "    articles = []\n",
    "    for row in reader:\n",
    "        articles.append(row)"
   ]
  },
  {
   "cell_type": "code",
   "execution_count": 73,
   "metadata": {
    "collapsed": false
   },
   "outputs": [],
   "source": [
    "import networkx as nx\n",
    "\n",
    "# Create a directed graph\n",
    "G = nx.DiGraph()\n",
    "\n",
    "# Go through the list 'articles' and add articles as nodes to a graph 'G'\n",
    "for i in range(len(articles)):\n",
    "    G.add_node(i)"
   ]
  },
  {
   "cell_type": "code",
   "execution_count": 74,
   "metadata": {
    "collapsed": false
   },
   "outputs": [],
   "source": [
    "# Go through the links.tsv and add directed link from one node to another\n",
    "with open('./links.tsv', 'r') as f:\n",
    "    # Skip the headers\n",
    "    lines_after_12 = f.readlines()[12:]\n",
    "    reader = csv.reader(lines_after_12, delimiter='\\t')\n",
    "    for row in reader:\n",
    "        G.add_edge(row[0], row[1])"
   ]
  },
  {
   "cell_type": "code",
   "execution_count": 75,
   "metadata": {
    "collapsed": false
   },
   "outputs": [],
   "source": [
    "# Go through the paths_finished.tsv and find the source and target articles and the length between them\n",
    "with open('./paths_finished.tsv', 'r') as f:\n",
    "    # Skip the headers\n",
    "    lines_after_16 = f.readlines()[16:]\n",
    "    reader = csv.reader(lines_after_16, delimiter='\\t')\n",
    "    human_navigation_paths = []\n",
    "    for row in reader:\n",
    "        link_start_end = []\n",
    "        links = row[3].split(';')      \n",
    "        # Get the source article\n",
    "        link_start_end.append(links[0])\n",
    "        # Get the target article\n",
    "        link_start_end.append(links[-1])\n",
    "        # Ignore back steps\n",
    "        ignore_back_steps = [link for link in links if link != '<']\n",
    "        # Get the length of path without back steps\n",
    "        link_start_end.append(len(ignore_back_steps))\n",
    "        # Add source/target article and length of path\n",
    "        human_navigation_paths.append(link_start_end)"
   ]
  },
  {
   "cell_type": "code",
   "execution_count": 77,
   "metadata": {
    "collapsed": false
   },
   "outputs": [],
   "source": [
    "# Create an undirected graph of network 'G'\n",
    "G_undirected = G.to_undirected()\n",
    "\n",
    "# Go through the list 'human_navigation_paths' and find shortest paths and add to list\n",
    "shortest_path = []\n",
    "for i in human_navigation_paths:\n",
    "    # Ignore human paths that have length shorter than 3\n",
    "    if(i[2] > 2):\n",
    "        shortest_path.append(nx.shortest_path_length(G_undirected, source=i[0], target=i[1]))"
   ]
  },
  {
   "cell_type": "code",
   "execution_count": 112,
   "metadata": {
    "collapsed": false
   },
   "outputs": [
    {
     "name": "stdout",
     "output_type": "stream",
     "text": [
      "790\n",
      "29578\n",
      "19929\n",
      "212\n"
     ]
    }
   ],
   "source": [
    "import matplotlib.pyplot as plt\n",
    "import numpy as np\n",
    "%matplotlib inline\n",
    "\n",
    "print(shortest_path.count(1))\n",
    "print(shortest_path.count(2))\n",
    "print(shortest_path.count(3))\n",
    "print(shortest_path.count(4))"
   ]
  },
  {
   "cell_type": "code",
   "execution_count": null,
   "metadata": {
    "collapsed": true
   },
   "outputs": [],
   "source": []
  }
 ],
 "metadata": {
  "anaconda-cloud": {},
  "kernelspec": {
   "display_name": "Python [Root]",
   "language": "python",
   "name": "Python [Root]"
  },
  "language_info": {
   "codemirror_mode": {
    "name": "ipython",
    "version": 2
   },
   "file_extension": ".py",
   "mimetype": "text/x-python",
   "name": "python",
   "nbconvert_exporter": "python",
   "pygments_lexer": "ipython2",
   "version": "2.7.12"
  }
 },
 "nbformat": 4,
 "nbformat_minor": 0
}
