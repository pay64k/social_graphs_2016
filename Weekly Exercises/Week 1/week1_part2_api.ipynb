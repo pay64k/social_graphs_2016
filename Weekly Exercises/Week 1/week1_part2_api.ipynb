{
 "cells": [
  {
   "cell_type": "markdown",
   "metadata": {},
   "source": [
    "# Week 1 ex, part 2: API"
   ]
  },
  {
   "cell_type": "markdown",
   "metadata": {},
   "source": [
    "According to Chapter 1, what are some things that we humans might want technology to help us get?\n",
    "\n",
    "What's the maximum number of characters in a Tweet?\n",
    "\n",
    "How many monthly active users does the book say that we can find on Twitter?\n",
    "\n",
    "What is the key difference between connections on Twitter and connections on Facebook?\n",
    "\n",
    "Take a look at the tweet meta-data on page 22-25. Which fields do you think are most interesting?\n"
   ]
  },
  {
   "cell_type": "code",
   "execution_count": 1,
   "metadata": {
    "collapsed": false
   },
   "outputs": [],
   "source": [
    "import twitter"
   ]
  },
  {
   "cell_type": "markdown",
   "metadata": {},
   "source": [
    "## Example 1.1"
   ]
  },
  {
   "cell_type": "code",
   "execution_count": 2,
   "metadata": {
    "collapsed": false
   },
   "outputs": [
    {
     "name": "stdout",
     "output_type": "stream",
     "text": [
      "<twitter.api.Twitter object at 0x0000000003CCD2B0>\n"
     ]
    }
   ],
   "source": [
    "CONSUMER_KEY = 'LjTdrUDxDx0fvfn86V22jIv7V'\n",
    "CONSUMER_SECRET = '\try83IMHNUvcNfgSlV5U6mOk0ZSUCdMxnyMwl1DigKgBdX3fxpR'\n",
    "OAUTH_TOKEN = '770964598656761857-kCSU5iazwpwhqQ546ZIka7j1R6aUBUw'\n",
    "OAUTH_TOKEN_SECRET = '\tZzCGn5kpwnH9xKfzTX0T9hrp7hfedK3ILflnj6ZhaGRyw'\n",
    "\n",
    "auth = twitter.oauth.OAuth(OAUTH_TOKEN, OAUTH_TOKEN_SECRET,\n",
    "                           CONSUMER_KEY, CONSUMER_SECRET)\n",
    "\n",
    "twitter_api = twitter.Twitter(domain='api.twitter.com', \n",
    "                              api_version='1.1',\n",
    "                              auth=auth\n",
    "                             )\n",
    "\n",
    "print twitter_api"
   ]
  },
  {
   "cell_type": "markdown",
   "metadata": {},
   "source": [
    "## Example 1.2"
   ]
  },
  {
   "cell_type": "code",
   "execution_count": null,
   "metadata": {
    "collapsed": true
   },
   "outputs": [],
   "source": []
  },
  {
   "cell_type": "markdown",
   "metadata": {},
   "source": [
    "## Example 1.3"
   ]
  },
  {
   "cell_type": "code",
   "execution_count": null,
   "metadata": {
    "collapsed": true
   },
   "outputs": [],
   "source": []
  },
  {
   "cell_type": "markdown",
   "metadata": {},
   "source": [
    "## Example 1.4"
   ]
  },
  {
   "cell_type": "code",
   "execution_count": null,
   "metadata": {
    "collapsed": true
   },
   "outputs": [],
   "source": []
  },
  {
   "cell_type": "markdown",
   "metadata": {},
   "source": [
    "## Example 1.5"
   ]
  },
  {
   "cell_type": "code",
   "execution_count": null,
   "metadata": {
    "collapsed": true
   },
   "outputs": [],
   "source": []
  }
 ],
 "metadata": {
  "kernelspec": {
   "display_name": "Python [Root]",
   "language": "python",
   "name": "Python [Root]"
  },
  "language_info": {
   "codemirror_mode": {
    "name": "ipython",
    "version": 2
   },
   "file_extension": ".py",
   "mimetype": "text/x-python",
   "name": "python",
   "nbconvert_exporter": "python",
   "pygments_lexer": "ipython2",
   "version": "2.7.12"
  }
 },
 "nbformat": 4,
 "nbformat_minor": 0
}
