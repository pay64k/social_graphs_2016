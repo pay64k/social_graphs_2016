{
 "cells": [
  {
   "cell_type": "markdown",
   "metadata": {},
   "source": [
    "# Part 0: Regular expressions\n",
    "## Exercises: Regular expressions round 1.\n",
    "\n",
    "#### Now, explain in your own words: what are regular expressions?\n",
    "Regular expressions are sequence of characters that are used to identify patterns in a text.\n",
    "#### Provide an example of a regex to match 4 digits numbers (by this, I mean precisely 4 digits, you should not match any part of numbers with e.g. 5 digits). In your notebook, use findall to show that your regex works on this [test-text](https://raw.githubusercontent.com/suneman/socialgraphs2016/master/files/test.txt). Hint: a great place to test out regular expressions is: https://regex101.com."
   ]
  },
  {
   "cell_type": "code",
   "execution_count": 8,
   "metadata": {
    "collapsed": false,
    "scrolled": true
   },
   "outputs": [
    {
     "name": "stdout",
     "output_type": "stream",
     "text": [
      "['1234', '9999', '2345']\n"
     ]
    }
   ],
   "source": [
    "import re\n",
    "\n",
    "f = open('test.txt', 'r')\n",
    "strings = re.findall(r'\\d\\d\\d\\d', f.read())\n",
    "print(strings)"
   ]
  },
  {
   "cell_type": "markdown",
   "metadata": {},
   "source": [
    "#### Provide an example of a regex to match words starting with \"super\". Show that it works on the [test-text](https://raw.githubusercontent.com/suneman/socialgraphs2016/master/files/test.txt)."
   ]
  },
  {
   "cell_type": "code",
   "execution_count": 12,
   "metadata": {
    "collapsed": false
   },
   "outputs": [
    {
     "name": "stdout",
     "output_type": "stream",
     "text": [
      "['superpolaroid', 'supertaxidermy', 'superbeer']\n"
     ]
    }
   ],
   "source": [
    "f = open('test.txt', 'r')\n",
    "strings = re.findall(r'super\\w+', f.read())\n",
    "print(strings)"
   ]
  },
  {
   "cell_type": "markdown",
   "metadata": {},
   "source": [
    "#### Exercise: Regular expressions round 2. Show that you can extract the wiki-links from the [test-text](https://raw.githubusercontent.com/suneman/socialgraphs2016/master/files/test.txt). Perhaps you can find inspiration on stack overflow or similar."
   ]
  },
  {
   "cell_type": "code",
   "execution_count": 26,
   "metadata": {
    "collapsed": false
   },
   "outputs": [
    {
     "name": "stdout",
     "output_type": "stream",
     "text": [
      "['drinking vinegar', 'gentrify', 'hashtag', 'Bicycle|Bicycle(two-wheeled type)', 'Pitchfork|Pitchfork Magazine']\n"
     ]
    }
   ],
   "source": [
    "f = open('test.txt', 'r')\n",
    "strings = re.findall(r'\\[\\[(.*?)\\]', f.read())\n",
    "print(strings)"
   ]
  },
  {
   "cell_type": "markdown",
   "metadata": {},
   "source": [
    "# Part A: Download Philosopher-pages from Wikipedia\n",
    "\n",
    "#### Exercise: Find the names of all the philosopher-pages, download and analyze them.\n",
    "\n",
    "[This wiki-page](https://en.wikipedia.org/wiki/Lists_of_philosophers) contains list of philosophers from various branches of philosophy:\n",
    "1. [aestheticians](https://en.wikipedia.org/wiki/List_of_aestheticians)\n",
    "2. [epistemologists](https://en.wikipedia.org/wiki/List_of_epistemologists)\n",
    "3. [ethicists](https://en.wikipedia.org/wiki/List_of_ethicists)\n",
    "4. [logicians](https://en.wikipedia.org/wiki/List_of_logicians)\n",
    "5. [metaphysicians](https://en.wikipedia.org/wiki/List_of_metaphysicians)\n",
    "6. [social and political philosophers](https://en.wikipedia.org/wiki/List_of_social_and_political_philosophers)\n",
    "\n",
    "We're going to have to go and extract the page names for all six groups of philosophers. Unfortunately wikipedia does not have a uniform way of setting such pages up, so you'll have to do each page differently. And I'd like you to maintain **seven** (7) separate lists of philosophers. One for each branch of philosophy - and one combined list of all philosophers.\n",
    "\n",
    "Let's put together some descriptive statistics:\n",
    "* How many philosophers in each list? How many total?\n",
    "* Which is the largest branch of philosophy?\n",
    "* Are some philosophers in more than one list?\n",
    "* Which philosopher is in most lists & and how many?\n",
    "* Let's investigate philosophers active in multiple sub-fields. Create a list of every philosopher that occurs in more than one list. Use Python to sort the list according to how many lists each philosopher belongs to (so the guy you found in the previous question is first in that list)."
   ]
  },
  {
   "cell_type": "code",
   "execution_count": null,
   "metadata": {
    "collapsed": true
   },
   "outputs": [],
   "source": []
  }
 ],
 "metadata": {
  "anaconda-cloud": {},
  "kernelspec": {
   "display_name": "Python [Root]",
   "language": "python",
   "name": "Python [Root]"
  },
  "language_info": {
   "codemirror_mode": {
    "name": "ipython",
    "version": 2
   },
   "file_extension": ".py",
   "mimetype": "text/x-python",
   "name": "python",
   "nbconvert_exporter": "python",
   "pygments_lexer": "ipython2",
   "version": "2.7.12"
  }
 },
 "nbformat": 4,
 "nbformat_minor": 0
}
