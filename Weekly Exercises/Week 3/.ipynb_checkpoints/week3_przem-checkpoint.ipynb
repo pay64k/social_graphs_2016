{
 "cells": [
  {
   "cell_type": "markdown",
   "metadata": {},
   "source": [
    "## What's the problem with random networks as a model for real-world networks according to the argument on p. 11-12?\n",
    "\n",
    "* In a large random network the degree of most nodes is in the narrow vicinity of <k>. The Poisson form significantly underestimates the number of high degree nodes. For example, according to the random network model the maximum degree of the Internet is expected to be around 20. In contrast the data indicates the existence of routers with degrees close to $10^3$.\n",
    "\n",
    "* The spread in the degrees of real networks is much wider than expected in a random network. This difference is captured by the dispersion σk (Figure 3.4). If the Internet were to be random, we would expect σk =2.52. The measurements indicate σinternet = 14.14, significantly higher than the random prediction. These differences are not limited to the networks shown in Figure 3.6, but all networks listed in Table 2.1 sharethis property.\n",
    "    \n",
    "    Random network model does not capture the degree distribution of real networks. In a random network most nodes have comparable degrees, forbidding hubs. In contrast, in real networks we observe a significant number of highly connected nodes and there are large differences in node degrees.\n",
    "    \n",
    "    \n"
   ]
  },
  {
   "cell_type": "markdown",
   "metadata": {},
   "source": [
    "## List the four regimes that characterize random networks as a function of ⟨k⟩⟨k⟩.\n",
    "\n",
    "* Subcritical Regime: 0 < $<k>$ < 1\n",
    "* Supercritical Regime: $<k>$ > 1\n",
    "* Connected Regime: $〈k〉$ >> lnN\n",
    "* Fully Connected Regime:  $〈k〉$ = N-1\n",
    "\n",
    "    \n",
    "    "
   ]
  },
  {
   "cell_type": "markdown",
   "metadata": {},
   "source": [
    "## According to the book, why is it a problem for random networks (in terms of being a model for real-world networks) that the degree-dependent clustering C(k)C(k) decreases as a function of kk in real-world networks?\n",
    "We find that the random network model does not capture\n",
    "the clustering of real networks. Instead real networks have a much higher clustering coefficient than expected for a random network of similar N and L. It fails to explain, however, why high-degree nodes have a smaller clustering coefficient than low-degree nodes. Page 26-27"
   ]
  },
  {
   "cell_type": "markdown",
   "metadata": {},
   "source": [
    "# Exercises\n"
   ]
  },
  {
   "cell_type": "code",
   "execution_count": 2,
   "metadata": {
    "collapsed": true
   },
   "outputs": [],
   "source": [
    "import networkx as nx\n",
    "import numpy as np\n",
    "import matplotlib.pyplot as plt\n",
    "import random as rn\n",
    "%matplotlib inline"
   ]
  },
  {
   "cell_type": "code",
   "execution_count": 6,
   "metadata": {
    "collapsed": false
   },
   "outputs": [
    {
     "name": "stdout",
     "output_type": "stream",
     "text": [
      "62.875751503\n",
      "7.59659318637\n",
      "4.74176352705\n"
     ]
    }
   ],
   "source": [
    "# First, let's use networkx to play around with WS graphs. \n",
    "#Use nx.watts_strogatz_graph to generate 3 graphs with 500 \n",
    "#nodes each, average degree = 4, and rewiring probablity p=0,0.1,\n",
    "#and1p=0,0.1,and1. Calculate the average shortest path length \n",
    "#⟨d⟩⟨d⟩ for each one. Describe what happens to the network when \n",
    "#p=1p=1.\n",
    "\n",
    "G1=nx.watts_strogatz_graph(500,4,0)\n",
    "G2=nx.watts_strogatz_graph(500,4,0.1)\n",
    "G3=nx.watts_strogatz_graph(500,4,1)\n",
    "\n",
    "ShortestPath1=nx.average_shortest_path_length(G1)\n",
    "ShortestPath2=nx.average_shortest_path_length(G2)\n",
    "ShortestPath3=nx.average_shortest_path_length(G3)\n",
    "\n",
    "print ShortestPath1\n",
    "print ShortestPath2\n",
    "print ShortestPath3\n",
    "\n",
    "\n",
    "\n"
   ]
  },
  {
   "cell_type": "markdown",
   "metadata": {},
   "source": [
    "It is the shortest path ~ 5 when the rewiring parameter p is 1 it means also that netwrok is more similar to one big cluster. "
   ]
  },
  {
   "cell_type": "code",
   "execution_count": 12,
   "metadata": {
    "collapsed": false
   },
   "outputs": [
    {
     "name": "stdout",
     "output_type": "stream",
     "text": [
      "Value of p=0.00 , value of shortest path is 62.87575150.\n",
      "Value of p=0.02 , value of shortest path is 15.06840080.\n",
      "Value of p=0.04 , value of shortest path is 11.79755511.\n",
      "Value of p=0.06 , value of shortest path is 9.22250902.\n",
      "Value of p=0.08 , value of shortest path is 8.38446493.\n",
      "Value of p=0.10 , value of shortest path is 8.02420040.\n",
      "Value of p=0.12 , value of shortest path is 7.06310220.\n",
      "Value of p=0.14 , value of shortest path is 6.57036473.\n",
      "Value of p=0.16 , value of shortest path is 6.49465331.\n",
      "Value of p=0.18 , value of shortest path is 6.17074148.\n",
      "Value of p=0.20 , value of shortest path is 5.97497395.\n",
      "Value of p=0.22 , value of shortest path is 5.76751904.\n",
      "Value of p=0.24 , value of shortest path is 5.85346693.\n",
      "Value of p=0.26 , value of shortest path is 5.78488176.\n",
      "Value of p=0.28 , value of shortest path is 5.68460120.\n",
      "Value of p=0.30 , value of shortest path is 5.44465731.\n",
      "Value of p=0.32 , value of shortest path is 5.48358317.\n",
      "Value of p=0.34 , value of shortest path is 5.37864529.\n",
      "Value of p=0.36 , value of shortest path is 5.38571543.\n",
      "Value of p=0.38 , value of shortest path is 5.26818437.\n",
      "Value of p=0.40 , value of shortest path is 5.20864930.\n",
      "Value of p=0.42 , value of shortest path is 5.11211222.\n",
      "Value of p=0.44 , value of shortest path is 5.16424048.\n",
      "Value of p=0.46 , value of shortest path is 5.06235671.\n",
      "Value of p=0.48 , value of shortest path is 5.02174749.\n"
     ]
    },
    {
     "data": {
      "text/plain": [
       "[<matplotlib.lines.Line2D at 0x89e5400>,\n",
       " <matplotlib.lines.Line2D at 0x9058cc0>]"
      ]
     },
     "execution_count": 12,
     "metadata": {},
     "output_type": "execute_result"
    },
    {
     "data": {
      "image/png": "[encoded data removed]",
      "text/plain": [
       "<matplotlib.figure.Figure at 0x8dc0ba8>"
      ]
     },
     "metadata": {},
     "output_type": "display_data"
    }
   ],
   "source": [
    "#Play around with pp. What's the value of pp for which the \n",
    "#average shortest path length gets close to the fully randomized \n",
    "#network (i.e. when p=1p=1).\n",
    "\n",
    "nrange=np.arange(0,0.5,0.02)\n",
    "Shortest=[]\n",
    "for i in nrange:\n",
    "    Graph=nx.watts_strogatz_graph(500,4,i)\n",
    "    GraphPath=nx.average_shortest_path_length(Graph)\n",
    "    Shortest.append([i,GraphPath])\n",
    "    print \"Value of p=%1.2f , value of shortest path is %5.8f.\" %(i, GraphPath)\n",
    "\n",
    "plt.plot(nrange, Shortest)\n",
    "\n",
    "#When p is more than 0.1 the shortest path is getting significantly smaller but when \n",
    "#the value of p=0.3 the shortest path is getting very close to \n",
    "#fully randomized network     "
   ]
  },
  {
   "cell_type": "markdown",
   "metadata": {},
   "source": [
    "When p is more than 0.1 the shortest path is getting significantly smaller but when \n",
    "the value of p=0.3 the shortest path is getting very close to \n",
    "fully randomized network "
   ]
  },
  {
   "cell_type": "code",
   "execution_count": 19,
   "metadata": {
    "collapsed": true
   },
   "outputs": [],
   "source": [
    "#Let's investigate this behavior in detail. Generate 50 \n",
    "#networks with N=500N=500, ⟨k⟩=4⟨k⟩=4, for each of \n",
    "#p={0,0.01,0.03,0.05,0.1,0.2}p={0,0.01,0.03,0.05,0.1,0.2}. \n",
    "#Calculate the average of ⟨d⟩⟨d⟩ as well as the standard \n",
    "#deviation over the 50 networks, to create a plot that shows \n",
    "#how the path length decreases very quickly with only a little \n",
    "#fraction of re-wiring. Use the standard deviation to add \n",
    "#errorbars to the plot. My version of the plot is below (since \n",
    "#a picture's worth 1000 words).\n",
    "\n",
    "p=[0,0.01,0.03,0.05,0.1,0.2]\n",
    "k=4\n",
    "N=500\n",
    "STD=[]\n",
    "average=[]\n",
    "for i in p:\n",
    "    STDin=[]\n",
    "    for it in range(1,50):\n",
    "        G=nx.watts_strogatz_graph(N,k,i)\n",
    "        SD=nx.average_shortest_path_length(G)\n",
    "        STDin.append(SD)\n",
    "    average.append(np.mean(STDin))\n",
    "    STD.append(np.std(STDin))\n",
    "plotRange = np.array(p)\n",
    "plotMean = np.array(average)\n",
    "PlotSTD = np.array(STD)\n"
   ]
  },
  {
   "cell_type": "code",
   "execution_count": 29,
   "metadata": {
    "collapsed": false
   },
   "outputs": [
    {
     "data": {
      "text/plain": [
       "<matplotlib.text.Text at 0xab04cc0>"
      ]
     },
     "execution_count": 29,
     "metadata": {},
     "output_type": "execute_result"
    },
    {
     "data": {
      "image/png": "[encoded data removed]",
      "text/plain": [
       "<matplotlib.figure.Figure at 0xabc7320>"
      ]
     },
     "metadata": {},
     "output_type": "display_data"
    }
   ],
   "source": [
    "plt.figure()\n",
    "plt.errorbar(plotRange,plotMean,PlotSTD, marker=\"o\")\n",
    "plt.ylabel('Average <d>')\n",
    "plt.xlabel('p')"
   ]
  },
  {
   "cell_type": "markdown",
   "metadata": {},
   "source": [
    "# Part 2: Scale-free networks\n"
   ]
  },
  {
   "cell_type": "markdown",
   "metadata": {},
   "source": [
    "# What are the three slope dependent regimes of complex networks with power-law degree distributions? Briefly describe each one. (You will have to skim chp 5.7 to answer this one).\n"
   ]
  },
  {
   "cell_type": "markdown",
   "metadata": {},
   "source": [
    "# What are the three regimes we find in non-linear preferential attachement? (chapter 5) Briefly describe each one."
   ]
  },
  {
   "cell_type": "code",
   "execution_count": 35,
   "metadata": {
    "collapsed": false
   },
   "outputs": [
    {
     "data": {
      "image/png": "[encoded data removed]",
      "text/plain": [
       "<matplotlib.figure.Figure at 0xb3ad710>"
      ]
     },
     "metadata": {},
     "output_type": "display_data"
    }
   ],
   "source": [
    "#First create a graph consisting of a single link. (You can call the nodes anything, but I would simply use integers as names).\n",
    "import random \n",
    "import math\n",
    "\n",
    "G = nx.Graph()\n",
    "G.add_edge(1,2)\n",
    "i = 3\n",
    "\n",
    "#Now add another node, connecting one of the existing nodes in proportion to their degree.\n",
    "#Keep going until you have a 100 node network.\n",
    "z=[]\n",
    "for l in range(100 - len(G)):\n",
    "    z = [ x for (x,y) in G.edges() ]\n",
    "    z.extend([ y for (x,y) in G.edges() ])\n",
    "    G.add_edge(i,random.choice(z))\n",
    "    i += 1\n",
    "    \n",
    "#Plot the network\n",
    "nx.draw(G, node_size = 60, node_color = \"Blue\" )\n",
    "plt.show()\n"
   ]
  },
  {
   "cell_type": "code",
   "execution_count": 36,
   "metadata": {
    "collapsed": true
   },
   "outputs": [],
   "source": [
    "#Add more nodes until you have a 5000 node network.\n",
    "for l in range(5000 - len(G)):\n",
    "    z = [ x for (x,y) in G.edges() ]\n",
    "    z.extend([ y for (x,y) in G.edges() ])\n",
    "    G.add_edge(i,random.choice(z))\n",
    "    i += 1"
   ]
  },
  {
   "cell_type": "code",
   "execution_count": 37,
   "metadata": {
    "collapsed": false
   },
   "outputs": [
    {
     "name": "stdout",
     "output_type": "stream",
     "text": [
      "Max 150\n",
      "Min 1\n"
     ]
    }
   ],
   "source": [
    "#What's the maximum and minimum degree?\n",
    "maxd = max(G.degree().values())\n",
    "mind = min(G.degree().values())\n",
    "print \"Max %d\" % maxd\n",
    "print \"Min %d\" % mind"
   ]
  },
  {
   "cell_type": "code",
   "execution_count": 90,
   "metadata": {
    "collapsed": false
   },
   "outputs": [
    {
     "data": {
      "text/plain": [
       "[<matplotlib.lines.Line2D at 0x1260f278>]"
      ]
     },
     "execution_count": 90,
     "metadata": {},
     "output_type": "execute_result"
    },
    {
     "data": {
      "image/png": "[encoded data removed]",
      "text/plain": [
       "<matplotlib.figure.Figure at 0x10b9d8d0>"
      ]
     },
     "metadata": {},
     "output_type": "display_data"
    }
   ],
   "source": [
    "#Plot the distribution. Plot it with both linear and log-log axes.\n",
    "h, b = np.histogram(G.degree().values(), bins=200)\n",
    "\n",
    "#Linear Scale\n",
    "#plt.subplot(221)\n",
    "plt.plot(b[0:-1], h, 'bo')\n"
   ]
  },
  {
   "cell_type": "code",
   "execution_count": 91,
   "metadata": {
    "collapsed": false
   },
   "outputs": [
    {
     "data": {
      "text/plain": [
       "[<matplotlib.lines.Line2D at 0x12799d68>]"
      ]
     },
     "execution_count": 91,
     "metadata": {},
     "output_type": "execute_result"
    },
    {
     "data": {
      "image/png": "[encoded data removed]",
      "text/plain": [
       "<matplotlib.figure.Figure at 0x11042940>"
      ]
     },
     "metadata": {},
     "output_type": "display_data"
    }
   ],
   "source": [
    "#Logaritmic Scale\n",
    "#plt.subplot(222) \n",
    "plt.loglog(b[0:-1],h,'ro')"
   ]
  },
  {
   "cell_type": "markdown",
   "metadata": {},
   "source": [
    "# Friendship paradox. "
   ]
  },
  {
   "cell_type": "code",
   "execution_count": 110,
   "metadata": {
    "collapsed": false
   },
   "outputs": [
    {
     "name": "stdout",
     "output_type": "stream",
     "text": [
      "First node = 4924\n",
      "First node degree = 1\n"
     ]
    }
   ],
   "source": [
    "#Pick a node ii at random (e.g. use random.choice). Find its degree.\n",
    "first_node =  random.choice(G.nodes()) \n",
    "first_node_degree = G.degree(first_node)\n",
    "print \"First node =\", first_node\n",
    "print \"First node degree =\", first_node_degree\n",
    "\n"
   ]
  },
  {
   "cell_type": "code",
   "execution_count": 111,
   "metadata": {
    "collapsed": false
   },
   "outputs": [
    {
     "name": "stdout",
     "output_type": "stream",
     "text": [
      "List of neighbors = [4429]\n",
      "List of neighbors degree = [3]\n"
     ]
    }
   ],
   "source": [
    "#Find ii's neighbors. And calculate their average degree.\n",
    "nghb = G.neighbors(first_node)\n",
    "nghb_degree =[]\n",
    "for i in nghb:\n",
    "    node_degree = G.degree(i)\n",
    "    nghb_degree.append(node_degree)\n",
    "print \"List of neighbors =\", nghb\n",
    "print \"List of neighbors degree =\", nghb_degree\n"
   ]
  },
  {
   "cell_type": "code",
   "execution_count": 114,
   "metadata": {
    "collapsed": false
   },
   "outputs": [
    {
     "name": "stdout",
     "output_type": "stream",
     "text": [
      "Friendship paradox is fullfilled\n"
     ]
    }
   ],
   "source": [
    "#Compare the two numbers to check if it's true that ii's friends (on average) have more friends than ii.\n",
    "avg_nghb_degree = sum(nghb_degree)/len(nghb_degree)\n",
    "if avg_nghb_degree > first_node_degree:\n",
    "    x = \"fullfilled\"\n",
    "else:\n",
    "    x = \"not fullfiled\"\n",
    "print \"Friendship paradox is\", x"
   ]
  },
  {
   "cell_type": "code",
   "execution_count": 131,
   "metadata": {
    "collapsed": false
   },
   "outputs": [
    {
     "name": "stdout",
     "output_type": "stream",
     "text": [
      "For 1000 tries friendship paradox was fullfilled 844 times\n"
     ]
    }
   ],
   "source": [
    "#Do this 1000 times. How many out of those 1000 times is the friendship paradox true?\n",
    "t=0\n",
    "f=0\n",
    "for i in range(1000):\n",
    "    first_node =  random.choice(G.nodes()) \n",
    "    first_node_degree = G.degree(first_node)\n",
    "    i+=1\n",
    "    nghb = G.neighbors(first_node)\n",
    "    nghb_degree =[]\n",
    "    for ii in nghb:\n",
    "        node_degree = G.degree(ii)\n",
    "        nghb_degree.append(node_degree)\n",
    "        avg_nghb_degree = sum(nghb_degree)/len(nghb_degree)\n",
    "    if avg_nghb_degree > first_node_degree:\n",
    "        t+=1\n",
    "    else:\n",
    "        f+=1\n",
    "print \"For 1000 tries friendship paradox was fullfilled %d times\" %t"
   ]
  },
  {
   "cell_type": "code",
   "execution_count": 122,
   "metadata": {
    "collapsed": true
   },
   "outputs": [],
   "source": [
    "#Compare to the ER network of same size and same p. What are the differences? Explain in your own words. Hint: To get started, take a look at the degree distribution, and study the number of connected components."
   ]
  },
  {
   "cell_type": "code",
   "execution_count": null,
   "metadata": {
    "collapsed": true
   },
   "outputs": [],
   "source": []
  },
  {
   "cell_type": "code",
   "execution_count": null,
   "metadata": {
    "collapsed": true
   },
   "outputs": [],
   "source": []
  }
 ],
 "metadata": {
  "kernelspec": {
   "display_name": "Python [Root]",
   "language": "python",
   "name": "Python [Root]"
  },
  "language_info": {
   "codemirror_mode": {
    "name": "ipython",
    "version": 2
   },
   "file_extension": ".py",
   "mimetype": "text/x-python",
   "name": "python",
   "nbconvert_exporter": "python",
   "pygments_lexer": "ipython2",
   "version": "2.7.12"
  }
 },
 "nbformat": 4,
 "nbformat_minor": 0
}
