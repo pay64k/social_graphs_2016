{
 "cells": [
  {
   "cell_type": "markdown",
   "metadata": {},
   "source": [
    "# Part1\n",
    "## Exercises\n",
    "Chapter 1 (Don't forget that you should be answering these in an IPython notebook.)\n",
    "\n",
    "* **List three different real networks and state the nodes and links for each of them.**\n",
    "* Communication networks, describing which communication devices interact with each other, through wired internet connections    or  wireless links, are at the heart of the modern communication system. Nodes - communication devices(phones, routers etc) Links - wires, signals transmitted between them.\n",
    "* Power grid, a network of generators and transmission lines, supplies with energy virtually all modern technology. Nodes - users (companies, houses, flats, power suppliers) links - wires\n",
    "* Metablic networks. Nodes - tiny molecules Links - tiny molecules and the links are chemical reactions governed by the laws of chemistry and quantum mechanics\n",
    " the nodes of the WWW are web documents and the links are URLs guaranteed by computer algorithms; the nodes of the social network are individuals and the links represent family, professional, friendship, and acquaintance ties.\n",
    "* **Tell us of the network you are personally most interested in. Address the following questions:**\n",
    "LinkedIn networks showing the dependencies between people and the companies  \n",
    "* **What are its nodes and links?**\n",
    "Nodes: People,companies, LinkedIn users Links: friendships connections, same school, same work place, same localization\n",
    "* **How large is it?**\n",
    "128mln nodes (users) 30/04/2016\n",
    "* **Can be mapped out?**\n",
    "Yes it can be mapped out using LinkedIn API\n",
    "* **Why do you care about it?**\n",
    "It can help me understanding my personal professional network and get dream job\n",
    "* **In your view what would be the area where network science could have the biggest impact in the next decade? Explain your answer - and base it on the text in the book.\n",
    "Chapter 2\n",
    "\n",
    "Section 2.5 states that real networks are sparse. Can you think of a real network where each node has many connections? Is that network still sparse? If yes, can you explain why?\n",
    "There are more questions on Chapter 2 below.\n"
   ]
  },
  {
   "cell_type": "markdown",
   "metadata": {},
   "source": [
    "# Part 2 \n",
    "Exercises:\n",
    "\n",
    "* Go to the NetworkX project's tutorial page. The goal of this exercise is to create your own notebook that contains the entire tutorial. You're free to add your own (e.g. shorter) comments in place of the ones in the official tutorial - and change the code to make it your own where ever it makes sense. (There is an error in the tutorial about accessing edges. Can you find it, and solve the problem?)\n",
    "* Write the solution exercise 2.1 (the 'Königsberg Problem') from NS in your notebook.\n",
    "* Solve exercise 2.3 ('Graph representation') from NS using NetworkX in your notebook. (You don't have to solve the last sub-question about cycles of length 4 ... but I'll be impressed if you do it).\n",
    "* Solve exercise 2.5 ('Bipartite Networks') from NS using NetworkX in your notebook."
   ]
  },
  {
   "cell_type": "markdown",
   "metadata": {
    "collapsed": true
   },
   "source": [
    "# NetworkX Tutorial"
   ]
  },
  {
   "cell_type": "code",
   "execution_count": 5,
   "metadata": {
    "collapsed": false
   },
   "outputs": [],
   "source": [
    "import networkx as nx"
   ]
  },
  {
   "cell_type": "code",
   "execution_count": 6,
   "metadata": {
    "collapsed": true
   },
   "outputs": [],
   "source": [
    "G=nx.Graph()\n",
    "G.add_node(1)\n",
    "G.add_nodes_from([2,3])\n",
    "H=nx.path_graph(10)\n",
    "G.add_nodes_from(H) #G graph containing nodes of H and G \n",
    "G.add_node(H) #Graph G contains graph H as a node "
   ]
  },
  {
   "cell_type": "code",
   "execution_count": 7,
   "metadata": {
    "collapsed": false
   },
   "outputs": [
    {
     "data": {
      "text/plain": [
       "2"
      ]
     },
     "execution_count": 7,
     "metadata": {},
     "output_type": "execute_result"
    }
   ],
   "source": [
    "G.add_edge(1,2)\n",
    "e=(2,3)\n",
    "G.add_edge(*e) #unpack edge tuple\n",
    "G.add_edges_from([(1,2),(1,3)])\n",
    "G.add_edges_from(H.edges())\n",
    "#G.remove_node(H)\n",
    "G.clear()        #Clearing graph from nodes and edges \n",
    "G.add_edges_from([(1,2),(1,3)])\n",
    "G.add_node(1)\n",
    "G.add_edge(1,2)\n",
    "G.add_node(\"spam\")       # adds node \"spam\"\n",
    "G.add_nodes_from(\"spam\") # adds 4 nodes: 's', 'p', 'a', 'm'\n",
    "G.number_of_nodes()\n",
    "G.number_of_edges()"
   ]
  },
  {
   "cell_type": "code",
   "execution_count": 8,
   "metadata": {
    "collapsed": false
   },
   "outputs": [
    {
     "data": {
      "text/plain": [
       "['a', 1, 2, 3, 'spam', 'm', 'p', 's']"
      ]
     },
     "execution_count": 8,
     "metadata": {},
     "output_type": "execute_result"
    }
   ],
   "source": [
    "G.nodes()"
   ]
  },
  {
   "cell_type": "code",
   "execution_count": 9,
   "metadata": {
    "collapsed": false
   },
   "outputs": [
    {
     "data": {
      "text/plain": [
       "[(1, 2), (1, 3)]"
      ]
     },
     "execution_count": 9,
     "metadata": {},
     "output_type": "execute_result"
    }
   ],
   "source": [
    "G.edges()"
   ]
  },
  {
   "cell_type": "code",
   "execution_count": 10,
   "metadata": {
    "collapsed": false
   },
   "outputs": [
    {
     "data": {
      "text/plain": [
       "[2, 3]"
      ]
     },
     "execution_count": 10,
     "metadata": {},
     "output_type": "execute_result"
    }
   ],
   "source": [
    "G.neighbors(1)"
   ]
  },
  {
   "cell_type": "code",
   "execution_count": 11,
   "metadata": {
    "collapsed": false
   },
   "outputs": [
    {
     "data": {
      "text/plain": [
       "[1, 2, 3, 'spam']"
      ]
     },
     "execution_count": 11,
     "metadata": {},
     "output_type": "execute_result"
    }
   ],
   "source": [
    "G.remove_nodes_from(\"spam\")\n",
    "G.nodes()"
   ]
  },
  {
   "cell_type": "code",
   "execution_count": 12,
   "metadata": {
    "collapsed": false
   },
   "outputs": [],
   "source": [
    "G.remove_edge(1,3) #It was mistake should be (1,3) instead (1,2)"
   ]
  },
  {
   "cell_type": "code",
   "execution_count": 13,
   "metadata": {
    "collapsed": false
   },
   "outputs": [
    {
     "data": {
      "text/plain": [
       "[(1, 2), (2, 1)]"
      ]
     },
     "execution_count": 13,
     "metadata": {},
     "output_type": "execute_result"
    }
   ],
   "source": [
    "H=nx.DiGraph(G) # create a DiGraph using the connections from G\n",
    "H.edges()"
   ]
  },
  {
   "cell_type": "code",
   "execution_count": 14,
   "metadata": {
    "collapsed": true
   },
   "outputs": [],
   "source": [
    "edgelist=[(0,1),(1,2),(2,3)]\n",
    "H=nx.Graph(edgelist)"
   ]
  },
  {
   "cell_type": "code",
   "execution_count": 15,
   "metadata": {
    "collapsed": false
   },
   "outputs": [
    {
     "data": {
      "text/plain": [
       "{2: {}}"
      ]
     },
     "execution_count": 15,
     "metadata": {},
     "output_type": "execute_result"
    }
   ],
   "source": [
    "G[1]"
   ]
  },
  {
   "cell_type": "code",
   "execution_count": 16,
   "metadata": {
    "collapsed": false
   },
   "outputs": [
    {
     "data": {
      "text/plain": [
       "{}"
      ]
     },
     "execution_count": 16,
     "metadata": {},
     "output_type": "execute_result"
    }
   ],
   "source": [
    "G[1][2]\n"
   ]
  },
  {
   "cell_type": "code",
   "execution_count": 17,
   "metadata": {
    "collapsed": true
   },
   "outputs": [],
   "source": [
    "G.add_edge(1,3)\n",
    "G[1][3]['color']='blue'"
   ]
  },
  {
   "cell_type": "code",
   "execution_count": 18,
   "metadata": {
    "collapsed": false
   },
   "outputs": [
    {
     "name": "stdout",
     "output_type": "stream",
     "text": [
      "(1, 2, 0.125)\n",
      "(2, 1, 0.125)\n",
      "(3, 4, 0.375)\n",
      "(4, 3, 0.375)\n"
     ]
    }
   ],
   "source": [
    "FG=nx.Graph()\n",
    "FG.add_weighted_edges_from([(1,2,0.125),(1,3,0.75),(2,4,1.2),(3,4,0.375)])\n",
    "for n,nbrs in FG.adjacency_iter():\n",
    "    for nbr,eattr in nbrs.items():\n",
    "        data=eattr['weight']\n",
    "        if data<0.5: print('(%d, %d, %.3f)' % (n,nbr,data))"
   ]
  },
  {
   "cell_type": "code",
   "execution_count": 19,
   "metadata": {
    "collapsed": false
   },
   "outputs": [
    {
     "name": "stdout",
     "output_type": "stream",
     "text": [
      "(4, 3, 0.125)\n",
      "(4, 3, 0.375)\n"
     ]
    }
   ],
   "source": [
    "for (u,v,d) in FG.edges(data='weight'):\n",
    "     if d<0.5: print('(%d, %d, %.3f)'%(n,nbr,d))"
   ]
  },
  {
   "cell_type": "code",
   "execution_count": 20,
   "metadata": {
    "collapsed": false
   },
   "outputs": [
    {
     "data": {
      "text/plain": [
       "{'day': 'Friday'}"
      ]
     },
     "execution_count": 20,
     "metadata": {},
     "output_type": "execute_result"
    }
   ],
   "source": [
    "G = nx.Graph(day=\"Friday\")\n",
    "G.graph\n",
    "{'day': 'Friday'}"
   ]
  },
  {
   "cell_type": "code",
   "execution_count": 21,
   "metadata": {
    "collapsed": false
   },
   "outputs": [
    {
     "data": {
      "text/plain": [
       "{'day': 'Monday'}"
      ]
     },
     "execution_count": 21,
     "metadata": {},
     "output_type": "execute_result"
    }
   ],
   "source": [
    "G.graph['day']='Monday'\n",
    "G.graph\n",
    "{'day': 'Monday'}"
   ]
  },
  {
   "cell_type": "code",
   "execution_count": 22,
   "metadata": {
    "collapsed": false
   },
   "outputs": [
    {
     "data": {
      "text/plain": [
       "{'time': '5pm'}"
      ]
     },
     "execution_count": 22,
     "metadata": {},
     "output_type": "execute_result"
    }
   ],
   "source": [
    "G.add_node(1, time='5pm')\n",
    "G.add_nodes_from([3], time='2pm')\n",
    "G.node[1]\n"
   ]
  },
  {
   "cell_type": "code",
   "execution_count": 23,
   "metadata": {
    "collapsed": false
   },
   "outputs": [
    {
     "data": {
      "text/plain": [
       "[(1, {'room': 714, 'time': '5pm'}), (3, {'time': '2pm'})]"
      ]
     },
     "execution_count": 23,
     "metadata": {},
     "output_type": "execute_result"
    }
   ],
   "source": [
    "G.node[1]['room'] = 714\n",
    "G.nodes(data=True)"
   ]
  },
  {
   "cell_type": "code",
   "execution_count": 24,
   "metadata": {
    "collapsed": true
   },
   "outputs": [],
   "source": [
    "G.add_edge(1, 2, weight=4.7 )\n",
    "G.add_edges_from([(3,4),(4,5)], color='red')\n",
    "G.add_edges_from([(1,2,{'color':'blue'}), (2,3,{'weight':8})])\n",
    "G[1][2]['weight'] = 4.7\n",
    "G.edge[1][2]['weight'] = 4"
   ]
  },
  {
   "cell_type": "code",
   "execution_count": 25,
   "metadata": {
    "collapsed": false
   },
   "outputs": [
    {
     "data": {
      "text/plain": [
       "0.5"
      ]
     },
     "execution_count": 25,
     "metadata": {},
     "output_type": "execute_result"
    }
   ],
   "source": [
    "DG=nx.DiGraph()\n",
    "DG.add_weighted_edges_from([(1,2,0.5), (3,1,0.75)])\n",
    "DG.out_degree(1,weight='weight')"
   ]
  },
  {
   "cell_type": "code",
   "execution_count": 26,
   "metadata": {
    "collapsed": false
   },
   "outputs": [
    {
     "data": {
      "text/plain": [
       "1.25"
      ]
     },
     "execution_count": 26,
     "metadata": {},
     "output_type": "execute_result"
    }
   ],
   "source": [
    "DG.degree(1,weight='weight')"
   ]
  },
  {
   "cell_type": "code",
   "execution_count": 27,
   "metadata": {
    "collapsed": false
   },
   "outputs": [
    {
     "data": {
      "text/plain": [
       "[2]"
      ]
     },
     "execution_count": 27,
     "metadata": {},
     "output_type": "execute_result"
    }
   ],
   "source": [
    "DG.successors(1)"
   ]
  },
  {
   "cell_type": "code",
   "execution_count": 28,
   "metadata": {
    "collapsed": false
   },
   "outputs": [
    {
     "data": {
      "text/plain": [
       "[2]"
      ]
     },
     "execution_count": 28,
     "metadata": {},
     "output_type": "execute_result"
    }
   ],
   "source": [
    "DG.neighbors(1)"
   ]
  },
  {
   "cell_type": "code",
   "execution_count": 29,
   "metadata": {
    "collapsed": true
   },
   "outputs": [],
   "source": [
    "H = nx.Graph(G)"
   ]
  },
  {
   "cell_type": "markdown",
   "metadata": {},
   "source": [
    "# TBC\n"
   ]
  },
  {
   "cell_type": "markdown",
   "metadata": {},
   "source": [
    "## 2.1 (the 'Königsberg Problem')\n",
    "* a) We have 4 nodes: 2 with 3 links and 2 with 2 links. Taking into account that to have a Euler path we have to have no more than 2 nodes with odd numbers we can draw a line without raising our pencil from the paper. \n",
    "* b) We have 5 nodes: 4 with 3 links and 1 with 4 links. We have 4 nodes with odd number of links so it is more than 2 so we cannot draw a line without raising our pencil from the paper.\n",
    "* c) We have 12 nodes: 6 with 2 links and 6 with 4 links. We have no nodes with odd number of links so we can draw a line without raising our pencil from the paper.\n",
    "* d) We have 6 nodes: 1 with one link, 3 with 2 links, 2 with 6 links. We have just one node with odd number of links so we can draw a line without raising our pencil from the paper."
   ]
  },
  {
   "cell_type": "markdown",
   "metadata": {
    "collapsed": true
   },
   "source": [
    "## 2.3 ('Graph representation') "
   ]
  },
  {
   "cell_type": "markdown",
   "metadata": {},
   "source": [
    "Undirected graph of 6 nodes and 7 links and "
   ]
  },
  {
   "cell_type": "code",
   "execution_count": 30,
   "metadata": {
    "collapsed": false
   },
   "outputs": [],
   "source": [
    "import networkx as nx\n",
    "import scipy as sp\n",
    "import matplotlib.pyplot as plt\n",
    "\n",
    "UG=nx.Graph()\n",
    "UG.add_nodes_from([1,2,3,4,5,6])\n",
    "UG.add_edges_from([(1,2),(2,3),(3,1),(3,2),(6,3),(6,1),(2,4),(4,1)])\n",
    "A1 = nx.adjacency_matrix(UG)\n",
    "L1 = UG.edges()\n",
    "Acc = nx.average_clustering(UG)\n",
    "UGb = nx.Graph()\n",
    "UGb.add_nodes_from([1,2,3,4,5,6]) \n",
    "UGb.add_edges_from([(1,2),(2,3),(3,1),(3,2),(5,3),(5,1),(2,4),(4,1)])\n",
    "A1b = nx.adjacency_matrix(UGb)\n",
    "L1b = UGb.edges()\n",
    "\n",
    "\n",
    "\n",
    "DG=nx.DiGraph()\n",
    "DG.add_nodes_from(UG)\n",
    "DG.add_edges_from([(1,2),(2,3),(3,1),(3,2),(6,3),(6,1),(2,4),(4,1)])\n",
    "A2 = nx.adjacency_matrix(DG)\n"
   ]
  },
  {
   "cell_type": "code",
   "execution_count": 31,
   "metadata": {
    "collapsed": false
   },
   "outputs": [
    {
     "name": "stdout",
     "output_type": "stream",
     "text": [
      "Adjacency Matrix before swap\n",
      "[[0 1 1 1 0 1]\n",
      " [1 0 1 1 0 0]\n",
      " [1 1 0 0 0 1]\n",
      " [1 1 0 0 0 0]\n",
      " [0 0 0 0 0 0]\n",
      " [1 0 1 0 0 0]]\n",
      "\n",
      " Adjacency Matrix after swap\n",
      "[[0 1 1 1 1 0]\n",
      " [1 0 1 1 0 0]\n",
      " [1 1 0 0 1 0]\n",
      " [1 1 0 0 0 0]\n",
      " [1 0 1 0 0 0]\n",
      " [0 0 0 0 0 0]]\n",
      "\n",
      " Linked list before swap\n",
      "[(1, 2), (1, 3), (1, 4), (1, 6), (2, 3), (2, 4), (3, 6)]\n",
      "\n",
      " Linked list after swap\n",
      "[(1, 2), (1, 3), (1, 4), (1, 5), (2, 3), (2, 4), (3, 5)]\n",
      "\n",
      " Average cluster coefficient\n",
      "0.638888888889\n"
     ]
    }
   ],
   "source": [
    "print('Adjacency Matrix before swap')\n",
    "print(A1.todense()) \n",
    "print('\\n Adjacency Matrix after swap')\n",
    "print(A1b.todense())\n",
    "print('\\n Linked list before swap')\n",
    "print(L1)\n",
    "print('\\n Linked list after swap')\n",
    "print(L1b)\n",
    "print('\\n Average cluster coefficient')\n",
    "print(Acc) "
   ]
  },
  {
   "cell_type": "markdown",
   "metadata": {},
   "source": [
    "Adjacency matrix will swap the rows 5 and 6 consecutively and in term sof linked list only the edges with changed point will be changed the rest will stay the same."
   ]
  },
  {
   "cell_type": "markdown",
   "metadata": {
    "collapsed": true
   },
   "source": [
    "e) The difference in both of this representations is just visual. Memory occupation is as follows: https://www.dropbox.com/s/uxoel4tms5wb1ya/Differences%20in%20memory.jpg?dl=0 "
   ]
  },
  {
   "cell_type": "code",
   "execution_count": 32,
   "metadata": {
    "collapsed": false
   },
   "outputs": [
    {
     "name": "stdout",
     "output_type": "stream",
     "text": [
      "[[3, 6, 1], [2, 4, 1], [2, 3, 1]]\n"
     ]
    }
   ],
   "source": [
    "CycUG = nx.cycle_basis(UG,1) #Cycles from node 1 in UG (3)\n",
    "print(CycUG)"
   ]
  },
  {
   "cell_type": "code",
   "execution_count": 33,
   "metadata": {
    "collapsed": false
   },
   "outputs": [
    {
     "name": "stdout",
     "output_type": "stream",
     "text": [
      "[1, 2, 4]\n",
      "[1, 2, 3]\n",
      "[2, 3]\n"
     ]
    }
   ],
   "source": [
    "for i in nx.simple_cycles(DG): #Cycles in DG (2)\n",
    "    print i"
   ]
  },
  {
   "cell_type": "markdown",
   "metadata": {
    "collapsed": true
   },
   "source": [
    "## 2.5. Bipartite Networks"
   ]
  },
  {
   "cell_type": "code",
   "execution_count": 34,
   "metadata": {
    "collapsed": false
   },
   "outputs": [
    {
     "data": {
      "text/plain": [
       "matrix([[0, 0, 0, 0, 0, 0, 1, 0, 0, 0, 0],\n",
       "        [0, 0, 0, 0, 0, 0, 0, 0, 1, 0, 0],\n",
       "        [0, 0, 0, 0, 0, 0, 1, 1, 1, 0, 0],\n",
       "        [0, 0, 0, 0, 0, 0, 0, 0, 1, 1, 0],\n",
       "        [0, 0, 0, 0, 0, 0, 0, 0, 1, 0, 1],\n",
       "        [0, 0, 0, 0, 0, 0, 0, 0, 0, 0, 1],\n",
       "        [1, 0, 1, 0, 0, 0, 0, 0, 0, 0, 0],\n",
       "        [0, 0, 1, 0, 0, 0, 0, 0, 0, 0, 0],\n",
       "        [0, 1, 1, 1, 1, 0, 0, 0, 0, 0, 0],\n",
       "        [0, 0, 0, 1, 0, 0, 0, 0, 0, 0, 0],\n",
       "        [0, 0, 0, 0, 1, 1, 0, 0, 0, 0, 0]])"
      ]
     },
     "execution_count": 34,
     "metadata": {},
     "output_type": "execute_result"
    }
   ],
   "source": [
    "q25=nx.Graph()\n",
    "q25.add_nodes_from([1,2,3,4,5,6,7,8,9,10,11])\n",
    "q25.add_edges_from([(1,7),(2,9),(3,7),(3,8),(3,9),(4,9),(4,10),(5,9),(5,11),(6,11)])\n",
    "nx.adjacency_matrix(q25).todense()"
   ]
  },
  {
   "cell_type": "markdown",
   "metadata": {},
   "source": [
    "why is it block diagonal matrix (isnt it) - Ask Sune"
   ]
  },
  {
   "cell_type": "code",
   "execution_count": 35,
   "metadata": {
    "collapsed": true
   },
   "outputs": [],
   "source": [
    "purple=nx.adjacency_matrix(q25).todense()\n",
    "green=nx.adjacency_matrix(q25).todense()\n",
    "purple[0:5]=0\n",
    "green[6:10]=0"
   ]
  },
  {
   "cell_type": "code",
   "execution_count": 36,
   "metadata": {
    "collapsed": false
   },
   "outputs": [
    {
     "data": {
      "text/plain": [
       "matrix([[0, 0, 0, 0, 0, 0, 1, 0, 0, 0, 0],\n",
       "        [0, 0, 0, 0, 0, 0, 0, 0, 1, 0, 0],\n",
       "        [0, 0, 0, 0, 0, 0, 1, 1, 1, 0, 0],\n",
       "        [0, 0, 0, 0, 0, 0, 0, 0, 1, 1, 0],\n",
       "        [0, 0, 0, 0, 0, 0, 0, 0, 1, 0, 1],\n",
       "        [0, 0, 0, 0, 0, 0, 0, 0, 0, 0, 1],\n",
       "        [0, 0, 0, 0, 0, 0, 0, 0, 0, 0, 0],\n",
       "        [0, 0, 0, 0, 0, 0, 0, 0, 0, 0, 0],\n",
       "        [0, 0, 0, 0, 0, 0, 0, 0, 0, 0, 0],\n",
       "        [0, 0, 0, 0, 0, 0, 0, 0, 0, 0, 0],\n",
       "        [0, 0, 0, 0, 1, 1, 0, 0, 0, 0, 0]])"
      ]
     },
     "execution_count": 36,
     "metadata": {},
     "output_type": "execute_result"
    }
   ],
   "source": [
    "green"
   ]
  },
  {
   "cell_type": "code",
   "execution_count": 37,
   "metadata": {
    "collapsed": false
   },
   "outputs": [
    {
     "data": {
      "text/plain": [
       "matrix([[0, 0, 0, 0, 0, 0, 0, 0, 0, 0, 0],\n",
       "        [0, 0, 0, 0, 0, 0, 0, 0, 0, 0, 0],\n",
       "        [0, 0, 0, 0, 0, 0, 0, 0, 0, 0, 0],\n",
       "        [0, 0, 0, 0, 0, 0, 0, 0, 0, 0, 0],\n",
       "        [0, 0, 0, 0, 0, 0, 0, 0, 0, 0, 0],\n",
       "        [0, 0, 0, 0, 0, 0, 0, 0, 0, 0, 1],\n",
       "        [1, 0, 1, 0, 0, 0, 0, 0, 0, 0, 0],\n",
       "        [0, 0, 1, 0, 0, 0, 0, 0, 0, 0, 0],\n",
       "        [0, 1, 1, 1, 1, 0, 0, 0, 0, 0, 0],\n",
       "        [0, 0, 0, 1, 0, 0, 0, 0, 0, 0, 0],\n",
       "        [0, 0, 0, 0, 1, 1, 0, 0, 0, 0, 0]])"
      ]
     },
     "execution_count": 37,
     "metadata": {},
     "output_type": "execute_result"
    }
   ],
   "source": [
    "purple"
   ]
  },
  {
   "cell_type": "code",
   "execution_count": 38,
   "metadata": {
    "collapsed": false
   },
   "outputs": [
    {
     "name": "stdout",
     "output_type": "stream",
     "text": [
      "Bottom Edges\n",
      "[(8, 9), (8, 7), (9, 10), (9, 11), (9, 7)]\n",
      "Bottom Adjacency Matrix\n",
      "[[0 1 0 0 1]\n",
      " [1 0 1 1 1]\n",
      " [0 1 0 0 0]\n",
      " [0 1 0 0 0]\n",
      " [1 1 0 0 0]]\n",
      "\n",
      "Top Edges\n",
      "[(1, 3), (2, 3), (2, 4), (2, 5), (3, 4), (3, 5), (4, 5), (5, 6)]\n",
      "Top Adjacency Matrix\n",
      "[[0 0 1 0 0 0]\n",
      " [0 0 1 1 1 0]\n",
      " [1 1 0 1 1 0]\n",
      " [0 1 1 0 1 0]\n",
      " [0 1 1 1 0 1]\n",
      " [0 0 0 0 1 0]]\n"
     ]
    }
   ],
   "source": [
    "Bip=nx.Graph()\n",
    "from networkx.algorithms import bipartite\n",
    "Bip.add_nodes_from([1,2,3,4,5,6], bipartite=0) # Add the node attribute \"bipartite\" Violet\n",
    "Bip.add_nodes_from([7,8,9,10,11], bipartite=1) # Green\n",
    "Bip.add_edges_from([(1,7),(2,9),(3,7),(3,8),(3,9),(4,9),(4,10),(5,9),(5,11),(6,11)])\n",
    "top, bottom = bipartite.sets(Bip)\n",
    "\n",
    "BipGraphBottom = bipartite.projected_graph(Bip, bottom)\n",
    "print(\"Bottom Edges\")\n",
    "print BipGraphBottom.edges()\n",
    "print(\"Bottom Adjacency Matrix\")\n",
    "print nx.adjacency_matrix(BipGraphBottom).todense()\n",
    "print\n",
    "BipGraphTop = bipartite.projected_graph(Bip, top)\n",
    "print(\"Top Edges\")\n",
    "print BipGraphTop.edges()\n",
    "print(\"Top Adjacency Matrix\")\n",
    "print nx.adjacency_matrix(BipGraphTop).todense()\n"
   ]
  },
  {
   "cell_type": "code",
   "execution_count": 39,
   "metadata": {
    "collapsed": false
   },
   "outputs": [
    {
     "name": "stdout",
     "output_type": "stream",
     "text": [
      "list of degree of edges - purple one: [1, 1, 3, 2, 2, 1]\n",
      "average degree bipartite network - purple one: 1.66666666667\n",
      "list of degree of edges - green one: [1, 4, 1, 2, 2]\n",
      "average degree bipartite network - green one: 2.0\n"
     ]
    }
   ],
   "source": [
    "from __future__ import division\n",
    "def get_average_degree(graph, nodes=None, print_edges=False):\n",
    "    if not nodes:\n",
    "        nodes = graph.nodes()\n",
    "    deg_graph = graph.degree(nbunch=nodes)\n",
    "    sum_of_edges = sum(deg_graph.values())\n",
    "    deg = sum_of_edges/len(nodes)\n",
    "    if print_edges:\n",
    "        return deg, deg_graph.values()\n",
    "    return deg\n",
    "\n",
    "degree_p, edge_p = get_average_degree(q25, [1,2,3,4,5,6], print_edges=True)\n",
    "print \"list of degree of edges - purple one:\", edge_p\n",
    "print \"average degree bipartite network - purple one:\", degree_p\n",
    "\n",
    "degree_g, edge_g = get_average_degree(q25, [7,8,9,10,11], print_edges=True)\n",
    "print \"list of degree of edges - green one:\", edge_g\n",
    "print \"average degree bipartite network - green one:\", degree_g\n",
    "    "
   ]
  },
  {
   "cell_type": "code",
   "execution_count": 40,
   "metadata": {
    "collapsed": false
   },
   "outputs": [
    {
     "name": "stdout",
     "output_type": "stream",
     "text": [
      "list of degree of edges in projected network - purple one: [1, 3, 4, 3, 4, 1]\n",
      "average degree of projected network - purple one: 2.66666666667\n",
      "list of degree of edges in projected network - green one: [2, 4, 1, 1, 2]\n",
      "average degree of projected network - green one: 2.0\n"
     ]
    }
   ],
   "source": [
    "degree_pp, edge_pp = get_average_degree(BipGraphTop, print_edges=True)\n",
    "print \"list of degree of edges in projected network - purple one:\", edge_pp\n",
    "print \"average degree of projected network - purple one:\", degree_pp\n",
    "\n",
    "degree_pg, edge_pg = get_average_degree(BipGraphBottom, print_edges=True)\n",
    "print \"list of degree of edges in projected network - green one:\", edge_pg\n",
    "print \"average degree of projected network - green one:\", degree_pg\n",
    "\n"
   ]
  },
  {
   "cell_type": "markdown",
   "metadata": {},
   "source": [
    "## Part 3\n"
   ]
  },
  {
   "cell_type": "code",
   "execution_count": 63,
   "metadata": {
    "collapsed": false
   },
   "outputs": [
    {
     "name": "stdout",
     "output_type": "stream",
     "text": [
      "[  17   94  347  873 1286 1276  757  284   59    7]\n",
      "[ 1.57509182  1.66244376  1.7497957   1.83714764  1.92449959  2.01185153\n",
      "  2.09920347  2.18655541  2.27390735  2.36125929  2.44861123]\n"
     ]
    }
   ],
   "source": [
    "import numpy as np\n",
    "import matplotlib.pyplot as plt\n",
    "import random as rn\n",
    "\n",
    "#Let's do a gentle start and use the random library generate 5000 data points from a Gaussian distribution with μ=2μ=2 and σ=0.125σ=0.125.\n",
    "\n",
    "my,sigma=2,0.125\n",
    "list1 = np.random.normal(my,sigma,5000)\n",
    "\n",
    "#Now, let's use numpy.histogram to bin those number into 10 bins. What does the numpy.\n",
    "#histogram function return?\n",
    "\n",
    "hist=np.histogram(list1,10)\n",
    "print hist[0]\n",
    "\n",
    "print hist[1]"
   ]
  },
  {
   "cell_type": "markdown",
   "metadata": {},
   "source": [
    "#Do the two arrays have the same length?\n",
    "\n",
    "#No, first amount have altimes one less item."
   ]
  },
  {
   "cell_type": "code",
   "execution_count": 64,
   "metadata": {
    "collapsed": false
   },
   "outputs": [
    {
     "name": "stdout",
     "output_type": "stream",
     "text": [
      "Difference (dist)\n",
      "0.087351941015\n"
     ]
    },
    {
     "data": {
      "text/plain": [
       "[<matplotlib.lines.Line2D at 0xa99f748>]"
      ]
     },
     "execution_count": 64,
     "metadata": {},
     "output_type": "execute_result"
    },
    {
     "data": {
      "image/png": "[encoded data removed]",
      "text/plain": [
       "<matplotlib.figure.Figure at 0xa3b6f98>"
      ]
     },
     "metadata": {},
     "output_type": "display_data"
    }
   ],
   "source": [
    "#Then we use matplotlib.pyplot.plot to plot the binned data. \n",
    "#You will have to deal with the fact that the counts- \n",
    "#and bin-arrays have different lengths.\n",
    "\n",
    "%matplotlib inline\n",
    "\n",
    "dist = (hist[1][1]-hist[1][0])/1\n",
    "hist1=hist[1][0:-1]+dist\n",
    "hist1\n",
    "print(\"Difference (dist)\")\n",
    "print dist\n",
    "\n",
    "plt.plot(hist1,hist[0])\n",
    "\n",
    "# It is used the middle of the elements as value for make deal with the difference"
   ]
  },
  {
   "cell_type": "code",
   "execution_count": 65,
   "metadata": {
    "collapsed": false
   },
   "outputs": [
    {
     "name": "stdout",
     "output_type": "stream",
     "text": [
      "Max\n",
      "22\n",
      "Min\n",
      "1\n"
     ]
    }
   ],
   "source": [
    "#But binning real numbers into a fixed number of bins is easy when numpy.histogram does all the work and \n",
    "#finds the right bin boundaries for you. Now we'll generate a bunch of integers and set the bin boundaries\n",
    "#manually. This time, let's grab data from a Poisson distribution. As it turns out numpy also has some convenient\n",
    "#random number generators. Use numpy.random.poisson to generate 5000 numbers drawn from a Poisson distribution \n",
    "#characterized by λ=10λ=10. Find the maximum and minimum value of your 5000 random numbers.\n",
    "\n",
    "random_poisson = np.random.poisson(10, 5000)\n",
    "print\"Max\"\n",
    "print max(random_poisson)\n",
    "print\"Min\"\n",
    "print min(random_poisson)"
   ]
  },
  {
   "cell_type": "code",
   "execution_count": 66,
   "metadata": {
    "collapsed": false
   },
   "outputs": [],
   "source": [
    "#ONE DOT MISSING\n",
    "#Binning and plotting degree distributions.\n",
    "#Let's generate the Erdös-Renyi (ER) network which has a degree distribution that matches the Poisson distribution above. \n",
    "#First we have to figure out which values the ER parameters (N and p) should assume. It's easy to see that N=5000N=5000, \n",
    "#but how do you find pp? Hint: The parameter λλ in the Poisson distribution corresponds to the average degree, so you have \n",
    "#to find a pp that results in an average degree, k=10k=10. And you know that ⟨k⟩=p(N−1)⟨k⟩=p(N−1), which will give you pp. \n",
    "#Note that Python by default returns the result of divisions as the most precise of the datatypes involved (for instance, \n",
    "#try computing 1/2 and 1.0/2.0 in your notebook). If you want division to always give you a decimal number, you can enter \n",
    "#from __future__ import division at the beginning of your notebook.\n",
    "\n",
    "ER = nx.gnp_random_graph(5000,(10.0/4999.0))\n",
    "\n"
   ]
  },
  {
   "cell_type": "code",
   "execution_count": 67,
   "metadata": {
    "collapsed": true
   },
   "outputs": [],
   "source": [
    "deghist=nx.degree_histogram(ER)"
   ]
  },
  {
   "cell_type": "code",
   "execution_count": 68,
   "metadata": {
    "collapsed": false
   },
   "outputs": [
    {
     "data": {
      "text/plain": [
       "<matplotlib.text.Text at 0xa7e3470>"
      ]
     },
     "execution_count": 68,
     "metadata": {},
     "output_type": "execute_result"
    },
    {
     "data": {
      "image/png": "[encoded data removed]",
      "text/plain": [
       "<matplotlib.figure.Figure at 0x8e45d68>"
      ]
     },
     "metadata": {},
     "output_type": "display_data"
    }
   ],
   "source": [
    "plt.bar(range(0,len(deghist)),deghist)\n",
    "plt.title('Degree Histogram')\n",
    "plt.ylabel('Count')\n",
    "plt.xlabel('Degree')\n"
   ]
  },
  {
   "cell_type": "markdown",
   "metadata": {},
   "source": [
    "## Part 4 \n"
   ]
  },
  {
   "cell_type": "markdown",
   "metadata": {},
   "source": [
    "## 3.1 Erdos Renyi Networks\n",
    "Consider an Erdős-Rényi network with N = 3,000 nodes, connected to\n",
    "each other with probability p = 10–3.\n",
    "(a) What is the expected number of links, 〈L〉?\n",
    " L = p*[N*(N-1)/2]\n"
   ]
  },
  {
   "cell_type": "code",
   "execution_count": 69,
   "metadata": {
    "collapsed": false
   },
   "outputs": [],
   "source": [
    "from __future__ import division\n",
    "import math\n",
    "\n",
    "N = 3000\n",
    "p = math.pow(10, -3)\n",
    "ERG31 = nx.erdos_renyi_graph(N,p)"
   ]
  },
  {
   "cell_type": "code",
   "execution_count": 70,
   "metadata": {
    "collapsed": false
   },
   "outputs": [
    {
     "name": "stdout",
     "output_type": "stream",
     "text": [
      "Number of links in this network is = 4498.5\n"
     ]
    }
   ],
   "source": [
    "L = p*(N*(N-1)/2)\n",
    "print \"Number of links in this network is =\",L "
   ]
  },
  {
   "cell_type": "markdown",
   "metadata": {},
   "source": [
    "(b) In which regime is the network?\n",
    "The network is in superstrict regime $$⟨k⟩ > 1 (p>\\frac{1}{N})$$\n"
   ]
  },
  {
   "cell_type": "code",
   "execution_count": 71,
   "metadata": {
    "collapsed": false
   },
   "outputs": [
    {
     "name": "stdout",
     "output_type": "stream",
     "text": [
      "(2.999) > 1 (0.001 > 0.000333333333333)\n"
     ]
    }
   ],
   "source": [
    "k=p*(N-1)\n",
    "print '({0}) > {1} ({2} > {3})'.format(k, 1, p, 1/N)"
   ]
  },
  {
   "cell_type": "markdown",
   "metadata": {},
   "source": [
    "(c) Calculate the probability pc so that the network is at the critical\n",
    "point."
   ]
  },
  {
   "cell_type": "markdown",
   "metadata": {},
   "source": [
    "pc = 1/N"
   ]
  },
  {
   "cell_type": "code",
   "execution_count": 72,
   "metadata": {
    "collapsed": false
   },
   "outputs": [
    {
     "name": "stdout",
     "output_type": "stream",
     "text": [
      "Critical point for this network is pc = 0.000333333333333\n",
      "With this probability pc: <k> =  0.999666666667\n"
     ]
    }
   ],
   "source": [
    "pc=1/N\n",
    "print 'Critical point for this network is pc =',pc\n",
    "\n",
    "#conditions for the emergence of the giant component  is (k)=1\n",
    "\n",
    "kc=pc*(N-1)\n",
    "print \"With this probability pc: <k> = \",kc"
   ]
  },
  {
   "cell_type": "markdown",
   "metadata": {},
   "source": [
    "(d) Given the linking probability p = 10–3, calculate the number of\n",
    "nodes Ncr so that the network has only one component.\n"
   ]
  },
  {
   "cell_type": "code",
   "execution_count": 73,
   "metadata": {
    "collapsed": false
   },
   "outputs": [
    {
     "name": "stdout",
     "output_type": "stream",
     "text": [
      "Number of nodes with p=0.001 and <k>=0.999666666667 is 1000.66666667\n"
     ]
    }
   ],
   "source": [
    "Ncr=(kc/p)+1\n",
    "print \"Number of nodes with p={0} and <k>={1} is {2}\".format(p, kc, Ncr)"
   ]
  },
  {
   "cell_type": "markdown",
   "metadata": {},
   "source": [
    "(e) For the network in (d), calculate the average degree 〈kcr〉 and the\n",
    "average distance between two randomly chosen nodes 〈d〉."
   ]
  },
  {
   "cell_type": "code",
   "execution_count": 74,
   "metadata": {
    "collapsed": false
   },
   "outputs": [
    {
     "name": "stdout",
     "output_type": "stream",
     "text": [
      "average degree of the random network is (d) =  1.032\n"
     ]
    }
   ],
   "source": [
    "ERG31e = nx.erdos_renyi_graph(int(Ncr), p)\n",
    "\n",
    "Kcr = get_average_degree(ERG31e)\n",
    "print \"average degree of the random network is (d) = \",Kcr"
   ]
  },
  {
   "cell_type": "code",
   "execution_count": 75,
   "metadata": {
    "collapsed": false
   },
   "outputs": [
    {
     "name": "stdout",
     "output_type": "stream",
     "text": [
      "ln(N) = 6.90775527898\n"
     ]
    }
   ],
   "source": [
    "lnN = math.log(int(Ncr))\n",
    "print \"ln(N) =\",lnN"
   ]
  },
  {
   "cell_type": "code",
   "execution_count": 76,
   "metadata": {
    "collapsed": false
   },
   "outputs": [
    {
     "name": "stdout",
     "output_type": "stream",
     "text": [
      "average distance between two random nodes for the netwrok is (d) = 219.303098317\n"
     ]
    }
   ],
   "source": [
    "#average distance between two random nodes in network (Formula 3.19 from book)\n",
    "d = lnN/math.log(Kcr)\n",
    "print \"average distance between two random nodes for the netwrok is (d) =\",d\n"
   ]
  },
  {
   "cell_type": "code",
   "execution_count": null,
   "metadata": {
    "collapsed": true
   },
   "outputs": [],
   "source": [
    "(f) "
   ]
  },
  {
   "cell_type": "markdown",
   "metadata": {},
   "source": [
    "Paths. Plot a random network with 200 nodes and an average degree of 1.5. \n",
    "(I suggest using networkx.draw and reading the documentation carefully to get an overview of all the options \n",
    "and what they look like. For example, you may want to shrink the node size).\n",
    "* Extract the Giant Connected Component, GCC. (Hint. You can use networkx.connected_component_subgraphs)\n",
    "* Choose a node at random from the GCC. (Hint: You may want to try random.choice.)\n",
    "* Find all nodes that are precisely 2 steps away from that node. (Hint. I suggest networkx.single_source_shortest_path_length)\n",
    "* Plot the GCC with the following choice of colors. Starting node black (\"#000000\"). The nodes 2 steps away red (\"#ff0000\"). All other nodes blue (\"#A0CBE2\"). Again, I suggest using networkx.draw and reading the documentation carefully find out how to color individual nodes.\n"
   ]
  },
  {
   "cell_type": "code",
   "execution_count": 80,
   "metadata": {
    "collapsed": false
   },
   "outputs": [
    {
     "name": "stdout",
     "output_type": "stream",
     "text": [
      "chosen random starting node is 43 \n",
      "it has following nodes precisely two steps away:{88: 2, 43: 0, 52: 1, 142: 2}\n"
     ]
    }
   ],
   "source": [
    "import random as rand\n",
    "N = 200\n",
    "k = 1.5\n",
    "\n",
    "p=k/(N-1)\n",
    "ERG1 = nx.erdos_renyi_graph(N, p)\n",
    "\n",
    "#Extract the Giant Connected Component, GCC. (Hint. You can use networkx.connected_component_subgraphs)\n",
    "sub_graphs = sorted(nx.connected_component_subgraphs(ERG1), key=len)\n",
    "#generator of graphs, one for each connected component of ERG1\n",
    "gcc = sub_graphs[-1]\n",
    "#Choose a node at random from the GCC.\n",
    "rand_node = rand.choice(gcc.nodes())\n",
    "#Find all nodes that are precisely 2 steps away from that node.\n",
    "nodes_two_steps = nx.single_source_shortest_path_length(gcc, source=rand_node, cutoff=2)\n",
    "print \"chosen random starting node is {0} \\nit has following nodes precisely two steps away:{1}\".format(rand_node, nodes_two_steps)"
   ]
  },
  {
   "cell_type": "code",
   "execution_count": 84,
   "metadata": {
    "collapsed": false
   },
   "outputs": [
    {
     "data": {
      "image/png": "[encoded data removed]",
      "text/plain": [
       "<matplotlib.figure.Figure at 0x9383470>"
      ]
     },
     "metadata": {},
     "output_type": "display_data"
    }
   ],
   "source": [
    "pos = nx.spring_layout(ERG1, pos=nodes_two_steps)\n",
    "nx.draw(gcc, pos, with_labels=False, node_size=50, node_color='#A0CBE2')\n",
    "nx.draw_networkx_nodes(gcc, pos, with_labels=False, node_size=50, nodelist=nodes_two_steps.keys(), node_color='#FF0000')\n",
    "nx.draw_networkx_nodes(gcc, pos, with_labels=False, node_size=50, nodelist=[rand_node], node_color='#000000')\n",
    "\n",
    "plt.draw()"
   ]
  },
  {
   "cell_type": "code",
   "execution_count": null,
   "metadata": {
    "collapsed": true
   },
   "outputs": [],
   "source": []
  }
 ],
 "metadata": {
  "anaconda-cloud": {},
  "kernelspec": {
   "display_name": "Python [Root]",
   "language": "python",
   "name": "Python [Root]"
  },
  "language_info": {
   "codemirror_mode": {
    "name": "ipython",
    "version": 2
   },
   "file_extension": ".py",
   "mimetype": "text/x-python",
   "name": "python",
   "nbconvert_exporter": "python",
   "pygments_lexer": "ipython2",
   "version": "2.7.12"
  }
 },
 "nbformat": 4,
 "nbformat_minor": 0
}
